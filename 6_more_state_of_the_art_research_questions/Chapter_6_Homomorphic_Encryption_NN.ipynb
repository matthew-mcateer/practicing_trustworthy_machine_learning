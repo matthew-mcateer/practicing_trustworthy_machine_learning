{
  "cells": [
    {
      "attachments": {},
      "cell_type": "markdown",
      "metadata": {
        "id": "R8haMpUx3sx0"
      },
      "source": [
        "# Chapter 6: Homomorphic Encryption NN\n",
        "\n",
        "| **Platform**           | **Link**                                                                                                                                                                                                                                                                                               | **Notes**                                                                                                                                                                                                                                                                                                                                                                                                                                                                                                                                                                                                                                                                                                                                                                                                                                                                                                                                                    |\n",
        "|------------------------|--------------------------------------------------------------------------------------------------------------------------------------------------------------------------------------------------------------------------------------------------------------------------------------------------------|--------------------------------------------------------------------------------------------------------------------------------------------------------------------------------------------------------------------------------------------------------------------------------------------------------------------------------------------------------------------------------------------------------------------------------------------------------------------------------------------------------------------------------------------------------------------------------------------------------------------------------------------------------------------------------------------------------------------------------------------------------------------------------------------------------------------------------------------------------------------------------------------------------------------------------------------------------------|\n",
        "| _Local Folder_         | [Deep Dive Example: Homomorphic Encryption NN](6_more_state_of_the_art_research_questions/Chapter_6_Homomorphic_Encryption_NN.ipynb)                                                                                                                                                                                                                                |  `6_more_state_of_the_art_research_questions/`<br>`Chapter_6_Homomorphic_Encryption_NN.ipynb`                                                                                                                                                                                                                                                                                                                                                                                                                                                                                                                                                                                                                                                                                                                                                                                                                                                                                                                                                            |\n",
        "| _Book Chapter_         | [Chapter 6: More State-of-the-Art Research Questions](https://learning.oreilly.com/library/view/practicing-trustworthy-machine/9781098120269/ch03.html)                                                                                                                                                                                 | Ebook available from [O'Reilly](https://www.oreilly.com/library/view/practicing-trustworthy-machine/9781098120269/).<br>Physical book available from [Amazon](https://www.amazon.com/Practicing-Trustworthy-Machine-Learning-Transparent/dp/1098120272)                                                                                                                                                                                                                                                                                                                                                                                                                                                                                                                                                                                                                                                                                                      |\n",
        "| _GitHub_               | [![GitHub](https://img.shields.io/badge/-View%20on%20GitHub-181717?logo=github&logoColor=ffffff)](https://github.com/matthew-mcateer/practicing_trustworthy_machine_learning/blob/main/6_more_state_of_the_art_research_questions/Chapter_6_Homomorphic_Encryption_NN.ipynb)                                                                          | Please star on GitHub so others can<br>find this repo and get help with implenting<br>their trustworthy AI pipelines<br> [![GitHub forks](https://img.shields.io/github/forks/matthew-mcateer/practicing_trustworthy_machine_learning.svg?style=social&label=Fork&maxAge=2592000)](https://github.com/matthew-mcateer/practicing_trustworthy_machine_learning/network/) <br> [![GitHub stars](https://img.shields.io/github/stars/matthew-mcateer/practicing_trustworthy_machine_learning.svg?style=social&label=Star&maxAge=2592000)](https://github.com/matthew-mcateer/practicing_trustworthy_machine_learning/stargazers/) <br> [![GitHub watchers](https://img.shields.io/github/watchers/matthew-mcateer/practicing_trustworthy_machine_learning.svg?style=social&label=Watch&maxAge=2592000)](https://github.com/matthew-mcateer/practicing_trustworthy_machine_learning/watchers/) <br>[`@matthew-mcateer`](https://github.com/matthew-mcateer) [![GitHub followers](https://img.shields.io/github/followers/matthew-mcateer?style=social&label=Follow&maxAge=2592000)](https://github.com/matthew-mcateer?tab=followers)<br>[`@pruksmhc`](https://github.com/pruksmhc) [![GitHub followers](https://img.shields.io/github/followers/pruksmhc?style=social&label=Follow&maxAge=2592000)](https://github.com/pruksmhc?tab=followers)<br>[`@shubhobm`](https://github.com/shubhobm) [![GitHub followers](https://img.shields.io/github/followers/shubhobm?style=social&label=Follow&maxAge=2592000)](https://github.com/shubhobm?tab=followers)  |\n",
        "| _Colab_                | [![Open In Colab](https://colab.research.google.com/assets/colab-badge.svg)](https://colab.research.google.com/github/matthew-mcateer/practicing_trustworthy_machine_learning/blob/main/6_more_state_of_the_art_research_questions/Chapter_6_Homomorphic_Encryption_NN.ipynb)                                                                         | Enable GPU<br> Colab Pro recommended                                                                                                                                                                                                                                                                                                                                                                                                                                                                                                                                                                                                                                                                                                                                                                                                                                                                                                                         |\n",
        "| _Kaggle_               | [ ![ Kaggle ]( https://kaggle.com/static/images/open-in-kaggle.svg ) ]( https://kaggle.com/kernels/welcome?src=https://github.com/matthew-mcateer/practicing_trustworthy_machine_learning/blob/main/6_more_state_of_the_art_research_questions/Chapter_6_Homomorphic_Encryption_NN.ipynb )                                                            | Enable GPU<br> Enable Internet                                                                                                                                                                                                                                                                                                                                                                                                                                                                                                                                                                                                                                                                                                                                                                                                                                                                                                                               |\n",
        "| _Gradient_             | [ ![ Gradient ]( https://assets.paperspace.io/img/gradient-badge.svg ) ]( https://console.paperspace.com/github/matthew-mcateer/practicing_trustworthy_machine_learning/blob/main/6_more_state_of_the_art_research_questions/Chapter_6_Homomorphic_Encryption_NN.ipynb )                                                                              | Enable GPU                                                                                                                                                                                                                                                                                                                                                                                                                                                                                                                                                                                                                                                                                                                                                                                                                                                                                                                                                   |\n",
        "| _SageMaker Studio Lab_ | [![ Open In SageMaker Studio Lab ]( https://studiolab.sagemaker.aws/studiolab.svg ) ]( https://studiolab.sagemaker.aws/import/github/matthew-mcateer/practicing_trustworthy_machine_learning/blob/main/6_more_state_of_the_art_research_questions/Chapter_6_Homomorphic_Encryption_NN.ipynb )                                                         | Recommend `ml.g4dn.xlarge` instance at minimum<br>(alternatively, `g4dn.2xlarge` if using EC2 instance)                                                                                                                                                                                                                                                                                                                                                                                                                                                                                                                                                                                                                                                                                                                                                                                                                                                                                                               |\n",
        "| _Binder_               | [ ![ Binder ]( https://mybinder.org/badge_logo.svg ) ]( https://mybinder.org/v2/gh/matthew-mcateer/practicing_trustworthy_machine_learning/HEAD?urlpath=https%3A%2F%2Fgithub.com%2Fmatthew-mcateer%2Fpracticing_trustworthy_machine_learning%2Fblob%2Fmain%2F6_more_state_of_the_art_research_questions%2FChapter_6_Homomorphic_Encryption_NN.ipynb ) | May run slowly without GPU                                                                                                                                                                                                                                                                                                                                                                                                                                                                                                                                                                                                                                                                                                                                                                                                                                                                                                                                   |\n",
        "\n",
        "\n",
        "The contents of this notebook combine materials from the book [\"Practicing Trustworthy Machine Learning\"](https://www.oreilly.com/library/view/practicing-trustworthy-machine/9781098120269/), and the [ODSC West 2022](https://odsc.com/california/) Presentation promoting said book. Much of the plain text follows that presentation.\n",
        "\n",
        "<!--\n",
        "Originally found on GitHub at https://github.com/matthew-mcateer/practicing_trustworthy_machine_learning/blob/main/6_more_state_of_the_art_research_questions/Chapter_6_Homomorphic_Encryption_NN.ipynb\n",
        "-->\n",
        "\n",
        "Acknowledgements:\n",
        "\n",
        "* Ayoub Benaissa - Twitter: [@y0uben11](https://twitter.com/y0uben11)\n",
        "* Bogdan Cebere - Twitter: [@bcebere](https://twitter.com/bcebere)\n",
        "* Bilal Retiat - Twitter: [@philomath213](https://twitter.com/philomath213)\n",
        "\n",
        "Oh, and Alexander Ziller,\n",
        "Andrew Trask,\n",
        "Antonio Lopardo,\n",
        "Benjamin Szymkow,\n",
        "Bobby Wagner,\n",
        "Emma Bluemke,\n",
        "Jean-Mickael Nounahon,\n",
        "Jonathan Passerat-Palmbach,\n",
        "Kritika Prakash,\n",
        "Nick Rose,\n",
        "Théo Ryffel,\n",
        "Zarreen Naowal Reza,\n",
        "and Georgios Kaissis, **along with the rest of the OpenMined community**\n"
      ]
    },
    {
      "cell_type": "markdown",
      "metadata": {
        "id": "h-U4n1O7a-BD"
      },
      "source": [
        "So, privacy is a big concern in machine learning.\n",
        "\n",
        "You usually need a lot of data.\n",
        "\n",
        "While there are plenty of ways to lock up and secure your data to restrict access, the data itself usually needs to be exposed in some way to the model in order for it to learn.\n",
        "\n",
        "Now, what if you could keep the data locked up or encrypted, while still letting the ML model learn the patterns it needs to.\n",
        "\n",
        "This is the promise behind **homomorphically encrypted machine learning**.\n",
        "\n",
        "Now, there is a lot in this phrase, so let's break it down."
      ]
    },
    {
      "cell_type": "markdown",
      "metadata": {
        "id": "jkV9v7yo7W9a"
      },
      "source": [
        "## Part 1: What is a homomorphism?\n",
        "\n",
        "A homomorphism is a structure-preserving map between two algebraic structures of the same type (such as two groups, two rings, or two vector spaces). ([Wikipedia](https://en.wikipedia.org/wiki/Homomorphism))\n",
        "\n",
        "A homomorphism is a map between two algebraic structures of the same type (that is of the same name), that preserves the operations of the structures. This means a map $f:A\\to B$ between two sets $A$, $B$ equipped with the same structure such that, if the operation $🔴$ is an operation of the structure (supposed here, for simplification, to be a binary operation), then\n",
        "\n",
        "$$f(x 🔴 y)=f(x)🔴 f(y)$$\n",
        "\n",
        "for every pair $ x$, $ y$ of elements of $A$.[note 1] One says often that $f$ preserves the operation or is compatible with the operation.\n",
        "\n",
        "The operations that must be preserved by a homomorphism include 0-ary operations, that is the constants. In particular, when an identity element is required by the type of structure, the identity element of the first structure must be mapped to the corresponding identity element of the second structure.\n",
        "\n",
        "So, if the operation is preserved, including the identity operation (e.g., multiplying by 1 for multiplication, adding 0 for addition), this is a homomorphism.\n",
        "\n",
        "https://graphik-team.github.io/graal/doc/homomorphism-module"
      ]
    },
    {
      "cell_type": "code",
      "execution_count": null,
      "metadata": {
        "colab": {
          "base_uri": "https://localhost:8080/",
          "height": 319
        },
        "id": "_ktDd5a77WnO",
        "outputId": "bc02ef1c-a7a4-46d3-ce40-253e66d0c3cf"
      },
      "outputs": [
        {
          "data": {
            "image/png": "[encoded data removed]",
            "text/plain": [
              "<Figure size 720x360 with 2 Axes>"
            ]
          },
          "metadata": {},
          "output_type": "display_data"
        }
      ],
      "source": [
        "#@title homomorphism visualization { display-mode: \"form\" }\n",
        "\n",
        "# https://github.com/marcin-serwin/cographs/blob/9ba0fd53ec39550049e778da32028861ec932a01/cographs/utilities.py\n",
        "# https://github.com/RCSimpson/Thesis/blob/239c1f2abe2577d9934aece7dddc20b53d58a225/Motifs/motifVisualization.py\n",
        "# https://networkx.org/documentation/stable/reference/algorithms/isomorphism.html\n",
        "\n",
        "import networkx as nx\n",
        "import numpy as np\n",
        "import matplotlib.pyplot as plt\n",
        "\n",
        "# A collection of Python functions to generate examples of definitions pertinent to the Thesis.\n",
        "\n",
        "# ======================================================================================================================\n",
        "# Homomorphism Example\n",
        "# ======================================================================================================================\n",
        "\n",
        "def homomorphism():\n",
        "    labels = {}\n",
        "    labels[0] = 'A'\n",
        "    labels[1] = 'B'\n",
        "    labels[2] = 'C'\n",
        "    labels[3] = 'D'\n",
        "    A = np.ones((4,4)) - np.diag(np.diag(np.ones((4,4))))\n",
        "    A[0,1] = 0\n",
        "    A[1,0] = 0\n",
        "\n",
        "    B = np.ones((3,3)) - np.diag(np.diag(np.ones((3,3))))\n",
        "\n",
        "    fig = plt.figure(figsize=(10,5))\n",
        "    plt.subplot(121)\n",
        "    G = nx.from_numpy_matrix(A)\n",
        "    pos = nx.spring_layout(G)\n",
        "    nx.draw_networkx_edges(G, pos=pos)\n",
        "    nx.draw_networkx_nodes(G, pos=pos, node_color='c')\n",
        "    nx.draw_networkx_labels(G, pos=pos)\n",
        "    plt.title('$G$')\n",
        "\n",
        "    plt.subplot(122)\n",
        "    H = nx.from_numpy_matrix(B)\n",
        "    pos = nx.spring_layout(H)\n",
        "    nx.draw_networkx_edges(H, pos=pos)\n",
        "    nx.draw_networkx_nodes(H,pos=pos, node_color='c')\n",
        "    nx.draw_networkx_labels(H, pos=pos, labels={0:'A', 1:'B', 2:'C'})\n",
        "    plt.title('$H$')\n",
        "    plt.savefig('graph_homomorphism.png')\n",
        "\n",
        "homomorphism()"
      ]
    },
    {
      "cell_type": "markdown",
      "metadata": {
        "id": "DByBXXut7ZKI"
      },
      "source": [
        "## Part 2: What is homomorphic encryption?\n",
        "\n",
        "https://blog.openmined.org/build-an-homomorphic-encryption-scheme-from-scratch-with-python/\n"
      ]
    },
    {
      "cell_type": "markdown",
      "metadata": {
        "id": "Y7--t8yedQSe"
      },
      "source": [
        "A basic homomorphic encryption scheme inspired from BFV https://eprint.iacr.org/2012/144.pdf\n",
        "\n",
        "You can read my blog post explaining the implementation details here: https://www.ayoub-benaissa.com/blog/build-he-scheme-from-scratch-python/\n",
        "\n",
        "Disclaimer: This implementation doesn’t neither claim to be secure nor does it follow software engineering best practices, it is designed as simple as possible for the reader to understand the concepts behind homomorphic encryption schemes.\n",
        "\n",
        "The full implementation can be found on [this github gist from the OpenMined team](https://gist.github.com/youben11/f00bc95c5dde5e11218f14f7110ad289)"
      ]
    },
    {
      "cell_type": "code",
      "execution_count": null,
      "metadata": {
        "id": "TmuX6tKrc53x"
      },
      "outputs": [],
      "source": [
        "#@title Functions for random polynomial generation { display-mode: \"form\" }\n",
        "\n",
        "import numpy as np\n",
        "from numpy.polynomial import polynomial as poly\n",
        "\n",
        "def gen_binary_poly(size):\n",
        "    \"\"\"Generates a polynomial with coeffecients in [0, 1]\n",
        "    Args:\n",
        "        size: number of coeffcients, size-1 being the degree of the\n",
        "            polynomial.\n",
        "    Returns:\n",
        "        array of coefficients with the coeff[i] being \n",
        "        the coeff of x ^ i.\n",
        "    \"\"\"\n",
        "    return np.random.randint(0, 2, size, dtype=np.int64)\n",
        "\n",
        "\n",
        "def gen_uniform_poly(size, modulus):\n",
        "    \"\"\"Generates a polynomial with coeffecients being integers in Z_modulus\n",
        "    Args:\n",
        "        size: number of coeffcients, size-1 being the degree of the\n",
        "            polynomial.\n",
        "    Returns:\n",
        "        array of coefficients with the coeff[i] being \n",
        "        the coeff of x ^ i.\n",
        "    \"\"\"\n",
        "    return np.random.randint(0, modulus, size, dtype=np.int64)\n",
        "\n",
        "\n",
        "def gen_normal_poly(size):\n",
        "    \"\"\"Generates a polynomial with coeffecients in a normal distribution\n",
        "    of mean 0 and a standard deviation of 2, then discretize it.\n",
        "    Args:\n",
        "        size: number of coeffcients, size-1 being the degree of the\n",
        "            polynomial.\n",
        "    Returns:\n",
        "        array of coefficients with the coeff[i] being \n",
        "        the coeff of x ^ i.\n",
        "    \"\"\"\n",
        "    return np.int64(np.random.normal(0, 2, size=size))"
      ]
    },
    {
      "cell_type": "code",
      "execution_count": null,
      "metadata": {
        "id": "OJeL4Qfkc56Z"
      },
      "outputs": [],
      "source": [
        "#@title Functions for polynomial evaluation in $Z_q[X]/(X^N + 1)$ { display-mode: \"form\" }\n",
        "\n",
        "def polymul(x, y, modulus, poly_mod):\n",
        "    \"\"\"Add two polynoms\n",
        "    Args:\n",
        "        x, y: two polynoms to be added.\n",
        "        modulus: coefficient modulus.\n",
        "        poly_mod: polynomial modulus.\n",
        "    Returns:\n",
        "        A polynomial in Z_modulus[X]/(poly_mod).\n",
        "    \"\"\"\n",
        "    return np.int64(\n",
        "        np.round(poly.polydiv(poly.polymul(x, y) % modulus, poly_mod)[1] % modulus)\n",
        "    )\n",
        "\n",
        "\n",
        "def polyadd(x, y, modulus, poly_mod):\n",
        "    \"\"\"Multiply two polynoms\n",
        "    Args:\n",
        "        x, y: two polynoms to be multiplied.\n",
        "        modulus: coefficient modulus.\n",
        "        poly_mod: polynomial modulus.\n",
        "    Returns:\n",
        "        A polynomial in Z_modulus[X]/(poly_mod).\n",
        "    \"\"\"\n",
        "    return np.int64(\n",
        "        np.round(poly.polydiv(poly.polyadd(x, y) % modulus, poly_mod)[1] % modulus)\n",
        "    )"
      ]
    },
    {
      "cell_type": "code",
      "execution_count": null,
      "metadata": {
        "id": "byhmCOsRc5za"
      },
      "outputs": [],
      "source": [
        "#@title Functions for keygen, encryption and decryption { display-mode: \"form\" }\n",
        "\n",
        "def keygen(size, modulus, poly_mod):\n",
        "    \"\"\"Generate a public and secret keys\n",
        "    Args:\n",
        "        size: size of the polynoms for the public and secret keys.\n",
        "        modulus: coefficient modulus.\n",
        "        poly_mod: polynomial modulus.\n",
        "    Returns:\n",
        "        Public and secret key.\n",
        "    \"\"\"\n",
        "    s = gen_binary_poly(size)\n",
        "    a = gen_uniform_poly(size, modulus)\n",
        "    e = gen_normal_poly(size)\n",
        "    b = polyadd(polymul(-a, s, modulus, poly_mod), -e, modulus, poly_mod)\n",
        "\n",
        "    return (b, a), s\n",
        "\n",
        "\n",
        "def encrypt(pk, size, q, t, poly_mod, pt):\n",
        "    \"\"\"Encrypt an integer.\n",
        "    Args:\n",
        "        pk: public-key.\n",
        "        size: size of polynomials.\n",
        "        q: ciphertext modulus.\n",
        "        t: plaintext modulus.\n",
        "        poly_mod: polynomial modulus.\n",
        "        pt: integer to be encrypted.\n",
        "    Returns:\n",
        "        Tuple representing a ciphertext.      \n",
        "    \"\"\"\n",
        "    # encode the integer into a plaintext polynomial\n",
        "    m = np.array([pt] + [0] * (size - 1), dtype=np.int64) % t\n",
        "    delta = q // t\n",
        "    scaled_m = delta * m\n",
        "    e1 = gen_normal_poly(size)\n",
        "    e2 = gen_normal_poly(size)\n",
        "    u = gen_binary_poly(size)\n",
        "    ct0 = polyadd(\n",
        "        polyadd(\n",
        "            polymul(pk[0], u, q, poly_mod),\n",
        "            e1, q, poly_mod),\n",
        "        scaled_m, q, poly_mod\n",
        "    )\n",
        "    ct1 = polyadd(\n",
        "        polymul(pk[1], u, q, poly_mod),\n",
        "        e2, q, poly_mod\n",
        "    )\n",
        "    return (ct0, ct1)\n",
        "\n",
        "\n",
        "def decrypt(sk, size, q, t, poly_mod, ct):\n",
        "    \"\"\"Decrypt a ciphertext\n",
        "    Args:\n",
        "        sk: secret-key.\n",
        "        size: size of polynomials.\n",
        "        q: ciphertext modulus.\n",
        "        t: plaintext modulus.\n",
        "        poly_mod: polynomial modulus.\n",
        "        ct: ciphertext.\n",
        "    Returns:\n",
        "        Integer representing the plaintext.\n",
        "    \"\"\"\n",
        "    scaled_pt = polyadd(\n",
        "        polymul(ct[1], sk, q, poly_mod),\n",
        "        ct[0], q, poly_mod\n",
        "    )\n",
        "    delta = q // t\n",
        "    decrypted_poly = np.round(scaled_pt / delta) % t\n",
        "    return int(decrypted_poly[0])"
      ]
    },
    {
      "cell_type": "code",
      "execution_count": null,
      "metadata": {
        "id": "IVk-5rZrc5u9"
      },
      "outputs": [],
      "source": [
        "#@title Function for adding and multiplying encrypted values { display-mode: \"form\" }\n",
        "\n",
        "def add_plain(ct, pt, q, t, poly_mod):\n",
        "    \"\"\"Add a ciphertext and a plaintext.\n",
        "    Args:\n",
        "        ct: ciphertext.\n",
        "        pt: integer to add.\n",
        "        q: ciphertext modulus.\n",
        "        t: plaintext modulus.\n",
        "        poly_mod: polynomial modulus.\n",
        "    Returns:\n",
        "        Tuple representing a ciphertext.\n",
        "    \"\"\"\n",
        "    size = len(poly_mod) - 1\n",
        "    # encode the integer into a plaintext polynomial\n",
        "    m = np.array([pt] + [0] * (size - 1), dtype=np.int64) % t\n",
        "    delta = q // t\n",
        "    scaled_m = delta * m\n",
        "    new_ct0 = polyadd(ct[0], scaled_m, q, poly_mod)\n",
        "    return (new_ct0, ct[1])\n",
        "\n",
        "\n",
        "def add_cipher(ct1, ct2, q, poly_mod):\n",
        "    \"\"\"Add a ciphertext and a ciphertext.\n",
        "    Args:\n",
        "        ct1, ct2: ciphertexts.\n",
        "        q: ciphertext modulus.\n",
        "        poly_mod: polynomial modulus.\n",
        "    Returns:\n",
        "        Tuple representing a ciphertext.\n",
        "    \"\"\"\n",
        "    new_ct0 = polyadd(ct1[0], ct2[0], q, poly_mod)\n",
        "    new_ct1 = polyadd(ct1[1], ct2[1], q, poly_mod)\n",
        "    return (new_ct0, new_ct1)\n",
        "\n",
        "\n",
        "def mul_plain(ct, pt, q, t, poly_mod):\n",
        "    \"\"\"Multiply a ciphertext and a plaintext.\n",
        "    Args:\n",
        "        ct: ciphertext.\n",
        "        pt: integer to multiply.\n",
        "        q: ciphertext modulus.\n",
        "        t: plaintext modulus.\n",
        "        poly_mod: polynomial modulus.\n",
        "    Returns:\n",
        "        Tuple representing a ciphertext.\n",
        "    \"\"\"\n",
        "    size = len(poly_mod) - 1\n",
        "    # encode the integer into a plaintext polynomial\n",
        "    m = np.array([pt] + [0] * (size - 1), dtype=np.int64) % t\n",
        "    new_c0 = polymul(ct[0], m, q, poly_mod)\n",
        "    new_c1 = polymul(ct[1], m, q, poly_mod)\n",
        "    return (new_c0, new_c1)"
      ]
    },
    {
      "cell_type": "code",
      "execution_count": null,
      "metadata": {
        "colab": {
          "base_uri": "https://localhost:8080/"
        },
        "id": "J3SS6sODc5oO",
        "outputId": "eafabd44-910d-48f7-ba08-28203497e8f7"
      },
      "outputs": [
        {
          "name": "stdout",
          "output_type": "stream",
          "text": [
            "[+] Ciphertext ct1(73):\n",
            "\n",
            "\t ct1_0: [ 8177 17334 11008 19020  2896   769  3188 28856 25614 12125   693 27369\n",
            " 15305  6553 19151  8878]\n",
            "\t ct1_1: [ 2716 27725 14329  2040 17208 11308  7756  5462  1024 14866  6512 32337\n",
            "  3631  7668 32354 21934]\n",
            "\n",
            "[+] Ciphertext ct2(20):\n",
            "\n",
            "\t ct1_0: [26038  5448 24707 15722 30352 24668 14796 15622  9313  1331 24746 12055\n",
            " 16515  9300    77 19295]\n",
            "\t ct1_1: [15894 31964 28508 17732 23778 14131 21079 20051 30172 16576  7995   516\n",
            "   665  2276  6832  2056]\n",
            "\n",
            "[+] Decrypted ct3(ct1 + 7): 80\n",
            "[+] Decrypted ct4(ct2 * 5): 99\n"
          ]
        }
      ],
      "source": [
        "#@title Demo of the toy encryption scheme\n",
        "\n",
        "# Scheme's parameters\n",
        "# polynomial modulus degree\n",
        "n = 2**4\n",
        "# ciphertext modulus\n",
        "q = 2**15\n",
        "# plaintext modulus\n",
        "t = 2**8\n",
        "# polynomial modulus\n",
        "poly_mod = np.array([1] + [0] * (n - 1) + [1])\n",
        "# Keygen\n",
        "pk, sk = keygen(n, q, poly_mod)\n",
        "# Encryption\n",
        "pt1, pt2 = 73, 20\n",
        "cst1, cst2 = 7, 5\n",
        "ct1 = encrypt(pk, n, q, t, poly_mod, pt1)\n",
        "ct2 = encrypt(pk, n, q, t, poly_mod, pt2)\n",
        "\n",
        "print(\"[+] Ciphertext ct1({}):\".format(pt1))\n",
        "print(\"\")\n",
        "print(\"\\t ct1_0:\", ct1[0])\n",
        "print(\"\\t ct1_1:\", ct1[1])\n",
        "print(\"\")\n",
        "print(\"[+] Ciphertext ct2({}):\".format(pt2))\n",
        "print(\"\")\n",
        "print(\"\\t ct1_0:\", ct2[0])\n",
        "print(\"\\t ct1_1:\", ct2[1])\n",
        "print(\"\")\n",
        "\n",
        "# Evaluation\n",
        "ct3 = add_plain(ct1, cst1, q, t, poly_mod)\n",
        "ct4 = mul_plain(ct2, cst2, q, t, poly_mod)\n",
        "\n",
        "# Decryption\n",
        "decrypted_ct3 = decrypt(sk, n, q, t, poly_mod, ct3)\n",
        "decrypted_ct4 = decrypt(sk, n, q, t, poly_mod, ct4)\n",
        "\n",
        "print(\"[+] Decrypted ct3(ct1 + {}): {}\".format(cst1, decrypted_ct3))\n",
        "print(\"[+] Decrypted ct4(ct2 * {}): {}\".format(cst2, decrypted_ct4))"
      ]
    },
    {
      "cell_type": "markdown",
      "metadata": {
        "id": "2PLTsXO2ibM2"
      },
      "source": [
        "#### NOTE: THIS IS A TOY EXAMPLE, AND IT IS NOT SECURE"
      ]
    },
    {
      "cell_type": "markdown",
      "metadata": {
        "id": "LEwbEJwY9en-"
      },
      "source": [
        "## Part 3: Homomorphicly Encrypted Database queries\n",
        "\n",
        "https://blintzbase.com/posts/pir-and-fhe-from-scratch/\n",
        "\n",
        "|                         | **No Secure Location**                           | **Client**                                                                                       | **Secure Server** | **Crypto Coprocessor** | **FPGA**   |\n",
        "|-------------------------|--------------------------------------------------|--------------------------------------------------------------------------------------------------|-------------------|------------------------|------------|\n",
        "| **Non Homomorphic**     |                                                  | [\"Blob\" Store](https://learn.microsoft.com/en-us/azure/storage/blobs/storage-blobs-introduction) | [AWS GovCloud](https://aws.amazon.com/govcloud-us/)      |                        |            |\n",
        "| **Partial Homomorphic** | [CryptDB](http://www.css.csail.mit.edu/cryptdb/) | [Monomi](https://people.csail.mit.edu/nickolai/papers/tu-monomi.pdf)                             |                   | [TrustedDB](https://ieeexplore.ieee.org/document/6468039/)              | [Cipherbase](https://www.microsoft.com/en-us/research/publication/transaction-processing-on-confidential-data-using-cipherbase/) |\n",
        "| **Full Homomorphic**    |                                                  |                                                                                                  |                   |                        |            |"
      ]
    },
    {
      "cell_type": "code",
      "execution_count": null,
      "metadata": {
        "id": "0RxMKvANgndf"
      },
      "outputs": [],
      "source": [
        "#@title PIR Utilities { display-mode: \"form\" }\n",
        "\n",
        "import random\n",
        "\n",
        "\n",
        "def mat_mul(A, B):\n",
        "    C = [[0 for _ in range(len(B[0]))] for _ in range(len(A))]\n",
        "    for i in range(len(A)):\n",
        "        for j in range(len(B[0])):\n",
        "            for k in range(len(B)):\n",
        "                C[i][j] += A[i][k] * B[k][j]\n",
        "    return C\n",
        "\n",
        "\n",
        "def mat_add(A, B):\n",
        "    return [[(A[i][j] + B[i][j]) for j in range(len(A[0]))]\n",
        "            for i in range(len(A))]\n",
        "\n",
        "\n",
        "def mat_sub(A, B):\n",
        "    return [[(A[i][j] - B[i][j]) for j in range(len(A[0]))]\n",
        "            for i in range(len(A))]\n",
        "\n",
        "\n",
        "class Matrix:\n",
        "\n",
        "    def __init__(self, mod, rows, cols, mat):\n",
        "        self.mod = mod\n",
        "        self.rows = rows\n",
        "        self.cols = cols\n",
        "        self.mat = [[x % mod for x in row] for row in mat]\n",
        "\n",
        "    def fill(self, value):\n",
        "        self.mat = [[value] * self.cols for i in range(self.rows)]\n",
        "\n",
        "    def __mul__(self, other):\n",
        "        assert (self.cols == other.rows)\n",
        "        return Matrix(self.mod, self.rows, other.cols,\n",
        "                      mat_mul(self.mat, other.mat))\n",
        "\n",
        "    def __add__(self, other):\n",
        "        if type(other) == int:\n",
        "            assert (self.rows == 1 and self.cols == 1)\n",
        "            return Matrix(self.mod, 1, 1, [[self.mat[0][0] + other]])\n",
        "        assert (self.rows == other.rows and self.cols == other.cols)\n",
        "        return Matrix(self.mod, self.rows, self.cols,\n",
        "                      mat_add(self.mat, other.mat))\n",
        "\n",
        "    def __sub__(self, other):\n",
        "        if type(other) == int:\n",
        "            assert (self.rows == 1 and self.cols == 1)\n",
        "            return Matrix(self.mod, 1, 1, [[self.mat[0][0] - other]])\n",
        "        assert (self.rows == other.rows and self.cols == other.cols)\n",
        "        return Matrix(self.mod, self.rows, self.cols,\n",
        "                      mat_sub(self.mat, other.mat))\n",
        "\n",
        "    def __int__(self):\n",
        "        assert (self.rows == 1 and self.cols == 1)\n",
        "        return self.mat[0][0]\n",
        "\n",
        "    def __repr__(self):\n",
        "        return \"Matrix(\" + str(self.mat) + \")\"\n",
        "\n",
        "\n",
        "def random_bit():\n",
        "    return random.randint(0, 1)\n",
        "\n",
        "\n",
        "def zero_matrix(mod, rows, cols):\n",
        "    mat = [[0 for _ in range(cols)] for _ in range(rows)]\n",
        "    return Matrix(mod, rows, cols, mat)\n",
        "\n",
        "\n",
        "def zero_vector(mod, rows):\n",
        "    return zero_matrix(mod, rows, 1)\n",
        "\n",
        "\n",
        "def random_value(mod):\n",
        "    return random.randint(0, mod - 1)\n",
        "\n",
        "\n",
        "def random_matrix(mod, rows, cols):\n",
        "    mat = [[random_value(mod) for _ in range(cols)] for _ in range(rows)]\n",
        "    return Matrix(mod, rows, cols, mat)\n",
        "\n",
        "\n",
        "def random_vector(mod, rows):\n",
        "    return random_matrix(mod, rows, 1)\n",
        "\n",
        "\n",
        "def random_noise_vector(mod, nd, rows):\n",
        "    return Matrix(mod, rows, 1,\n",
        "                  [[random.randint(nd[0], nd[1])] for _ in range(rows)])"
      ]
    },
    {
      "cell_type": "code",
      "execution_count": null,
      "metadata": {
        "colab": {
          "base_uri": "https://localhost:8080/"
        },
        "id": "RmdD-x96gALk",
        "outputId": "c1fb24af-d2f2-4845-ea34-6a563569ff70"
      },
      "outputs": [
        {
          "name": "stdout",
          "output_type": "stream",
          "text": [
            "LWE working correctly.\n"
          ]
        }
      ],
      "source": [
        "import math\n",
        "\n",
        "#@title LWE  { display-mode: \"form\" }\n",
        "\n",
        "n = 512\n",
        "q = 3329\n",
        "noise_distribution = [-3, 3]\n",
        "\n",
        "\n",
        "def floor(x):\n",
        "    return int(math.floor(x))\n",
        "\n",
        "\n",
        "def get_LWE_sample(s):\n",
        "    A = random_matrix(q, 1, n)\n",
        "    e = random_noise_vector(q, noise_distribution, 1)\n",
        "    b = A * s + e\n",
        "    return (A, b)\n",
        "\n",
        "\n",
        "def keygen():\n",
        "    s = random_vector(q, n)\n",
        "    return s\n",
        "\n",
        "\n",
        "def encrypt(s, m):\n",
        "    assert m == 0 or m == 1\n",
        "    (A, b) = get_LWE_sample(s)\n",
        "    c = b + floor(q / 2) * m\n",
        "    return (A, c)\n",
        "\n",
        "\n",
        "def decrypt(s, ct):\n",
        "    (A, c) = ct\n",
        "    raw = c - A * s\n",
        "    return round(int(raw) * 2 / q) % 2\n",
        "\n",
        "\n",
        "s = keygen()\n",
        "assert (decrypt(s, encrypt(s, 1)) == 1)\n",
        "assert (decrypt(s, encrypt(s, 0)) == 0)\n",
        "print(\"LWE working correctly.\")"
      ]
    },
    {
      "cell_type": "code",
      "execution_count": null,
      "metadata": {
        "colab": {
          "base_uri": "https://localhost:8080/"
        },
        "id": "iaZouQ9QgAI_",
        "outputId": "22a19a82-d7e3-4781-f06e-708e5c1f7ed0"
      },
      "outputs": [
        {
          "name": "stdout",
          "output_type": "stream",
          "text": [
            "Sending the query to the server...\n",
            "Got the answer back from the server...\n",
            "The item at index 24 of the database is 0\n",
            "PIR was correct!\n"
          ]
        }
      ],
      "source": [
        "#@title PIR  { display-mode: \"form\" }\n",
        "\n",
        "num_items_in_db = 50\n",
        "desired_idx = 24\n",
        "db = [random_bit() for i in range(num_items_in_db)]\n",
        "\n",
        "\n",
        "def generate_query(desired_idx):\n",
        "    v = []\n",
        "    for i in range(num_items_in_db):\n",
        "        bit = 1 if i == desired_idx else 0\n",
        "        ct = encrypt(s, bit)\n",
        "        v.append(ct)\n",
        "    return v\n",
        "\n",
        "\n",
        "def answer_query(query, db):\n",
        "    summed_A = zero_matrix(q, 1, n)\n",
        "    summed_c = zero_vector(q, 1)\n",
        "    for i in range(num_items_in_db):\n",
        "        if db[i] == 1:\n",
        "            (A, c) = query[i]\n",
        "            summed_A += A\n",
        "            summed_c += c\n",
        "    return (summed_A, summed_c)\n",
        "\n",
        "\n",
        "s = keygen()\n",
        "query = generate_query(desired_idx)\n",
        "\n",
        "print(\"Sending the query to the server...\")\n",
        "\n",
        "answer = answer_query(query, db)\n",
        "\n",
        "print(\"Got the answer back from the server...\")\n",
        "\n",
        "result = decrypt(s, answer)\n",
        "\n",
        "print(\"The item at index %d of the database is %d\" % (desired_idx, result))\n",
        "\n",
        "assert result == db[desired_idx]\n",
        "print(\"PIR was correct!\")"
      ]
    },
    {
      "cell_type": "markdown",
      "metadata": {
        "id": "EGk9H0LY9j3-"
      },
      "source": [
        "## Part 4: Homomorphic Machine Learning\n"
      ]
    },
    {
      "cell_type": "markdown",
      "metadata": {
        "id": "Pett89YT7NbT"
      },
      "source": [
        "### TenSEAL Library\n",
        "\n",
        "Python wrapper built around Microsoft's SEAL library, created by the OpenMined community\n",
        "\n",
        "\n",
        "Acknowledgements\n",
        "\n",
        "* Ayoub Benaissa - Twitter: [@y0uben11](https://twitter.com/y0uben11)\n",
        "* Bogdan Cebere - Twitter: [@bcebere](https://twitter.com/bcebere)\n",
        "* Bilal Retiat - Twitter: [@philomath213](https://twitter.com/philomath213)\n",
        "\n",
        "Oh, and Alexander Ziller,\n",
        "Andrew Trask,\n",
        "Antonio Lopardo,\n",
        "Benjamin Szymkow,\n",
        "Bobby Wagner,\n",
        "Emma Bluemke,\n",
        "Jean-Mickael Nounahon,\n",
        "Jonathan Passerat-Palmbach,\n",
        "Kritika Prakash,\n",
        "Nick Rose,\n",
        "Théo Ryffel,\n",
        "Zarreen Naowal Reza,\n",
        "and Georgios Kaissis, **along with the rest of the OpenMined community**"
      ]
    },
    {
      "cell_type": "markdown",
      "metadata": {
        "id": "-CWwqi_W75JN"
      },
      "source": [
        "### Tutorials\n",
        "\n",
        "- [Getting Started](tutorials%2FTutorial%200%20-%20Getting%20Started.ipynb)\n",
        "- [Tutorial 1 - Training and Evaluation of Logistic Regression on Encrypted Data](tutorials%2FTutorial%201%20-%20Training%20and%20Evaluation%20of%20Logistic%20Regression%20on%20Encrypted%20Data.ipynb)\n",
        "- [Tutorial 2 - Working with Approximate Numbers](tutorials%2FTutorial%202%20-%20Working%20with%20Approximate%20Numbers.ipynb)\n",
        "- [Tutorial 3 - Benchmarks](tutorials%2FTutorial%203%20-%20Benchmarks.ipynb)\n",
        "- [Tutorial 4 - Encrypted Convolution on MNIST](tutorials%2FTutorial%204%20-%20Encrypted%20Convolution%20on%20MNIST.ipynb)\n",
        "\n",
        "##### Publications\n",
        "\n",
        "A. Benaissa, B. Retiat, B. Cebere, A.E. Belfedhal, [\"TenSEAL: A Library for Encrypted Tensor Operations Using Homomorphic Encryption\"](https://arxiv.org/abs/2104.03152), ICLR 2021 Workshop on Distributed and Private Machine Learning (DPML 2021).\n",
        "\n",
        "```\n",
        "@misc{tenseal2021,\n",
        "    title={TenSEAL: A Library for Encrypted Tensor Operations Using Homomorphic Encryption}, \n",
        "    author={Ayoub Benaissa and Bilal Retiat and Bogdan Cebere and Alaa Eddine Belfedhal},\n",
        "    year={2021},\n",
        "    eprint={2104.03152},\n",
        "    archivePrefix={arXiv},\n",
        "    primaryClass={cs.CR}\n",
        "}\n",
        "```"
      ]
    },
    {
      "cell_type": "markdown",
      "metadata": {
        "id": "O5yWHVpi68N6"
      },
      "source": [
        "### Installation"
      ]
    },
    {
      "cell_type": "code",
      "execution_count": null,
      "metadata": {
        "colab": {
          "base_uri": "https://localhost:8080/"
        },
        "id": "WLyMgEk97EHI",
        "outputId": "569660fe-ced6-4ed9-cfc6-07df27025950"
      },
      "outputs": [
        {
          "name": "stdout",
          "output_type": "stream",
          "text": [
            "\u001b[K     |████████████████████████████████| 4.9 MB 12.1 MB/s \n",
            "\u001b[?25h"
          ]
        }
      ],
      "source": [
        "!pip -qq install tenseal"
      ]
    },
    {
      "cell_type": "markdown",
      "metadata": {
        "id": "Yc27Edhu7EiZ"
      },
      "source": [
        "### Quick Example"
      ]
    },
    {
      "cell_type": "code",
      "execution_count": null,
      "metadata": {
        "colab": {
          "base_uri": "https://localhost:8080/"
        },
        "id": "eD1R1xRb6cuI",
        "outputId": "0cb9f978-9842-4176-f16b-1f7591d407fb"
      },
      "outputs": [
        {
          "data": {
            "text/plain": [
              "[4.000000000019502,\n",
              " 4.000000002421371,\n",
              " 4.00000000433207,\n",
              " 4.000000000712195,\n",
              " 3.999999999134501]"
            ]
          },
          "execution_count": 11,
          "metadata": {},
          "output_type": "execute_result"
        }
      ],
      "source": [
        "import tenseal as ts\n",
        "\n",
        "# Setup TenSEAL context\n",
        "context = ts.context(\n",
        "            ts.SCHEME_TYPE.CKKS,\n",
        "            poly_modulus_degree=8192,\n",
        "            coeff_mod_bit_sizes=[60, 40, 40, 60]\n",
        "          )\n",
        "context.generate_galois_keys()\n",
        "context.global_scale = 2**40\n",
        "\n",
        "v1 = [0, 1, 2, 3, 4]\n",
        "v2 = [4, 3, 2, 1, 0]\n",
        "\n",
        "# encrypted vectors\n",
        "enc_v1 = ts.ckks_vector(context, v1)\n",
        "enc_v2 = ts.ckks_vector(context, v2)\n",
        "\n",
        "result = enc_v1 + enc_v2\n",
        "result.decrypt() # ~ [4, 4, 4, 4, 4]"
      ]
    },
    {
      "cell_type": "code",
      "execution_count": null,
      "metadata": {
        "colab": {
          "base_uri": "https://localhost:8080/"
        },
        "id": "Y4TT73Uy6crh",
        "outputId": "c25af8cd-f3ce-41e5-9d03-5aa853650975"
      },
      "outputs": [
        {
          "data": {
            "text/plain": [
              "[10.000002505232832]"
            ]
          },
          "execution_count": 12,
          "metadata": {},
          "output_type": "execute_result"
        }
      ],
      "source": [
        "\n",
        "result = enc_v1.dot(enc_v2)\n",
        "result.decrypt() # ~ [10]"
      ]
    },
    {
      "cell_type": "code",
      "execution_count": null,
      "metadata": {
        "colab": {
          "base_uri": "https://localhost:8080/"
        },
        "id": "AZy89EOf6cpK",
        "outputId": "5a969785-8310-4c52-9a3c-078509fffd95"
      },
      "outputs": [
        {
          "data": {
            "text/plain": [
              "[157.00002093913858, -90.00001229463638, 153.00002052039056]"
            ]
          },
          "execution_count": 13,
          "metadata": {},
          "output_type": "execute_result"
        }
      ],
      "source": [
        "\n",
        "matrix = [\n",
        "  [73, 0.5, 8],\n",
        "  [81, -5, 66],\n",
        "  [-100, -78, -2],\n",
        "  [0, 9, 17],\n",
        "  [69, 11 , 10],\n",
        "]\n",
        "result = enc_v1.matmul(matrix)\n",
        "result.decrypt() # ~ [157, -90, 153]"
      ]
    },
    {
      "cell_type": "markdown",
      "metadata": {
        "id": "_x6_tAljW3Hh"
      },
      "source": [
        "## 4a. Addition and Subtraction HE\n",
        "\n",
        "- **Source:** [OpenMined TenSEAL Tutorial 1 - Training and Evaluation of Logistic Regression on Encrypted Data](https://github.com/OpenMined/TenSEAL/blob/main/tutorials/Tutorial%201%20-%20Training%20and%20Evaluation%20of%20Logistic%20Regression%20on%20Encrypted%20Data.ipynb)\n"
      ]
    },
    {
      "cell_type": "code",
      "execution_count": null,
      "metadata": {
        "colab": {
          "base_uri": "https://localhost:8080/"
        },
        "id": "lQwagann6cmU",
        "outputId": "9a9d5abf-603e-47f4-f03d-fd1a9ff521a9"
      },
      "outputs": [
        {
          "data": {
            "text/plain": [
              "<tenseal.enc_context.Context at 0x7f028b769690>"
            ]
          },
          "execution_count": 14,
          "metadata": {},
          "output_type": "execute_result"
        }
      ],
      "source": [
        "import tenseal as ts\n",
        "\n",
        "context = ts.context(ts.SCHEME_TYPE.BFV, poly_modulus_degree=4096, plain_modulus=1032193)\n",
        "context"
      ]
    },
    {
      "cell_type": "code",
      "execution_count": null,
      "metadata": {
        "colab": {
          "base_uri": "https://localhost:8080/"
        },
        "id": "lRSeXpfP6cjc",
        "outputId": "dda18362-a03c-4ed7-93a3-24411b10d4d8"
      },
      "outputs": [
        {
          "name": "stdout",
          "output_type": "stream",
          "text": [
            "Created ciphertext vector from plaintext vector of size:  5\n"
          ]
        },
        {
          "data": {
            "text/plain": [
              "<tenseal.tensors.bfvvector.BFVVector at 0x7f028b765450>"
            ]
          },
          "execution_count": 15,
          "metadata": {},
          "output_type": "execute_result"
        }
      ],
      "source": [
        "plain_vector = [69, 70, 71, 72, 73]\n",
        "encrypted_vector = ts.bfv_vector(context, plain_vector)\n",
        "print(\"Created ciphertext vector from plaintext vector of size: \", encrypted_vector.size())\n",
        "encrypted_vector"
      ]
    },
    {
      "cell_type": "code",
      "execution_count": null,
      "metadata": {
        "colab": {
          "base_uri": "https://localhost:8080/"
        },
        "id": "h6g7vab46chH",
        "outputId": "ce838750-e922-4304-bc75-4ac4f64c3b9d"
      },
      "outputs": [
        {
          "name": "stdout",
          "output_type": "stream",
          "text": [
            "c2p addition result (decrypted):  [70, 72, 74, 76, 78]\n",
            "c2p subtraction result (decrypted):  [68, 68, 68, 68, 68]\n",
            "c2p multiplication result (decrypted):  [69, 140, 213, 288, 365]\n",
            "c2c addition result (decrypted):  [138, 140, 142, 144, 146]\n",
            "c2c subtraction result (decrypted):  [69, 70, 71, 72, 73]\n",
            "c2c multiplication result (decrypted):  [9522, 9800, 10082, 10368, 10658]\n"
          ]
        }
      ],
      "source": [
        "add_result = encrypted_vector + [1, 2, 3, 4, 5]\n",
        "print(\"c2p addition result (decrypted): \", add_result.decrypt())\n",
        "sub_result = encrypted_vector - [1, 2, 3, 4, 5]\n",
        "print(\"c2p subtraction result (decrypted): \", sub_result.decrypt())\n",
        "mul_result = encrypted_vector * [1, 2, 3, 4, 5]\n",
        "print(\"c2p multiplication result (decrypted): \", mul_result.decrypt())\n",
        "encrypted_add = add_result + sub_result\n",
        "print(\"c2c addition result (decrypted): \", encrypted_add.decrypt())\n",
        "encrypted_sub = encrypted_add - encrypted_vector\n",
        "print(\"c2c subtraction result (decrypted): \", encrypted_sub.decrypt())\n",
        "encrypted_mul = encrypted_add * encrypted_sub\n",
        "print(\"c2c multiplication result (decrypted): \", encrypted_mul.decrypt())"
      ]
    },
    {
      "cell_type": "code",
      "execution_count": null,
      "metadata": {
        "colab": {
          "base_uri": "https://localhost:8080/"
        },
        "id": "i4Lotjik6ceg",
        "outputId": "3cb19744-a5aa-4ddd-ea4a-925392bcde4c"
      },
      "outputs": [
        {
          "name": "stdout",
          "output_type": "stream",
          "text": [
            "c2c multiply time: 14.771223068237305 ms\n",
            "c2p multiply time: 1.5020370483398438 ms\n"
          ]
        }
      ],
      "source": [
        "from time import time\n",
        "\n",
        "t_start = time()\n",
        "_ = encrypted_add * encrypted_mul\n",
        "t_end = time()\n",
        "print(\"c2c multiply time: {} ms\".format((t_end - t_start) * 1000))\n",
        "\n",
        "t_start = time()\n",
        "_ = encrypted_add * [1, 2, 3, 4, 5]\n",
        "t_end = time()\n",
        "print(\"c2p multiply time: {} ms\".format((t_end - t_start) * 1000))"
      ]
    },
    {
      "cell_type": "markdown",
      "metadata": {
        "id": "KE5JmDuUXxxs"
      },
      "source": [
        "## 4b. Approximate numbers\n",
        "\n",
        "- Source: [OpenMined TenSEAL Tutorial 2 - Working with Approximate Numbers](https://github.com/OpenMined/TenSEAL/blob/main/tutorials/Tutorial%202%20-%20Working%20with%20Approximate%20Numbers.ipynb)"
      ]
    },
    {
      "cell_type": "code",
      "execution_count": null,
      "metadata": {
        "id": "cLshimgpYnej"
      },
      "outputs": [],
      "source": [
        "import torch\n",
        "from torchvision import transforms\n",
        "from random import randint\n",
        "import pickle\n",
        "from PIL import Image\n",
        "import numpy as np\n",
        "from matplotlib.pyplot import imshow\n",
        "from typing import Dict\n",
        "\n",
        "import tenseal as ts"
      ]
    },
    {
      "cell_type": "code",
      "execution_count": null,
      "metadata": {
        "id": "KgzvFYcbYnb6"
      },
      "outputs": [],
      "source": [
        "def context():\n",
        "    context = ts.context(ts.SCHEME_TYPE.CKKS, 8192, coeff_mod_bit_sizes=[60, 40, 40, 60])\n",
        "    context.global_scale = pow(2, 40)\n",
        "    context.generate_galois_keys()\n",
        "    return context\n",
        "\n",
        "context = context()\n"
      ]
    },
    {
      "cell_type": "code",
      "execution_count": null,
      "metadata": {
        "colab": {
          "base_uri": "https://localhost:8080/"
        },
        "id": "19Fjjb3gYnZ5",
        "outputId": "5e22756e-6994-4b56-c171-fe53e18e3a32"
      },
      "outputs": [
        {
          "name": "stdout",
          "output_type": "stream",
          "text": [
            " First tensor: Shape = [2, 2] Data = [[1.0, 2.0], [3.0, 4.0]]\n",
            " Second tensor: Shape = [2, 2] Data = [[5.0, 6.0], [7.0, 8.0]]\n"
          ]
        }
      ],
      "source": [
        "plain1 = ts.plain_tensor([1,2,3,4], [2,2])\n",
        "\n",
        "print(\" First tensor: Shape = {} Data = {}\".format(plain1.shape, plain1.tolist()))\n",
        "\n",
        "plain2 = ts.plain_tensor(np.array([5,6,7,8]).reshape(2,2))\n",
        "print(\" Second tensor: Shape = {} Data = {}\".format(plain2.shape, plain2.tolist()))"
      ]
    },
    {
      "cell_type": "code",
      "execution_count": null,
      "metadata": {
        "colab": {
          "base_uri": "https://localhost:8080/"
        },
        "id": "SQ1PSESKYnXj",
        "outputId": "7bfc5a6c-0204-4dd6-f5bc-4e5b8cda10fa"
      },
      "outputs": [
        {
          "name": "stdout",
          "output_type": "stream",
          "text": [
            " Shape = [2, 2]\n",
            " Encrypted Data = <tenseal.tensors.ckkstensor.CKKSTensor object at 0x7f021afcce50>.\n",
            " Shape = [2, 2]\n"
          ]
        }
      ],
      "source": [
        "encrypted_tensor1 = ts.ckks_tensor(context, plain1)\n",
        "encrypted_tensor2 = ts.ckks_tensor(context, plain2)\n",
        "\n",
        "print(\" Shape = {}\".format(encrypted_tensor1.shape))\n",
        "print(\" Encrypted Data = {}.\".format(encrypted_tensor1))\n",
        "\n",
        "\n",
        "encrypted_tensor_from_np = ts.ckks_tensor(context, np.array([5,6,7,8]).reshape([2,2]))\n",
        "print(\" Shape = {}\".format(encrypted_tensor_from_np.shape))"
      ]
    },
    {
      "cell_type": "code",
      "execution_count": null,
      "metadata": {
        "id": "75NNJ3oKYnVI"
      },
      "outputs": [],
      "source": [
        "def decrypt(enc):\n",
        "    return enc.decrypt().tolist()"
      ]
    },
    {
      "cell_type": "code",
      "execution_count": null,
      "metadata": {
        "colab": {
          "base_uri": "https://localhost:8080/"
        },
        "id": "GsppZjqfYnSz",
        "outputId": "596df8f7-712c-46e3-c513-cf0e9dcc707a"
      },
      "outputs": [
        {
          "name": "stdout",
          "output_type": "stream",
          "text": [
            "Plain equivalent: [[1.0, 2.0], [3.0, 4.0]] + [[5.0, 6.0], [7.0, 8.0]]\n",
            "Decrypted result: [[5.999999998738882, 7.999999998947602], [10.000000000756188, 11.999999999544915]].\n"
          ]
        }
      ],
      "source": [
        "result = encrypted_tensor1 + encrypted_tensor2\n",
        "print(\"Plain equivalent: {} + {}\\nDecrypted result: {}.\".format(plain1.tolist(), plain2.tolist(), decrypt(result)))"
      ]
    },
    {
      "cell_type": "code",
      "execution_count": null,
      "metadata": {
        "colab": {
          "base_uri": "https://localhost:8080/"
        },
        "id": "cDnS5GDyZDJc",
        "outputId": "f62b2115-3af0-4982-f029-9a430145d737"
      },
      "outputs": [
        {
          "name": "stdout",
          "output_type": "stream",
          "text": [
            "Plain equivalent: [[1.0, 2.0], [3.0, 4.0]] - [[5.0, 6.0], [7.0, 8.0]]\n",
            "Decrypted result: [[-3.9999999980184393, -4.000000000271845], [-4.000000000487303, -4.000000001325261]].\n"
          ]
        }
      ],
      "source": [
        "result = encrypted_tensor1 - encrypted_tensor2\n",
        "print(\"Plain equivalent: {} - {}\\nDecrypted result: {}.\".format(plain1.tolist(), plain2.tolist(), decrypt(result)))"
      ]
    },
    {
      "cell_type": "code",
      "execution_count": null,
      "metadata": {
        "colab": {
          "base_uri": "https://localhost:8080/"
        },
        "id": "ffrXUU8-ZDHF",
        "outputId": "b97b8f9c-f795-4bc1-ba2d-47f6ae205612"
      },
      "outputs": [
        {
          "name": "stdout",
          "output_type": "stream",
          "text": [
            "Plain equivalent: [[1.0, 2.0], [3.0, 4.0]] * [[5.0, 6.0], [7.0, 8.0]]\n",
            "Decrypted result: [[5.00000067133901, 12.000001604693615], [21.00000281850078, 32.00000428564696]].\n"
          ]
        }
      ],
      "source": [
        "result = encrypted_tensor1 * encrypted_tensor2\n",
        "print(\"Plain equivalent: {} * {}\\nDecrypted result: {}.\".format(plain1.tolist(), plain2.tolist(), decrypt(result)))"
      ]
    },
    {
      "cell_type": "code",
      "execution_count": null,
      "metadata": {
        "colab": {
          "base_uri": "https://localhost:8080/"
        },
        "id": "gi3cEHMgZDE0",
        "outputId": "288f98f4-57da-496e-9b02-f13affbabae5"
      },
      "outputs": [
        {
          "name": "stdout",
          "output_type": "stream",
          "text": [
            "Plain equivalent: [[1.0, 2.0], [3.0, 4.0]] * [[5.0, 6.0], [7.0, 8.0]]\n",
            "Decrypted result: [[5.000000672651283, 12.000001606041671], [21.000002817341006, 32.00000428372986]].\n"
          ]
        }
      ],
      "source": [
        "plain = ts.plain_tensor([5,6,7,8], [2,2])\n",
        "result = encrypted_tensor1 * plain\n",
        "\n",
        "print(\"Plain equivalent: {} * {}\\nDecrypted result: {}.\".format(plain1.tolist(), plain.tolist(), decrypt(result)))"
      ]
    },
    {
      "cell_type": "code",
      "execution_count": null,
      "metadata": {
        "colab": {
          "base_uri": "https://localhost:8080/"
        },
        "id": "VZN1CCCmZDCj",
        "outputId": "f16a3f19-06ea-4bf8-d5e6-5a865a274e9b"
      },
      "outputs": [
        {
          "name": "stdout",
          "output_type": "stream",
          "text": [
            "Plain equivalent: -[[1.0, 2.0], [3.0, 4.0]]\n",
            "Decrypted result: [[-1.0000000003602225, -1.9999999993378785], [-3.0000000001344413, -3.999999999109826]].\n"
          ]
        }
      ],
      "source": [
        "result = -encrypted_tensor1 \n",
        "\n",
        "print(\"Plain equivalent: -{}\\nDecrypted result: {}.\".format(plain1.tolist(), decrypt(result)))"
      ]
    },
    {
      "cell_type": "code",
      "execution_count": null,
      "metadata": {
        "colab": {
          "base_uri": "https://localhost:8080/"
        },
        "id": "fAmYSjr6YnQP",
        "outputId": "e244b44a-f9c9-40ab-8222-91664c25ab08"
      },
      "outputs": [
        {
          "name": "stdout",
          "output_type": "stream",
          "text": [
            "Plain equivalent: [[1.0, 2.0], [3.0, 4.0]] ^ 3\n",
            "Decrypted result: [[1.0000008060332688, 8.000006431334013], [27.00002173078232, 64.0000514588384]].\n"
          ]
        }
      ],
      "source": [
        "result = encrypted_tensor1 ** 3\n",
        "print(\"Plain equivalent: {} ^ 3\\nDecrypted result: {}.\".format(plain1.tolist(), decrypt(result)))"
      ]
    },
    {
      "cell_type": "code",
      "execution_count": null,
      "metadata": {
        "colab": {
          "base_uri": "https://localhost:8080/"
        },
        "id": "v5SrZNJ6YnOC",
        "outputId": "3cb5eec7-cc0c-44db-f937-b48eef6cf364"
      },
      "outputs": [
        {
          "name": "stdout",
          "output_type": "stream",
          "text": [
            "X = [[1.0, 2.0], [3.0, 4.0]]\n",
            "1 + X^2 + X^3 = [[3.0000009417362126, 13.000006965522154], [37.00002294025727, 81.00005359884193]].\n"
          ]
        }
      ],
      "source": [
        "result = encrypted_tensor1.polyval([1,0,1,1])\n",
        "\n",
        "print(\"X = {}\".format(plain1.tolist()))\n",
        "print(\"1 + X^2 + X^3 = {}.\".format(decrypt(result)))"
      ]
    },
    {
      "cell_type": "code",
      "execution_count": null,
      "metadata": {
        "colab": {
          "base_uri": "https://localhost:8080/"
        },
        "id": "VowQ9yIq6cbo",
        "outputId": "75b9951c-4204-4234-c9f5-e8bd20e069bd"
      },
      "outputs": [
        {
          "name": "stdout",
          "output_type": "stream",
          "text": [
            "X = [[1.0, 2.0], [3.0, 4.0]]\n",
            "0.5 + 0.197 X - 0.004 x^X = [[0.6930000230951937, 0.862000022438146], [0.9829999736643001, 1.0319998570728586]].\n"
          ]
        }
      ],
      "source": [
        "result = encrypted_tensor1.polyval([0.5, 0.197, 0, -0.004])\n",
        "\n",
        "\n",
        "print(\"X = {}\".format(plain1.tolist()))\n",
        "print(\"0.5 + 0.197 X - 0.004 x^X = {}.\".format(decrypt(result)))"
      ]
    },
    {
      "cell_type": "code",
      "execution_count": null,
      "metadata": {
        "colab": {
          "base_uri": "https://localhost:8080/"
        },
        "id": "MBld7sPCaqv_",
        "outputId": "6a0a1a47-2bf2-4697-a144-9bee59cbf32c"
      },
      "outputs": [
        {
          "name": "stdout",
          "output_type": "stream",
          "text": [
            "/content/data\n",
            "/content/data/mnist-samples\n",
            "/content\n"
          ]
        }
      ],
      "source": [
        "# Download MNIST samples { display-mode: \"form\" }\n",
        "\n",
        "!mkdir data\n",
        "%cd data\n",
        "!mkdir mnist-samples\n",
        "%cd mnist-samples\n",
        "!wget -qq https://github.com/OpenMined/TenSEAL/raw/main/tutorials/data/mnist-samples/img_1.jpg\n",
        "!wget -qq https://github.com/OpenMined/TenSEAL/raw/main/tutorials/data/mnist-samples/img_2.jpg\n",
        "!wget -qq https://github.com/OpenMined/TenSEAL/raw/main/tutorials/data/mnist-samples/img_3.jpg\n",
        "!wget -qq https://github.com/OpenMined/TenSEAL/raw/main/tutorials/data/mnist-samples/img_4.jpg\n",
        "!wget -qq https://github.com/OpenMined/TenSEAL/raw/main/tutorials/data/mnist-samples/img_5.jpg\n",
        "!wget -qq https://github.com/OpenMined/TenSEAL/raw/main/tutorials/data/mnist-samples/img_6.jpg\n",
        "%cd ../.."
      ]
    },
    {
      "cell_type": "code",
      "execution_count": null,
      "metadata": {
        "id": "VpA4SlUX6cYf"
      },
      "outputs": [],
      "source": [
        "# Create the TenSEAL security context { display-mode: \"form\" }\n",
        "\n",
        "def create_ctx():\n",
        "    \"\"\"Helper for creating the CKKS context.\n",
        "    CKKS params:\n",
        "        - Polynomial degree: 8192.\n",
        "        - Coefficient modulus size: [40, 21, 21, 21, 21, 21, 21, 40].\n",
        "        - Scale: 2 ** 21.\n",
        "        - The setup requires the Galois keys for evaluating the convolutions.\n",
        "    \"\"\"\n",
        "    poly_mod_degree = 8192\n",
        "    coeff_mod_bit_sizes = [40, 21, 21, 21, 21, 21, 21, 40]\n",
        "    ctx = ts.context(ts.SCHEME_TYPE.CKKS, poly_mod_degree, -1, coeff_mod_bit_sizes)\n",
        "    ctx.global_scale = 2 ** 21\n",
        "    ctx.generate_galois_keys()\n",
        "    return ctx\n",
        "\n",
        "# Sample an image\n",
        "def load_input():\n",
        "    transform = transforms.Compose(\n",
        "        [transforms.ToTensor(), transforms.Normalize((0.1307,), (0.3081,))]\n",
        "    )\n",
        "    idx = randint(1, 6)\n",
        "    img_name = \"data/mnist-samples/img_{}.jpg\".format(idx)\n",
        "    print(img_name)\n",
        "    img = Image.open(img_name)\n",
        "    return transform(img).view(28, 28).tolist(), img\n",
        "\n",
        "# Helper for encoding the image\n",
        "def prepare_input(ctx, plain_input):\n",
        "    enc_input, windows_nb = ts.im2col_encoding(ctx, plain_input, 7, 7, 3)\n",
        "    assert windows_nb == 64\n",
        "    return enc_input"
      ]
    },
    {
      "cell_type": "code",
      "execution_count": null,
      "metadata": {
        "id": "cbYEpK6bZihT"
      },
      "outputs": [],
      "source": [
        "# Load a pretrained model and adapt the forward call for encrypted input { display-mode: \"form\" }\n",
        "\n",
        "class ConvMNIST():\n",
        "    \"\"\"CNN for classifying MNIST data.\n",
        "    Input should be an encoded 28x28 matrix representing the image.\n",
        "    TenSEAL can be used for encoding `tenseal.im2col_encoding(ctx, input_matrix, 7, 7, 3)`\n",
        "    The input should also be normalized with a mean=0.1307 and an std=0.3081 before encryption.\n",
        "    \"\"\"\n",
        "\n",
        "    def __init__(self, parameters: Dict[str, list]):\n",
        "        self.conv1_weight = parameters[\"conv1_weight\"]\n",
        "        self.conv1_bias = parameters[\"conv1_bias\"]\n",
        "        self.fc1_weight = parameters[\"fc1_weight\"]\n",
        "        self.fc1_bias = parameters[\"fc1_bias\"]\n",
        "        self.fc2_weight = parameters[\"fc2_weight\"]\n",
        "        self.fc2_bias = parameters[\"fc2_bias\"]\n",
        "        self.windows_nb = parameters[\"windows_nb\"]\n",
        "\n",
        "    def forward(self, enc_x: ts.CKKSVector) -> ts.CKKSVector:\n",
        "        # conv layer\n",
        "        channels = []\n",
        "        for kernel, bias in zip(self.conv1_weight, self.conv1_bias):\n",
        "            y = enc_x.conv2d_im2col(kernel, self.windows_nb) + bias\n",
        "            channels.append(y)\n",
        "        out = ts.CKKSVector.pack_vectors(channels)\n",
        "        # squaring\n",
        "        out.square_()\n",
        "        # no need to flat\n",
        "        # fc1 layer\n",
        "        out = out.mm_(self.fc1_weight) + self.fc1_bias\n",
        "        # squaring\n",
        "        out.square_()\n",
        "        # output layer\n",
        "        out = out.mm_(self.fc2_weight) + self.fc2_bias\n",
        "        return out\n",
        "\n",
        "    @staticmethod\n",
        "    def prepare_input(context: bytes, ckks_vector: bytes) -> ts.CKKSVector:\n",
        "        try:\n",
        "            ctx = ts.context_from(context)\n",
        "            enc_x = ts.ckks_vector_from(ctx, ckks_vector)\n",
        "        except:\n",
        "            raise DeserializationError(\"cannot deserialize context or ckks_vector\")\n",
        "        try:\n",
        "            _ = ctx.galois_keys()\n",
        "        except:\n",
        "            raise InvalidContext(\"the context doesn't hold galois keys\")\n",
        "\n",
        "        return enc_x\n",
        "    def __call__(self, *args, **kwargs):\n",
        "        return self.forward(*args, **kwargs)"
      ]
    },
    {
      "cell_type": "code",
      "execution_count": null,
      "metadata": {
        "colab": {
          "base_uri": "https://localhost:8080/"
        },
        "id": "2izmc341Zie9",
        "outputId": "f986ac00-001c-4bb3-8fee-adcd64460090"
      },
      "outputs": [
        {
          "name": "stdout",
          "output_type": "stream",
          "text": [
            "/content/parameters\n",
            "--2022-11-03 03:34:21--  https://github.com/OpenMined/TenSEAL/raw/main/tutorials/parameters/ConvMNIST-0.1.pickle\n",
            "Resolving github.com (github.com)... 140.82.113.4\n",
            "Connecting to github.com (github.com)|140.82.113.4|:443... connected.\n",
            "HTTP request sent, awaiting response... 302 Found\n",
            "Location: https://raw.githubusercontent.com/OpenMined/TenSEAL/main/tutorials/parameters/ConvMNIST-0.1.pickle [following]\n",
            "--2022-11-03 03:34:21--  https://raw.githubusercontent.com/OpenMined/TenSEAL/main/tutorials/parameters/ConvMNIST-0.1.pickle\n",
            "Resolving raw.githubusercontent.com (raw.githubusercontent.com)... 185.199.111.133, 185.199.108.133, 185.199.109.133, ...\n",
            "Connecting to raw.githubusercontent.com (raw.githubusercontent.com)|185.199.111.133|:443... connected.\n",
            "HTTP request sent, awaiting response... 200 OK\n",
            "Length: 157239 (154K) [application/octet-stream]\n",
            "Saving to: ‘ConvMNIST-0.1.pickle’\n",
            "\n",
            "ConvMNIST-0.1.pickl 100%[===================>] 153.55K  --.-KB/s    in 0.002s  \n",
            "\n",
            "2022-11-03 03:34:21 (77.2 MB/s) - ‘ConvMNIST-0.1.pickle’ saved [157239/157239]\n",
            "\n",
            "/content\n"
          ]
        }
      ],
      "source": [
        "#@title Load saved parameters for model { display-mode: \"form\" }\n",
        "\n",
        "!mkdir parameters\n",
        "%cd parameters\n",
        "!wget -qq https://github.com/OpenMined/TenSEAL/raw/main/tutorials/parameters/ConvMNIST-0.1.pickle\n",
        "%cd .."
      ]
    },
    {
      "cell_type": "code",
      "execution_count": null,
      "metadata": {
        "colab": {
          "base_uri": "https://localhost:8080/"
        },
        "id": "A8Gi1cCIZick",
        "outputId": "d33ad4ff-3684-4963-d1f3-1ac9da3d153d"
      },
      "outputs": [
        {
          "name": "stdout",
          "output_type": "stream",
          "text": [
            "Model loaded from 'parameters/ConvMNIST-0.1.pickle'\n"
          ]
        }
      ],
      "source": [
        "import pickle\n",
        "import os\n",
        "\n",
        "def load_parameters(file_path: str) -> dict:\n",
        "    try:\n",
        "        parameters = pickle.load(open(file_path, \"rb\"))\n",
        "        print(f\"Model loaded from '{file_path}'\")\n",
        "    except OSError as ose:\n",
        "        print(\"error\", ose)\n",
        "        raise ose\n",
        "    return parameters\n",
        "\n",
        "\n",
        "\n",
        "parameters = load_parameters(\"parameters/ConvMNIST-0.1.pickle\")\n",
        "model = ConvMNIST(parameters)"
      ]
    },
    {
      "cell_type": "code",
      "execution_count": null,
      "metadata": {
        "colab": {
          "base_uri": "https://localhost:8080/",
          "height": 319
        },
        "id": "y9yBII5CZiaO",
        "outputId": "d287d352-a5d4-4e1d-b861-927555bde766"
      },
      "outputs": [
        {
          "name": "stdout",
          "output_type": "stream",
          "text": [
            "data/mnist-samples/img_3.jpg\n",
            "Encrypted image  <tenseal.tensors.ckksvector.CKKSVector object at 0x7f028c8d6c10>\n",
            "Original image \n"
          ]
        },
        {
          "data": {
            "image/png": "[encoded data removed]",
            "text/plain": [
              "<Figure size 432x288 with 1 Axes>"
            ]
          },
          "metadata": {
            "needs_background": "light"
          },
          "output_type": "display_data"
        }
      ],
      "source": [
        "# CKKS context generation.\n",
        "context = create_ctx()\n",
        "\n",
        "# Random image sampling\n",
        "image, orig = load_input()\n",
        "\n",
        "# Image encoding\n",
        "encrypted_image = prepare_input(context, image)\n",
        "\n",
        "print(\"Encrypted image \", encrypted_image)\n",
        "print(\"Original image \")\n",
        "imshow(np.asarray(orig))\n",
        "\n",
        "# We prepare the context for the server, by making it public(we drop the secret key)\n",
        "server_context = context.copy()\n",
        "server_context.make_context_public()\n",
        "\n",
        "# Context and ciphertext serialization\n",
        "server_context = server_context.serialize()\n",
        "encrypted_image = encrypted_image.serialize()\n",
        "\n",
        "\n",
        "client_query = {\n",
        "    \"data\" : encrypted_image,\n",
        "    \"context\" : server_context,\n",
        "}"
      ]
    },
    {
      "cell_type": "code",
      "execution_count": null,
      "metadata": {
        "id": "Ps1zb2RZZiXa"
      },
      "outputs": [],
      "source": [
        "encrypted_query = model.prepare_input(client_query[\"context\"], client_query[\"data\"])\n",
        "encrypted_result = model(encrypted_query).serialize()\n",
        "\n",
        "server_response = {\n",
        "    \"data\" : encrypted_result\n",
        "}"
      ]
    },
    {
      "cell_type": "code",
      "execution_count": null,
      "metadata": {
        "colab": {
          "base_uri": "https://localhost:8080/"
        },
        "id": "Wu_hQ4FUZiU-",
        "outputId": "d5a3645d-3a7d-449f-9618-6ec286fa30a6"
      },
      "outputs": [
        {
          "name": "stdout",
          "output_type": "stream",
          "text": [
            "Maximum probability for label 9\n"
          ]
        }
      ],
      "source": [
        "result = ts.ckks_vector_from(context, server_response[\"data\"]).decrypt()\n",
        "\n",
        "probs = torch.softmax(torch.tensor(result), 0)\n",
        "label_max = torch.argmax(probs)\n",
        "print(\"Maximum probability for label {}\".format(label_max))"
      ]
    },
    {
      "cell_type": "markdown",
      "metadata": {
        "id": "0s-CUHffX4aI"
      },
      "source": [
        "## 4c. Benchmarking\n",
        "\n",
        "- Source: [OpenMined TenSEAL Tutorial 3 - Benchmarks](https://github.com/OpenMined/TenSEAL/blob/main/tutorials/Tutorial%203%20-%20Benchmarks.ipynb)"
      ]
    },
    {
      "cell_type": "code",
      "execution_count": null,
      "metadata": {
        "id": "offEKrAjdSQi"
      },
      "outputs": [],
      "source": [
        "!pip -qq install tabulate"
      ]
    },
    {
      "cell_type": "markdown",
      "metadata": {
        "id": "hOe82pVuxsl1"
      },
      "source": [
        "## Homomorphic Encryption Parameters Review\n",
        "\n",
        "#### The scaling factor(CKKS)\n",
        "The first step of the CKKS scheme is encoding a vector of real numbers into a plaintext polynomial.\n",
        "\n",
        "\n",
        "The scaling factor defines the encoding precision for the binary representation of the number. Intuitively, we are talking about binary precision as pictured below:\n",
        "\n",
        "\n",
        "<img src=\"assets/floating_point.png\" alt=\"ckks-high-level\" width=\"400\"/>\n",
        "\n",
        "#### The polynomial modulus degree (poly_modulus_degree)\n",
        "\n",
        "The polynomial modulus($N$ in the diagram) directly affects:\n",
        " - The number of coefficients in plaintext polynomials\n",
        " - The size of ciphertext elements\n",
        " - The computational performance of the scheme (bigger is worse)\n",
        " - The security level (bigger is better).\n",
        "\n",
        "In TenSEAL, as in Microsoft SEAL, the degree of the polynomial modulus must be a power of 2 (e.g. $1024$, $2048$, $4096$, $8192$, $16384$, or $32768$).\n",
        "\n",
        "#### The coefficient modulus sizes\n",
        "\n",
        "The last parameter required for the scheme is a list of binary sizes.\n",
        "Using this list, SEAL will generate a list of primes of those binary sizes, called the coefficient modulus($q$ in the diagram).\n",
        "\n",
        "The coefficient modulus directly affects:\n",
        " - The size of ciphertext elements\n",
        " - The length of the list indicates the level of the scheme(or the number of encrypted multiplications supported).\n",
        " - The security level (bigger is worse).\n",
        " \n",
        "In TenSEAL, as in Microsoft SEAL, each of the prime numbers in the coefficient modulus must be at most 60 bits and must be congruent to 1 modulo 2*poly_modulus_degree."
      ]
    },
    {
      "cell_type": "code",
      "execution_count": null,
      "metadata": {
        "id": "pdaa4g4n6cWK"
      },
      "outputs": [],
      "source": [
        "import tenseal as ts\n",
        "import tenseal.sealapi as seal\n",
        "import random\n",
        "import pickle\n",
        "import numpy as np\n",
        "import math\n",
        "from IPython.display import HTML, display\n",
        "import tabulate\n",
        "import pytest\n",
        " \n",
        "def convert_size(size_bytes):\n",
        "    if size_bytes == 0:\n",
        "        return \"0B\"\n",
        "    size_name = (\"B\", \"KB\", \"MB\", \"GB\", \"TB\", \"PB\", \"EB\", \"ZB\", \"YB\")\n",
        "    i = int(math.floor(math.log(size_bytes, 1024)))\n",
        "    p = math.pow(1024, i)\n",
        "    s = round(size_bytes / p, 2)\n",
        "    return \"%s %s\" % (s, size_name[i])\n",
        "\n",
        "enc_type_str = {\n",
        "    ts.ENCRYPTION_TYPE.SYMMETRIC : \"symmetric\", \n",
        "    ts.ENCRYPTION_TYPE.ASYMMETRIC : \"asymmetric\",\n",
        "}\n",
        "\n",
        "scheme_str = {\n",
        "    ts.SCHEME_TYPE.CKKS : \"ckks\", \n",
        "    ts.SCHEME_TYPE.BFV : \"bfv\",\n",
        "}\n",
        "\n",
        "def decrypt(enc):\n",
        "    return enc.decrypt()"
      ]
    },
    {
      "cell_type": "code",
      "execution_count": null,
      "metadata": {
        "colab": {
          "base_uri": "https://localhost:8080/",
          "height": 1000
        },
        "id": "9fLbf7ls6cTk",
        "outputId": "a39456eb-cc59-45c0-8e1d-e9daa580133f"
      },
      "outputs": [
        {
          "data": {
            "text/html": [
              "<table>\n",
              "<tbody>\n",
              "<tr><td>Encryption Type</td><td>Scheme Type</td><td>Polynomial modulus</td><td>Coefficient modulus sizes       </td><td>Saved keys </td><td>Context serialized size</td></tr>\n",
              "<tr><td>symmetric      </td><td>ckks       </td><td>8192              </td><td>[40, 21, 21, 21, 21, 21, 21, 40]</td><td>all        </td><td>263.1 KB               </td></tr>\n",
              "<tr><td>symmetric      </td><td>ckks       </td><td>8192              </td><td>[40, 21, 21, 21, 21, 21, 21, 40]</td><td>Secret key </td><td>263.09 KB              </td></tr>\n",
              "<tr><td>symmetric      </td><td>ckks       </td><td>8192              </td><td>[40, 21, 21, 21, 21, 21, 21, 40]</td><td>Galois keys</td><td>86.88 MB               </td></tr>\n",
              "<tr><td>symmetric      </td><td>ckks       </td><td>8192              </td><td>[40, 21, 21, 21, 21, 21, 21, 40]</td><td>Relin keys </td><td>3.63 MB                </td></tr>\n",
              "<tr><td>symmetric      </td><td>ckks       </td><td>8192              </td><td>[40, 21, 21, 21, 21, 21, 21, 40]</td><td>none       </td><td>112.0 B                </td></tr>\n",
              "<tr><td>symmetric      </td><td>ckks       </td><td>8192              </td><td>[40, 20, 40]                    </td><td>all        </td><td>124.94 KB              </td></tr>\n",
              "<tr><td>symmetric      </td><td>ckks       </td><td>8192              </td><td>[40, 20, 40]                    </td><td>Secret key </td><td>124.93 KB              </td></tr>\n",
              "<tr><td>symmetric      </td><td>ckks       </td><td>8192              </td><td>[40, 20, 40]                    </td><td>Galois keys</td><td>11.89 MB               </td></tr>\n",
              "<tr><td>symmetric      </td><td>ckks       </td><td>8192              </td><td>[40, 20, 40]                    </td><td>Relin keys </td><td>505.11 KB              </td></tr>\n",
              "<tr><td>symmetric      </td><td>ckks       </td><td>8192              </td><td>[40, 20, 40]                    </td><td>none       </td><td>92.0 B                 </td></tr>\n",
              "<tr><td>symmetric      </td><td>ckks       </td><td>8192              </td><td>[20, 20, 20]                    </td><td>all        </td><td>79.35 KB               </td></tr>\n",
              "<tr><td>symmetric      </td><td>ckks       </td><td>8192              </td><td>[20, 20, 20]                    </td><td>Secret key </td><td>79.34 KB               </td></tr>\n",
              "<tr><td>symmetric      </td><td>ckks       </td><td>8192              </td><td>[20, 20, 20]                    </td><td>Galois keys</td><td>7.48 MB                </td></tr>\n",
              "<tr><td>symmetric      </td><td>ckks       </td><td>8192              </td><td>[20, 20, 20]                    </td><td>Relin keys </td><td>317.41 KB              </td></tr>\n",
              "<tr><td>symmetric      </td><td>ckks       </td><td>8192              </td><td>[20, 20, 20]                    </td><td>none       </td><td>83.0 B                 </td></tr>\n",
              "<tr><td>symmetric      </td><td>ckks       </td><td>8192              </td><td>[17, 17]                        </td><td>all        </td><td>43.74 KB               </td></tr>\n",
              "<tr><td>symmetric      </td><td>ckks       </td><td>8192              </td><td>[17, 17]                        </td><td>Secret key </td><td>43.73 KB               </td></tr>\n",
              "<tr><td>symmetric      </td><td>ckks       </td><td>8192              </td><td>[17, 17]                        </td><td>Galois keys</td><td>2.15 MB                </td></tr>\n",
              "<tr><td>symmetric      </td><td>ckks       </td><td>8192              </td><td>[17, 17]                        </td><td>Relin keys </td><td>86.98 KB               </td></tr>\n",
              "<tr><td>symmetric      </td><td>ckks       </td><td>8192              </td><td>[17, 17]                        </td><td>none       </td><td>78.0 B                 </td></tr>\n",
              "<tr><td>symmetric      </td><td>ckks       </td><td>4096              </td><td>[40, 20, 40]                    </td><td>all        </td><td>62.55 KB               </td></tr>\n",
              "<tr><td>symmetric      </td><td>ckks       </td><td>4096              </td><td>[40, 20, 40]                    </td><td>Secret key </td><td>62.55 KB               </td></tr>\n",
              "<tr><td>symmetric      </td><td>ckks       </td><td>4096              </td><td>[40, 20, 40]                    </td><td>Galois keys</td><td>5.48 MB                </td></tr>\n",
              "<tr><td>symmetric      </td><td>ckks       </td><td>4096              </td><td>[40, 20, 40]                    </td><td>Relin keys </td><td>253.1 KB               </td></tr>\n",
              "<tr><td>symmetric      </td><td>ckks       </td><td>4096              </td><td>[40, 20, 40]                    </td><td>none       </td><td>92.0 B                 </td></tr>\n",
              "<tr><td>symmetric      </td><td>ckks       </td><td>4096              </td><td>[30, 20, 30]                    </td><td>all        </td><td>51.09 KB               </td></tr>\n",
              "<tr><td>symmetric      </td><td>ckks       </td><td>4096              </td><td>[30, 20, 30]                    </td><td>Secret key </td><td>51.08 KB               </td></tr>\n",
              "<tr><td>symmetric      </td><td>ckks       </td><td>4096              </td><td>[30, 20, 30]                    </td><td>Galois keys</td><td>4.53 MB                </td></tr>\n",
              "<tr><td>symmetric      </td><td>ckks       </td><td>4096              </td><td>[30, 20, 30]                    </td><td>Relin keys </td><td>208.33 KB              </td></tr>\n",
              "<tr><td>symmetric      </td><td>ckks       </td><td>4096              </td><td>[30, 20, 30]                    </td><td>none       </td><td>95.0 B                 </td></tr>\n",
              "<tr><td>symmetric      </td><td>ckks       </td><td>4096              </td><td>[20, 20, 20]                    </td><td>all        </td><td>40.06 KB               </td></tr>\n",
              "<tr><td>symmetric      </td><td>ckks       </td><td>4096              </td><td>[20, 20, 20]                    </td><td>Secret key </td><td>40.06 KB               </td></tr>\n",
              "<tr><td>symmetric      </td><td>ckks       </td><td>4096              </td><td>[20, 20, 20]                    </td><td>Galois keys</td><td>3.44 MB                </td></tr>\n",
              "<tr><td>symmetric      </td><td>ckks       </td><td>4096              </td><td>[20, 20, 20]                    </td><td>Relin keys </td><td>159.16 KB              </td></tr>\n",
              "<tr><td>symmetric      </td><td>ckks       </td><td>4096              </td><td>[20, 20, 20]                    </td><td>none       </td><td>82.0 B                 </td></tr>\n",
              "<tr><td>symmetric      </td><td>ckks       </td><td>4096              </td><td>[19, 19, 19]                    </td><td>all        </td><td>37.72 KB               </td></tr>\n",
              "<tr><td>symmetric      </td><td>ckks       </td><td>4096              </td><td>[19, 19, 19]                    </td><td>Secret key </td><td>37.72 KB               </td></tr>\n",
              "<tr><td>symmetric      </td><td>ckks       </td><td>4096              </td><td>[19, 19, 19]                    </td><td>Galois keys</td><td>3.3 MB                 </td></tr>\n",
              "<tr><td>symmetric      </td><td>ckks       </td><td>4096              </td><td>[19, 19, 19]                    </td><td>Relin keys </td><td>150.85 KB              </td></tr>\n",
              "<tr><td>symmetric      </td><td>ckks       </td><td>4096              </td><td>[19, 19, 19]                    </td><td>none       </td><td>82.0 B                 </td></tr>\n",
              "<tr><td>symmetric      </td><td>ckks       </td><td>4096              </td><td>[18, 18, 18]                    </td><td>all        </td><td>35.51 KB               </td></tr>\n",
              "<tr><td>symmetric      </td><td>ckks       </td><td>4096              </td><td>[18, 18, 18]                    </td><td>Secret key </td><td>35.51 KB               </td></tr>\n",
              "<tr><td>symmetric      </td><td>ckks       </td><td>4096              </td><td>[18, 18, 18]                    </td><td>Galois keys</td><td>3.15 MB                </td></tr>\n",
              "<tr><td>symmetric      </td><td>ckks       </td><td>4096              </td><td>[18, 18, 18]                    </td><td>Relin keys </td><td>143.18 KB              </td></tr>\n",
              "<tr><td>symmetric      </td><td>ckks       </td><td>4096              </td><td>[18, 18, 18]                    </td><td>none       </td><td>81.0 B                 </td></tr>\n",
              "<tr><td>symmetric      </td><td>ckks       </td><td>4096              </td><td>[18, 18]                        </td><td>all        </td><td>24.02 KB               </td></tr>\n",
              "<tr><td>symmetric      </td><td>ckks       </td><td>4096              </td><td>[18, 18]                        </td><td>Secret key </td><td>24.01 KB               </td></tr>\n",
              "<tr><td>symmetric      </td><td>ckks       </td><td>4096              </td><td>[18, 18]                        </td><td>Galois keys</td><td>1.05 MB                </td></tr>\n",
              "<tr><td>symmetric      </td><td>ckks       </td><td>4096              </td><td>[18, 18]                        </td><td>Relin keys </td><td>47.55 KB               </td></tr>\n",
              "<tr><td>symmetric      </td><td>ckks       </td><td>4096              </td><td>[18, 18]                        </td><td>none       </td><td>78.0 B                 </td></tr>\n",
              "<tr><td>symmetric      </td><td>ckks       </td><td>4096              </td><td>[17, 17]                        </td><td>all        </td><td>21.68 KB               </td></tr>\n",
              "<tr><td>symmetric      </td><td>ckks       </td><td>4096              </td><td>[17, 17]                        </td><td>Secret key </td><td>21.68 KB               </td></tr>\n",
              "<tr><td>symmetric      </td><td>ckks       </td><td>4096              </td><td>[17, 17]                        </td><td>Galois keys</td><td>1004.6 KB              </td></tr>\n",
              "<tr><td>symmetric      </td><td>ckks       </td><td>4096              </td><td>[17, 17]                        </td><td>Relin keys </td><td>44.38 KB               </td></tr>\n",
              "<tr><td>symmetric      </td><td>ckks       </td><td>4096              </td><td>[17, 17]                        </td><td>none       </td><td>78.0 B                 </td></tr>\n",
              "<tr><td>symmetric      </td><td>ckks       </td><td>2048              </td><td>[20, 20]                        </td><td>all        </td><td>13.09 KB               </td></tr>\n",
              "<tr><td>symmetric      </td><td>ckks       </td><td>2048              </td><td>[20, 20]                        </td><td>Secret key </td><td>13.08 KB               </td></tr>\n",
              "<tr><td>symmetric      </td><td>ckks       </td><td>2048              </td><td>[20, 20]                        </td><td>Galois keys</td><td>532.8 KB               </td></tr>\n",
              "<tr><td>symmetric      </td><td>ckks       </td><td>2048              </td><td>[20, 20]                        </td><td>Relin keys </td><td>26.77 KB               </td></tr>\n",
              "<tr><td>symmetric      </td><td>ckks       </td><td>2048              </td><td>[20, 20]                        </td><td>none       </td><td>78.0 B                 </td></tr>\n",
              "<tr><td>symmetric      </td><td>ckks       </td><td>2048              </td><td>[18, 18]                        </td><td>all        </td><td>12.28 KB               </td></tr>\n",
              "<tr><td>symmetric      </td><td>ckks       </td><td>2048              </td><td>[18, 18]                        </td><td>Secret key </td><td>12.28 KB               </td></tr>\n",
              "<tr><td>symmetric      </td><td>ckks       </td><td>2048              </td><td>[18, 18]                        </td><td>Galois keys</td><td>495.29 KB              </td></tr>\n",
              "<tr><td>symmetric      </td><td>ckks       </td><td>2048              </td><td>[18, 18]                        </td><td>Relin keys </td><td>24.56 KB               </td></tr>\n",
              "<tr><td>symmetric      </td><td>ckks       </td><td>2048              </td><td>[18, 18]                        </td><td>none       </td><td>79.0 B                 </td></tr>\n",
              "<tr><td>symmetric      </td><td>ckks       </td><td>2048              </td><td>[16, 16]                        </td><td>all        </td><td>9.7 KB                 </td></tr>\n",
              "<tr><td>symmetric      </td><td>ckks       </td><td>2048              </td><td>[16, 16]                        </td><td>Secret key </td><td>9.7 KB                 </td></tr>\n",
              "<tr><td>symmetric      </td><td>ckks       </td><td>2048              </td><td>[16, 16]                        </td><td>Galois keys</td><td>417.21 KB              </td></tr>\n",
              "<tr><td>symmetric      </td><td>ckks       </td><td>2048              </td><td>[16, 16]                        </td><td>Relin keys </td><td>18.99 KB               </td></tr>\n",
              "<tr><td>symmetric      </td><td>ckks       </td><td>2048              </td><td>[16, 16]                        </td><td>none       </td><td>77.0 B                 </td></tr>\n",
              "<tr><td>symmetric      </td><td>bfv        </td><td>8192              </td><td>[40, 21, 21, 21, 21, 21, 21, 40]</td><td>all        </td><td>262.14 KB              </td></tr>\n",
              "<tr><td>symmetric      </td><td>bfv        </td><td>8192              </td><td>[40, 21, 21, 21, 21, 21, 21, 40]</td><td>Secret key </td><td>262.13 KB              </td></tr>\n",
              "<tr><td>symmetric      </td><td>bfv        </td><td>8192              </td><td>[40, 21, 21, 21, 21, 21, 21, 40]</td><td>Galois keys</td><td>86.88 MB               </td></tr>\n",
              "<tr><td>symmetric      </td><td>bfv        </td><td>8192              </td><td>[40, 21, 21, 21, 21, 21, 21, 40]</td><td>Relin keys </td><td>3.63 MB                </td></tr>\n",
              "<tr><td>symmetric      </td><td>bfv        </td><td>8192              </td><td>[40, 21, 21, 21, 21, 21, 21, 40]</td><td>none       </td><td>111.0 B                </td></tr>\n",
              "<tr><td>symmetric      </td><td>bfv        </td><td>8192              </td><td>[40, 21, 21, 21, 21, 21, 40]    </td><td>all        </td><td>234.43 KB              </td></tr>\n",
              "<tr><td>symmetric      </td><td>bfv        </td><td>8192              </td><td>[40, 21, 21, 21, 21, 21, 40]    </td><td>Secret key </td><td>234.42 KB              </td></tr>\n",
              "<tr><td>symmetric      </td><td>bfv        </td><td>8192              </td><td>[40, 21, 21, 21, 21, 21, 40]    </td><td>Galois keys</td><td>66.86 MB               </td></tr>\n",
              "<tr><td>symmetric      </td><td>bfv        </td><td>8192              </td><td>[40, 21, 21, 21, 21, 21, 40]    </td><td>Relin keys </td><td>2.78 MB                </td></tr>\n",
              "<tr><td>symmetric      </td><td>bfv        </td><td>8192              </td><td>[40, 21, 21, 21, 21, 21, 40]    </td><td>none       </td><td>106.0 B                </td></tr>\n",
              "<tr><td>symmetric      </td><td>bfv        </td><td>8192              </td><td>[40, 21, 21, 21, 21, 40]        </td><td>all        </td><td>207.9 KB               </td></tr>\n",
              "<tr><td>symmetric      </td><td>bfv        </td><td>8192              </td><td>[40, 21, 21, 21, 21, 40]        </td><td>Secret key </td><td>207.89 KB              </td></tr>\n",
              "<tr><td>symmetric      </td><td>bfv        </td><td>8192              </td><td>[40, 21, 21, 21, 21, 40]        </td><td>Galois keys</td><td>49.34 MB               </td></tr>\n",
              "<tr><td>symmetric      </td><td>bfv        </td><td>8192              </td><td>[40, 21, 21, 21, 21, 40]        </td><td>Relin keys </td><td>2.06 MB                </td></tr>\n",
              "<tr><td>symmetric      </td><td>bfv        </td><td>8192              </td><td>[40, 21, 21, 21, 21, 40]        </td><td>none       </td><td>104.0 B                </td></tr>\n",
              "<tr><td>symmetric      </td><td>bfv        </td><td>8192              </td><td>[40, 21, 21, 21, 40]            </td><td>all        </td><td>179.47 KB              </td></tr>\n",
              "<tr><td>symmetric      </td><td>bfv        </td><td>8192              </td><td>[40, 21, 21, 21, 40]            </td><td>Secret key </td><td>179.47 KB              </td></tr>\n",
              "<tr><td>symmetric      </td><td>bfv        </td><td>8192              </td><td>[40, 21, 21, 21, 40]            </td><td>Galois keys</td><td>34.35 MB               </td></tr>\n",
              "<tr><td>symmetric      </td><td>bfv        </td><td>8192              </td><td>[40, 21, 21, 21, 40]            </td><td>Relin keys </td><td>1.42 MB                </td></tr>\n",
              "<tr><td>symmetric      </td><td>bfv        </td><td>8192              </td><td>[40, 21, 21, 21, 40]            </td><td>none       </td><td>100.0 B                </td></tr>\n",
              "<tr><td>symmetric      </td><td>bfv        </td><td>8192              </td><td>[40, 21, 21, 40]                </td><td>all        </td><td>153.54 KB              </td></tr>\n",
              "<tr><td>symmetric      </td><td>bfv        </td><td>8192              </td><td>[40, 21, 21, 40]                </td><td>Secret key </td><td>153.54 KB              </td></tr>\n",
              "<tr><td>symmetric      </td><td>bfv        </td><td>8192              </td><td>[40, 21, 21, 40]                </td><td>Galois keys</td><td>21.89 MB               </td></tr>\n",
              "<tr><td>symmetric      </td><td>bfv        </td><td>8192              </td><td>[40, 21, 21, 40]                </td><td>Relin keys </td><td>935.94 KB              </td></tr>\n",
              "<tr><td>symmetric      </td><td>bfv        </td><td>8192              </td><td>[40, 21, 21, 40]                </td><td>none       </td><td>92.0 B                 </td></tr>\n",
              "<tr><td>symmetric      </td><td>bfv        </td><td>8192              </td><td>[40, 20, 40]                    </td><td>all        </td><td>124.72 KB              </td></tr>\n",
              "<tr><td>symmetric      </td><td>bfv        </td><td>8192              </td><td>[40, 20, 40]                    </td><td>Secret key </td><td>124.72 KB              </td></tr>\n",
              "<tr><td>symmetric      </td><td>bfv        </td><td>8192              </td><td>[40, 20, 40]                    </td><td>Galois keys</td><td>11.89 MB               </td></tr>\n",
              "<tr><td>symmetric      </td><td>bfv        </td><td>8192              </td><td>[40, 20, 40]                    </td><td>Relin keys </td><td>504.31 KB              </td></tr>\n",
              "<tr><td>symmetric      </td><td>bfv        </td><td>8192              </td><td>[40, 20, 40]                    </td><td>none       </td><td>91.0 B                 </td></tr>\n",
              "<tr><td>symmetric      </td><td>bfv        </td><td>4096              </td><td>[40, 20, 40]                    </td><td>all        </td><td>62.7 KB                </td></tr>\n",
              "<tr><td>symmetric      </td><td>bfv        </td><td>4096              </td><td>[40, 20, 40]                    </td><td>Secret key </td><td>62.69 KB               </td></tr>\n",
              "<tr><td>symmetric      </td><td>bfv        </td><td>4096              </td><td>[40, 20, 40]                    </td><td>Galois keys</td><td>5.48 MB                </td></tr>\n",
              "<tr><td>symmetric      </td><td>bfv        </td><td>4096              </td><td>[40, 20, 40]                    </td><td>Relin keys </td><td>253.45 KB              </td></tr>\n",
              "<tr><td>symmetric      </td><td>bfv        </td><td>4096              </td><td>[40, 20, 40]                    </td><td>none       </td><td>91.0 B                 </td></tr>\n",
              "<tr><td>symmetric      </td><td>bfv        </td><td>4096              </td><td>[30, 20, 30]                    </td><td>all        </td><td>51.11 KB               </td></tr>\n",
              "<tr><td>symmetric      </td><td>bfv        </td><td>4096              </td><td>[30, 20, 30]                    </td><td>Secret key </td><td>51.11 KB               </td></tr>\n",
              "<tr><td>symmetric      </td><td>bfv        </td><td>4096              </td><td>[30, 20, 30]                    </td><td>Galois keys</td><td>4.53 MB                </td></tr>\n",
              "<tr><td>symmetric      </td><td>bfv        </td><td>4096              </td><td>[30, 20, 30]                    </td><td>Relin keys </td><td>208.37 KB              </td></tr>\n",
              "<tr><td>symmetric      </td><td>bfv        </td><td>4096              </td><td>[30, 20, 30]                    </td><td>none       </td><td>93.0 B                 </td></tr>\n",
              "<tr><td>symmetric      </td><td>bfv        </td><td>4096              </td><td>[20, 20, 20]                    </td><td>all        </td><td>40.18 KB               </td></tr>\n",
              "<tr><td>symmetric      </td><td>bfv        </td><td>4096              </td><td>[20, 20, 20]                    </td><td>Secret key </td><td>40.17 KB               </td></tr>\n",
              "<tr><td>symmetric      </td><td>bfv        </td><td>4096              </td><td>[20, 20, 20]                    </td><td>Galois keys</td><td>3.44 MB                </td></tr>\n",
              "<tr><td>symmetric      </td><td>bfv        </td><td>4096              </td><td>[20, 20, 20]                    </td><td>Relin keys </td><td>159.44 KB              </td></tr>\n",
              "<tr><td>symmetric      </td><td>bfv        </td><td>4096              </td><td>[20, 20, 20]                    </td><td>none       </td><td>87.0 B                 </td></tr>\n",
              "<tr><td>symmetric      </td><td>bfv        </td><td>4096              </td><td>[19, 19, 19]                    </td><td>all        </td><td>37.83 KB               </td></tr>\n",
              "<tr><td>symmetric      </td><td>bfv        </td><td>4096              </td><td>[19, 19, 19]                    </td><td>Secret key </td><td>37.83 KB               </td></tr>\n",
              "<tr><td>symmetric      </td><td>bfv        </td><td>4096              </td><td>[19, 19, 19]                    </td><td>Galois keys</td><td>3.3 MB                 </td></tr>\n",
              "<tr><td>symmetric      </td><td>bfv        </td><td>4096              </td><td>[19, 19, 19]                    </td><td>Relin keys </td><td>151.05 KB              </td></tr>\n",
              "<tr><td>symmetric      </td><td>bfv        </td><td>4096              </td><td>[19, 19, 19]                    </td><td>none       </td><td>87.0 B                 </td></tr>\n",
              "<tr><td>symmetric      </td><td>bfv        </td><td>4096              </td><td>[18, 18, 18]                    </td><td>all        </td><td>35.6 KB                </td></tr>\n",
              "<tr><td>symmetric      </td><td>bfv        </td><td>4096              </td><td>[18, 18, 18]                    </td><td>Secret key </td><td>35.59 KB               </td></tr>\n",
              "<tr><td>symmetric      </td><td>bfv        </td><td>4096              </td><td>[18, 18, 18]                    </td><td>Galois keys</td><td>3.15 MB                </td></tr>\n",
              "<tr><td>symmetric      </td><td>bfv        </td><td>4096              </td><td>[18, 18, 18]                    </td><td>Relin keys </td><td>143.31 KB              </td></tr>\n",
              "<tr><td>symmetric      </td><td>bfv        </td><td>4096              </td><td>[18, 18, 18]                    </td><td>none       </td><td>86.0 B                 </td></tr>\n",
              "<tr><td>symmetric      </td><td>bfv        </td><td>2048              </td><td>[20, 20]                        </td><td>all        </td><td>13.12 KB               </td></tr>\n",
              "<tr><td>symmetric      </td><td>bfv        </td><td>2048              </td><td>[20, 20]                        </td><td>Secret key </td><td>13.11 KB               </td></tr>\n",
              "<tr><td>symmetric      </td><td>bfv        </td><td>2048              </td><td>[20, 20]                        </td><td>Galois keys</td><td>533.05 KB              </td></tr>\n",
              "<tr><td>symmetric      </td><td>bfv        </td><td>2048              </td><td>[20, 20]                        </td><td>Relin keys </td><td>26.65 KB               </td></tr>\n",
              "<tr><td>symmetric      </td><td>bfv        </td><td>2048              </td><td>[20, 20]                        </td><td>none       </td><td>83.0 B                 </td></tr>\n",
              "<tr><td>asymmetric     </td><td>ckks       </td><td>8192              </td><td>[40, 21, 21, 21, 21, 21, 21, 40]</td><td>all        </td><td>791.27 KB              </td></tr>\n",
              "<tr><td>asymmetric     </td><td>ckks       </td><td>8192              </td><td>[40, 21, 21, 21, 21, 21, 21, 40]</td><td>Public key </td><td>529.31 KB              </td></tr>\n",
              "<tr><td>asymmetric     </td><td>ckks       </td><td>8192              </td><td>[40, 21, 21, 21, 21, 21, 21, 40]</td><td>Secret key </td><td>262.06 KB              </td></tr>\n",
              "<tr><td>asymmetric     </td><td>ckks       </td><td>8192              </td><td>[40, 21, 21, 21, 21, 21, 21, 40]</td><td>Galois keys</td><td>86.88 MB               </td></tr>\n",
              "<tr><td>asymmetric     </td><td>ckks       </td><td>8192              </td><td>[40, 21, 21, 21, 21, 21, 21, 40]</td><td>Relin keys </td><td>3.63 MB                </td></tr>\n",
              "<tr><td>asymmetric     </td><td>ckks       </td><td>8192              </td><td>[40, 21, 21, 21, 21, 21, 21, 40]</td><td>none       </td><td>110.0 B                </td></tr>\n",
              "<tr><td>asymmetric     </td><td>ckks       </td><td>8192              </td><td>[40, 20, 40]                    </td><td>all        </td><td>375.34 KB              </td></tr>\n",
              "<tr><td>asymmetric     </td><td>ckks       </td><td>8192              </td><td>[40, 20, 40]                    </td><td>Public key </td><td>250.57 KB              </td></tr>\n",
              "<tr><td>asymmetric     </td><td>ckks       </td><td>8192              </td><td>[40, 20, 40]                    </td><td>Secret key </td><td>124.86 KB              </td></tr>\n",
              "<tr><td>asymmetric     </td><td>ckks       </td><td>8192              </td><td>[40, 20, 40]                    </td><td>Galois keys</td><td>11.89 MB               </td></tr>\n",
              "<tr><td>asymmetric     </td><td>ckks       </td><td>8192              </td><td>[40, 20, 40]                    </td><td>Relin keys </td><td>504.5 KB               </td></tr>\n",
              "<tr><td>asymmetric     </td><td>ckks       </td><td>8192              </td><td>[40, 20, 40]                    </td><td>none       </td><td>90.0 B                 </td></tr>\n",
              "<tr><td>asymmetric     </td><td>ckks       </td><td>8192              </td><td>[20, 20, 20]                    </td><td>all        </td><td>237.93 KB              </td></tr>\n",
              "<tr><td>asymmetric     </td><td>ckks       </td><td>8192              </td><td>[20, 20, 20]                    </td><td>Public key </td><td>158.62 KB              </td></tr>\n",
              "<tr><td>asymmetric     </td><td>ckks       </td><td>8192              </td><td>[20, 20, 20]                    </td><td>Secret key </td><td>79.39 KB               </td></tr>\n",
              "<tr><td>asymmetric     </td><td>ckks       </td><td>8192              </td><td>[20, 20, 20]                    </td><td>Galois keys</td><td>7.48 MB                </td></tr>\n",
              "<tr><td>asymmetric     </td><td>ckks       </td><td>8192              </td><td>[20, 20, 20]                    </td><td>Relin keys </td><td>317.54 KB              </td></tr>\n",
              "<tr><td>asymmetric     </td><td>ckks       </td><td>8192              </td><td>[20, 20, 20]                    </td><td>none       </td><td>81.0 B                 </td></tr>\n",
              "<tr><td>asymmetric     </td><td>ckks       </td><td>8192              </td><td>[17, 17]                        </td><td>all        </td><td>130.28 KB              </td></tr>\n",
              "<tr><td>asymmetric     </td><td>ckks       </td><td>8192              </td><td>[17, 17]                        </td><td>Public key </td><td>87.04 KB               </td></tr>\n",
              "<tr><td>asymmetric     </td><td>ckks       </td><td>8192              </td><td>[17, 17]                        </td><td>Secret key </td><td>43.3 KB                </td></tr>\n",
              "<tr><td>asymmetric     </td><td>ckks       </td><td>8192              </td><td>[17, 17]                        </td><td>Galois keys</td><td>2.15 MB                </td></tr>\n",
              "<tr><td>asymmetric     </td><td>ckks       </td><td>8192              </td><td>[17, 17]                        </td><td>Relin keys </td><td>86.98 KB               </td></tr>\n",
              "<tr><td>asymmetric     </td><td>ckks       </td><td>8192              </td><td>[17, 17]                        </td><td>none       </td><td>76.0 B                 </td></tr>\n",
              "<tr><td>asymmetric     </td><td>ckks       </td><td>4096              </td><td>[40, 20, 40]                    </td><td>all        </td><td>188.83 KB              </td></tr>\n",
              "<tr><td>asymmetric     </td><td>ckks       </td><td>4096              </td><td>[40, 20, 40]                    </td><td>Public key </td><td>126.17 KB              </td></tr>\n",
              "<tr><td>asymmetric     </td><td>ckks       </td><td>4096              </td><td>[40, 20, 40]                    </td><td>Secret key </td><td>62.74 KB               </td></tr>\n",
              "<tr><td>asymmetric     </td><td>ckks       </td><td>4096              </td><td>[40, 20, 40]                    </td><td>Galois keys</td><td>5.48 MB                </td></tr>\n",
              "<tr><td>asymmetric     </td><td>ckks       </td><td>4096              </td><td>[40, 20, 40]                    </td><td>Relin keys </td><td>253.2 KB               </td></tr>\n",
              "<tr><td>asymmetric     </td><td>ckks       </td><td>4096              </td><td>[40, 20, 40]                    </td><td>none       </td><td>90.0 B                 </td></tr>\n",
              "<tr><td>asymmetric     </td><td>ckks       </td><td>4096              </td><td>[30, 20, 30]                    </td><td>all        </td><td>154.41 KB              </td></tr>\n",
              "<tr><td>asymmetric     </td><td>ckks       </td><td>4096              </td><td>[30, 20, 30]                    </td><td>Public key </td><td>103.41 KB              </td></tr>\n",
              "<tr><td>asymmetric     </td><td>ckks       </td><td>4096              </td><td>[30, 20, 30]                    </td><td>Secret key </td><td>51.09 KB               </td></tr>\n",
              "<tr><td>asymmetric     </td><td>ckks       </td><td>4096              </td><td>[30, 20, 30]                    </td><td>Galois keys</td><td>4.53 MB                </td></tr>\n",
              "<tr><td>asymmetric     </td><td>ckks       </td><td>4096              </td><td>[30, 20, 30]                    </td><td>Relin keys </td><td>208.48 KB              </td></tr>\n",
              "<tr><td>asymmetric     </td><td>ckks       </td><td>4096              </td><td>[30, 20, 30]                    </td><td>none       </td><td>93.0 B                 </td></tr>\n",
              "<tr><td>asymmetric     </td><td>ckks       </td><td>4096              </td><td>[20, 20, 20]                    </td><td>all        </td><td>119.68 KB              </td></tr>\n",
              "<tr><td>asymmetric     </td><td>ckks       </td><td>4096              </td><td>[20, 20, 20]                    </td><td>Public key </td><td>79.79 KB               </td></tr>\n",
              "<tr><td>asymmetric     </td><td>ckks       </td><td>4096              </td><td>[20, 20, 20]                    </td><td>Secret key </td><td>39.97 KB               </td></tr>\n",
              "<tr><td>asymmetric     </td><td>ckks       </td><td>4096              </td><td>[20, 20, 20]                    </td><td>Galois keys</td><td>3.44 MB                </td></tr>\n",
              "<tr><td>asymmetric     </td><td>ckks       </td><td>4096              </td><td>[20, 20, 20]                    </td><td>Relin keys </td><td>159.02 KB              </td></tr>\n",
              "<tr><td>asymmetric     </td><td>ckks       </td><td>4096              </td><td>[20, 20, 20]                    </td><td>none       </td><td>80.0 B                 </td></tr>\n",
              "<tr><td>asymmetric     </td><td>ckks       </td><td>4096              </td><td>[19, 19, 19]                    </td><td>all        </td><td>112.94 KB              </td></tr>\n",
              "<tr><td>asymmetric     </td><td>ckks       </td><td>4096              </td><td>[19, 19, 19]                    </td><td>Public key </td><td>75.25 KB               </td></tr>\n",
              "<tr><td>asymmetric     </td><td>ckks       </td><td>4096              </td><td>[19, 19, 19]                    </td><td>Secret key </td><td>37.76 KB               </td></tr>\n",
              "<tr><td>asymmetric     </td><td>ckks       </td><td>4096              </td><td>[19, 19, 19]                    </td><td>Galois keys</td><td>3.3 MB                 </td></tr>\n",
              "<tr><td>asymmetric     </td><td>ckks       </td><td>4096              </td><td>[19, 19, 19]                    </td><td>Relin keys </td><td>151.02 KB              </td></tr>\n",
              "<tr><td>asymmetric     </td><td>ckks       </td><td>4096              </td><td>[19, 19, 19]                    </td><td>none       </td><td>80.0 B                 </td></tr>\n",
              "<tr><td>asymmetric     </td><td>ckks       </td><td>4096              </td><td>[18, 18, 18]                    </td><td>all        </td><td>106.75 KB              </td></tr>\n",
              "<tr><td>asymmetric     </td><td>ckks       </td><td>4096              </td><td>[18, 18, 18]                    </td><td>Public key </td><td>71.18 KB               </td></tr>\n",
              "<tr><td>asymmetric     </td><td>ckks       </td><td>4096              </td><td>[18, 18, 18]                    </td><td>Secret key </td><td>35.65 KB               </td></tr>\n",
              "<tr><td>asymmetric     </td><td>ckks       </td><td>4096              </td><td>[18, 18, 18]                    </td><td>Galois keys</td><td>3.16 MB                </td></tr>\n",
              "<tr><td>asymmetric     </td><td>ckks       </td><td>4096              </td><td>[18, 18, 18]                    </td><td>Relin keys </td><td>143.03 KB              </td></tr>\n",
              "<tr><td>asymmetric     </td><td>ckks       </td><td>4096              </td><td>[18, 18, 18]                    </td><td>none       </td><td>79.0 B                 </td></tr>\n",
              "<tr><td>asymmetric     </td><td>ckks       </td><td>4096              </td><td>[18, 18]                        </td><td>all        </td><td>71.5 KB                </td></tr>\n",
              "<tr><td>asymmetric     </td><td>ckks       </td><td>4096              </td><td>[18, 18]                        </td><td>Public key </td><td>47.55 KB               </td></tr>\n",
              "<tr><td>asymmetric     </td><td>ckks       </td><td>4096              </td><td>[18, 18]                        </td><td>Secret key </td><td>24.01 KB               </td></tr>\n",
              "<tr><td>asymmetric     </td><td>ckks       </td><td>4096              </td><td>[18, 18]                        </td><td>Galois keys</td><td>1.05 MB                </td></tr>\n",
              "<tr><td>asymmetric     </td><td>ckks       </td><td>4096              </td><td>[18, 18]                        </td><td>Relin keys </td><td>47.61 KB               </td></tr>\n",
              "<tr><td>asymmetric     </td><td>ckks       </td><td>4096              </td><td>[18, 18]                        </td><td>none       </td><td>76.0 B                 </td></tr>\n",
              "<tr><td>asymmetric     </td><td>ckks       </td><td>4096              </td><td>[17, 17]                        </td><td>all        </td><td>65.77 KB               </td></tr>\n",
              "<tr><td>asymmetric     </td><td>ckks       </td><td>4096              </td><td>[17, 17]                        </td><td>Public key </td><td>44.24 KB               </td></tr>\n",
              "<tr><td>asymmetric     </td><td>ckks       </td><td>4096              </td><td>[17, 17]                        </td><td>Secret key </td><td>21.6 KB                </td></tr>\n",
              "<tr><td>asymmetric     </td><td>ckks       </td><td>4096              </td><td>[17, 17]                        </td><td>Galois keys</td><td>1005.28 KB             </td></tr>\n",
              "<tr><td>asymmetric     </td><td>ckks       </td><td>4096              </td><td>[17, 17]                        </td><td>Relin keys </td><td>43.72 KB               </td></tr>\n",
              "<tr><td>asymmetric     </td><td>ckks       </td><td>4096              </td><td>[17, 17]                        </td><td>none       </td><td>76.0 B                 </td></tr>\n",
              "<tr><td>asymmetric     </td><td>ckks       </td><td>2048              </td><td>[20, 20]                        </td><td>all        </td><td>39.93 KB               </td></tr>\n",
              "<tr><td>asymmetric     </td><td>ckks       </td><td>2048              </td><td>[20, 20]                        </td><td>Public key </td><td>26.83 KB               </td></tr>\n",
              "<tr><td>asymmetric     </td><td>ckks       </td><td>2048              </td><td>[20, 20]                        </td><td>Secret key </td><td>13.17 KB               </td></tr>\n",
              "<tr><td>asymmetric     </td><td>ckks       </td><td>2048              </td><td>[20, 20]                        </td><td>Galois keys</td><td>532.91 KB              </td></tr>\n",
              "<tr><td>asymmetric     </td><td>ckks       </td><td>2048              </td><td>[20, 20]                        </td><td>Relin keys </td><td>26.65 KB               </td></tr>\n",
              "<tr><td>asymmetric     </td><td>ckks       </td><td>2048              </td><td>[20, 20]                        </td><td>none       </td><td>76.0 B                 </td></tr>\n",
              "<tr><td>asymmetric     </td><td>ckks       </td><td>2048              </td><td>[18, 18]                        </td><td>all        </td><td>36.84 KB               </td></tr>\n",
              "<tr><td>asymmetric     </td><td>ckks       </td><td>2048              </td><td>[18, 18]                        </td><td>Public key </td><td>24.59 KB               </td></tr>\n",
              "<tr><td>asymmetric     </td><td>ckks       </td><td>2048              </td><td>[18, 18]                        </td><td>Secret key </td><td>12.32 KB               </td></tr>\n",
              "<tr><td>asymmetric     </td><td>ckks       </td><td>2048              </td><td>[18, 18]                        </td><td>Galois keys</td><td>495.42 KB              </td></tr>\n",
              "<tr><td>asymmetric     </td><td>ckks       </td><td>2048              </td><td>[18, 18]                        </td><td>Relin keys </td><td>24.73 KB               </td></tr>\n",
              "<tr><td>asymmetric     </td><td>ckks       </td><td>2048              </td><td>[18, 18]                        </td><td>none       </td><td>77.0 B                 </td></tr>\n",
              "<tr><td>asymmetric     </td><td>ckks       </td><td>2048              </td><td>[16, 16]                        </td><td>all        </td><td>28.51 KB               </td></tr>\n",
              "<tr><td>asymmetric     </td><td>ckks       </td><td>2048              </td><td>[16, 16]                        </td><td>Public key </td><td>19.0 KB                </td></tr>\n",
              "<tr><td>asymmetric     </td><td>ckks       </td><td>2048              </td><td>[16, 16]                        </td><td>Secret key </td><td>9.59 KB                </td></tr>\n",
              "<tr><td>asymmetric     </td><td>ckks       </td><td>2048              </td><td>[16, 16]                        </td><td>Galois keys</td><td>417.3 KB               </td></tr>\n",
              "<tr><td>asymmetric     </td><td>ckks       </td><td>2048              </td><td>[16, 16]                        </td><td>Relin keys </td><td>18.51 KB               </td></tr>\n",
              "<tr><td>asymmetric     </td><td>ckks       </td><td>2048              </td><td>[16, 16]                        </td><td>none       </td><td>75.0 B                 </td></tr>\n",
              "<tr><td>asymmetric     </td><td>bfv        </td><td>8192              </td><td>[40, 21, 21, 21, 21, 21, 21, 40]</td><td>all        </td><td>790.31 KB              </td></tr>\n",
              "<tr><td>asymmetric     </td><td>bfv        </td><td>8192              </td><td>[40, 21, 21, 21, 21, 21, 21, 40]</td><td>Public key </td><td>527.71 KB              </td></tr>\n",
              "<tr><td>asymmetric     </td><td>bfv        </td><td>8192              </td><td>[40, 21, 21, 21, 21, 21, 21, 40]</td><td>Secret key </td><td>262.7 KB               </td></tr>\n",
              "<tr><td>asymmetric     </td><td>bfv        </td><td>8192              </td><td>[40, 21, 21, 21, 21, 21, 21, 40]</td><td>Galois keys</td><td>86.88 MB               </td></tr>\n",
              "<tr><td>asymmetric     </td><td>bfv        </td><td>8192              </td><td>[40, 21, 21, 21, 21, 21, 21, 40]</td><td>Relin keys </td><td>3.63 MB                </td></tr>\n",
              "<tr><td>asymmetric     </td><td>bfv        </td><td>8192              </td><td>[40, 21, 21, 21, 21, 21, 21, 40]</td><td>none       </td><td>109.0 B                </td></tr>\n",
              "<tr><td>asymmetric     </td><td>bfv        </td><td>8192              </td><td>[40, 21, 21, 21, 21, 21, 40]    </td><td>all        </td><td>707.17 KB              </td></tr>\n",
              "<tr><td>asymmetric     </td><td>bfv        </td><td>8192              </td><td>[40, 21, 21, 21, 21, 21, 40]    </td><td>Public key </td><td>472.09 KB              </td></tr>\n",
              "<tr><td>asymmetric     </td><td>bfv        </td><td>8192              </td><td>[40, 21, 21, 21, 21, 21, 40]    </td><td>Secret key </td><td>235.18 KB              </td></tr>\n",
              "<tr><td>asymmetric     </td><td>bfv        </td><td>8192              </td><td>[40, 21, 21, 21, 21, 21, 40]    </td><td>Galois keys</td><td>66.86 MB               </td></tr>\n",
              "<tr><td>asymmetric     </td><td>bfv        </td><td>8192              </td><td>[40, 21, 21, 21, 21, 21, 40]    </td><td>Relin keys </td><td>2.78 MB                </td></tr>\n",
              "<tr><td>asymmetric     </td><td>bfv        </td><td>8192              </td><td>[40, 21, 21, 21, 21, 21, 40]    </td><td>none       </td><td>104.0 B                </td></tr>\n",
              "<tr><td>asymmetric     </td><td>bfv        </td><td>8192              </td><td>[40, 21, 21, 21, 21, 40]        </td><td>all        </td><td>629.19 KB              </td></tr>\n",
              "<tr><td>asymmetric     </td><td>bfv        </td><td>8192              </td><td>[40, 21, 21, 21, 21, 40]        </td><td>Public key </td><td>421.31 KB              </td></tr>\n",
              "<tr><td>asymmetric     </td><td>bfv        </td><td>8192              </td><td>[40, 21, 21, 21, 21, 40]        </td><td>Secret key </td><td>207.98 KB              </td></tr>\n",
              "<tr><td>asymmetric     </td><td>bfv        </td><td>8192              </td><td>[40, 21, 21, 21, 21, 40]        </td><td>Galois keys</td><td>49.34 MB               </td></tr>\n",
              "<tr><td>asymmetric     </td><td>bfv        </td><td>8192              </td><td>[40, 21, 21, 21, 21, 40]        </td><td>Relin keys </td><td>2.06 MB                </td></tr>\n",
              "<tr><td>asymmetric     </td><td>bfv        </td><td>8192              </td><td>[40, 21, 21, 21, 21, 40]        </td><td>none       </td><td>102.0 B                </td></tr>\n",
              "<tr><td>asymmetric     </td><td>bfv        </td><td>8192              </td><td>[40, 21, 21, 21, 40]            </td><td>all        </td><td>542.17 KB              </td></tr>\n",
              "<tr><td>asymmetric     </td><td>bfv        </td><td>8192              </td><td>[40, 21, 21, 21, 40]            </td><td>Public key </td><td>361.56 KB              </td></tr>\n",
              "<tr><td>asymmetric     </td><td>bfv        </td><td>8192              </td><td>[40, 21, 21, 21, 40]            </td><td>Secret key </td><td>180.7 KB               </td></tr>\n",
              "<tr><td>asymmetric     </td><td>bfv        </td><td>8192              </td><td>[40, 21, 21, 21, 40]            </td><td>Galois keys</td><td>34.35 MB               </td></tr>\n",
              "<tr><td>asymmetric     </td><td>bfv        </td><td>8192              </td><td>[40, 21, 21, 21, 40]            </td><td>Relin keys </td><td>1.42 MB                </td></tr>\n",
              "<tr><td>asymmetric     </td><td>bfv        </td><td>8192              </td><td>[40, 21, 21, 21, 40]            </td><td>none       </td><td>98.0 B                 </td></tr>\n",
              "<tr><td>asymmetric     </td><td>bfv        </td><td>8192              </td><td>[40, 21, 21, 40]                </td><td>all        </td><td>464.25 KB              </td></tr>\n",
              "<tr><td>asymmetric     </td><td>bfv        </td><td>8192              </td><td>[40, 21, 21, 40]                </td><td>Public key </td><td>309.61 KB              </td></tr>\n",
              "<tr><td>asymmetric     </td><td>bfv        </td><td>8192              </td><td>[40, 21, 21, 40]                </td><td>Secret key </td><td>154.72 KB              </td></tr>\n",
              "<tr><td>asymmetric     </td><td>bfv        </td><td>8192              </td><td>[40, 21, 21, 40]                </td><td>Galois keys</td><td>21.89 MB               </td></tr>\n",
              "<tr><td>asymmetric     </td><td>bfv        </td><td>8192              </td><td>[40, 21, 21, 40]                </td><td>Relin keys </td><td>935.89 KB              </td></tr>\n",
              "<tr><td>asymmetric     </td><td>bfv        </td><td>8192              </td><td>[40, 21, 21, 40]                </td><td>none       </td><td>90.0 B                 </td></tr>\n",
              "<tr><td>asymmetric     </td><td>bfv        </td><td>8192              </td><td>[40, 20, 40]                    </td><td>all        </td><td>376.67 KB              </td></tr>\n",
              "<tr><td>asymmetric     </td><td>bfv        </td><td>8192              </td><td>[40, 20, 40]                    </td><td>Public key </td><td>251.82 KB              </td></tr>\n",
              "<tr><td>asymmetric     </td><td>bfv        </td><td>8192              </td><td>[40, 20, 40]                    </td><td>Secret key </td><td>124.94 KB              </td></tr>\n",
              "<tr><td>asymmetric     </td><td>bfv        </td><td>8192              </td><td>[40, 20, 40]                    </td><td>Galois keys</td><td>11.89 MB               </td></tr>\n",
              "<tr><td>asymmetric     </td><td>bfv        </td><td>8192              </td><td>[40, 20, 40]                    </td><td>Relin keys </td><td>504.9 KB               </td></tr>\n",
              "<tr><td>asymmetric     </td><td>bfv        </td><td>8192              </td><td>[40, 20, 40]                    </td><td>none       </td><td>89.0 B                 </td></tr>\n",
              "<tr><td>asymmetric     </td><td>bfv        </td><td>4096              </td><td>[40, 20, 40]                    </td><td>all        </td><td>188.65 KB              </td></tr>\n",
              "<tr><td>asymmetric     </td><td>bfv        </td><td>4096              </td><td>[40, 20, 40]                    </td><td>Public key </td><td>126.16 KB              </td></tr>\n",
              "<tr><td>asymmetric     </td><td>bfv        </td><td>4096              </td><td>[40, 20, 40]                    </td><td>Secret key </td><td>62.57 KB               </td></tr>\n",
              "<tr><td>asymmetric     </td><td>bfv        </td><td>4096              </td><td>[40, 20, 40]                    </td><td>Galois keys</td><td>5.48 MB                </td></tr>\n",
              "<tr><td>asymmetric     </td><td>bfv        </td><td>4096              </td><td>[40, 20, 40]                    </td><td>Relin keys </td><td>253.61 KB              </td></tr>\n",
              "<tr><td>asymmetric     </td><td>bfv        </td><td>4096              </td><td>[40, 20, 40]                    </td><td>none       </td><td>89.0 B                 </td></tr>\n",
              "<tr><td>asymmetric     </td><td>bfv        </td><td>4096              </td><td>[30, 20, 30]                    </td><td>all        </td><td>154.32 KB              </td></tr>\n",
              "<tr><td>asymmetric     </td><td>bfv        </td><td>4096              </td><td>[30, 20, 30]                    </td><td>Public key </td><td>103.4 KB               </td></tr>\n",
              "<tr><td>asymmetric     </td><td>bfv        </td><td>4096              </td><td>[30, 20, 30]                    </td><td>Secret key </td><td>51.01 KB               </td></tr>\n",
              "<tr><td>asymmetric     </td><td>bfv        </td><td>4096              </td><td>[30, 20, 30]                    </td><td>Galois keys</td><td>4.53 MB                </td></tr>\n",
              "<tr><td>asymmetric     </td><td>bfv        </td><td>4096              </td><td>[30, 20, 30]                    </td><td>Relin keys </td><td>208.46 KB              </td></tr>\n",
              "<tr><td>asymmetric     </td><td>bfv        </td><td>4096              </td><td>[30, 20, 30]                    </td><td>none       </td><td>91.0 B                 </td></tr>\n",
              "<tr><td>asymmetric     </td><td>bfv        </td><td>4096              </td><td>[20, 20, 20]                    </td><td>all        </td><td>119.96 KB              </td></tr>\n",
              "<tr><td>asymmetric     </td><td>bfv        </td><td>4096              </td><td>[20, 20, 20]                    </td><td>Public key </td><td>79.89 KB               </td></tr>\n",
              "<tr><td>asymmetric     </td><td>bfv        </td><td>4096              </td><td>[20, 20, 20]                    </td><td>Secret key </td><td>40.15 KB               </td></tr>\n",
              "<tr><td>asymmetric     </td><td>bfv        </td><td>4096              </td><td>[20, 20, 20]                    </td><td>Galois keys</td><td>3.44 MB                </td></tr>\n",
              "<tr><td>asymmetric     </td><td>bfv        </td><td>4096              </td><td>[20, 20, 20]                    </td><td>Relin keys </td><td>159.2 KB               </td></tr>\n",
              "<tr><td>asymmetric     </td><td>bfv        </td><td>4096              </td><td>[20, 20, 20]                    </td><td>none       </td><td>85.0 B                 </td></tr>\n",
              "<tr><td>asymmetric     </td><td>bfv        </td><td>4096              </td><td>[19, 19, 19]                    </td><td>all        </td><td>113.01 KB              </td></tr>\n",
              "<tr><td>asymmetric     </td><td>bfv        </td><td>4096              </td><td>[19, 19, 19]                    </td><td>Public key </td><td>75.29 KB               </td></tr>\n",
              "<tr><td>asymmetric     </td><td>bfv        </td><td>4096              </td><td>[19, 19, 19]                    </td><td>Secret key </td><td>37.81 KB               </td></tr>\n",
              "<tr><td>asymmetric     </td><td>bfv        </td><td>4096              </td><td>[19, 19, 19]                    </td><td>Galois keys</td><td>3.3 MB                 </td></tr>\n",
              "<tr><td>asymmetric     </td><td>bfv        </td><td>4096              </td><td>[19, 19, 19]                    </td><td>Relin keys </td><td>150.98 KB              </td></tr>\n",
              "<tr><td>asymmetric     </td><td>bfv        </td><td>4096              </td><td>[19, 19, 19]                    </td><td>none       </td><td>85.0 B                 </td></tr>\n",
              "<tr><td>asymmetric     </td><td>bfv        </td><td>4096              </td><td>[18, 18, 18]                    </td><td>all        </td><td>106.66 KB              </td></tr>\n",
              "<tr><td>asymmetric     </td><td>bfv        </td><td>4096              </td><td>[18, 18, 18]                    </td><td>Public key </td><td>71.23 KB               </td></tr>\n",
              "<tr><td>asymmetric     </td><td>bfv        </td><td>4096              </td><td>[18, 18, 18]                    </td><td>Secret key </td><td>35.51 KB               </td></tr>\n",
              "<tr><td>asymmetric     </td><td>bfv        </td><td>4096              </td><td>[18, 18, 18]                    </td><td>Galois keys</td><td>3.15 MB                </td></tr>\n",
              "<tr><td>asymmetric     </td><td>bfv        </td><td>4096              </td><td>[18, 18, 18]                    </td><td>Relin keys </td><td>143.01 KB              </td></tr>\n",
              "<tr><td>asymmetric     </td><td>bfv        </td><td>4096              </td><td>[18, 18, 18]                    </td><td>none       </td><td>84.0 B                 </td></tr>\n",
              "<tr><td>asymmetric     </td><td>bfv        </td><td>2048              </td><td>[20, 20]                        </td><td>all        </td><td>39.68 KB               </td></tr>\n",
              "<tr><td>asymmetric     </td><td>bfv        </td><td>2048              </td><td>[20, 20]                        </td><td>Public key </td><td>26.55 KB               </td></tr>\n",
              "<tr><td>asymmetric     </td><td>bfv        </td><td>2048              </td><td>[20, 20]                        </td><td>Secret key </td><td>13.2 KB                </td></tr>\n",
              "<tr><td>asymmetric     </td><td>bfv        </td><td>2048              </td><td>[20, 20]                        </td><td>Galois keys</td><td>533.02 KB              </td></tr>\n",
              "<tr><td>asymmetric     </td><td>bfv        </td><td>2048              </td><td>[20, 20]                        </td><td>Relin keys </td><td>26.71 KB               </td></tr>\n",
              "<tr><td>asymmetric     </td><td>bfv        </td><td>2048              </td><td>[20, 20]                        </td><td>none       </td><td>81.0 B                 </td></tr>\n",
              "</tbody>\n",
              "</table>"
            ],
            "text/plain": [
              "<IPython.core.display.HTML object>"
            ]
          },
          "metadata": {},
          "output_type": "display_data"
        }
      ],
      "source": [
        "#@title Context serialization { display-mode: \"form\" }\n",
        "#@markdown The TenSEAL context is required for defining the perfomance and security of your application.\n",
        "#@markdown \n",
        "#@markdown In a client-server setup, it is required only on the initial handshake, as the ciphertexts can be linked with an existing context on deserialization.\n",
        "#@markdown \n",
        "#@markdown Here we are benchmarking the size of the context, depending on the input parameters.\n",
        "\n",
        "ctx_size_benchmarks = [[\"Encryption Type\", \"Scheme Type\", \"Polynomial modulus\", \"Coefficient modulus sizes\", \"Saved keys\", \"Context serialized size\", ]]\n",
        "\n",
        "for enc_type in [ts.ENCRYPTION_TYPE.SYMMETRIC, ts.ENCRYPTION_TYPE.ASYMMETRIC]:\n",
        "    for (poly_mod, coeff_mod_bit_sizes) in [\n",
        "        (8192, [40, 21, 21, 21, 21, 21, 21, 40]),\n",
        "        (8192, [40, 20, 40]),\n",
        "        (8192, [20, 20, 20]),\n",
        "        (8192, [17, 17]),\n",
        "        (4096, [40, 20, 40]),\n",
        "        (4096, [30, 20, 30]),\n",
        "        (4096, [20, 20, 20]),\n",
        "        (4096, [19, 19, 19]),\n",
        "        (4096, [18, 18, 18]),\n",
        "        (4096, [18, 18]),\n",
        "        (4096, [17, 17]),\n",
        "        (2048, [20, 20]),\n",
        "        (2048, [18, 18]),\n",
        "        (2048, [16, 16]),\n",
        "    ]:\n",
        "        context = ts.context(\n",
        "            scheme=ts.SCHEME_TYPE.CKKS,\n",
        "            poly_modulus_degree=poly_mod,\n",
        "            coeff_mod_bit_sizes=coeff_mod_bit_sizes,\n",
        "            encryption_type=enc_type,\n",
        "        )\n",
        "        context.generate_galois_keys()\n",
        "        context.generate_relin_keys()\n",
        "        \n",
        "        ser = context.serialize(save_public_key=True, save_secret_key=True, save_galois_keys=True, save_relin_keys=True)\n",
        "        ctx_size_benchmarks.append([enc_type_str[enc_type], scheme_str[ts.SCHEME_TYPE.CKKS], poly_mod, coeff_mod_bit_sizes, \"all\", convert_size(len(ser))])\n",
        "        \n",
        "        if enc_type is ts.ENCRYPTION_TYPE.ASYMMETRIC:\n",
        "            ser = context.serialize(save_public_key=True, save_secret_key=False, save_galois_keys=False, save_relin_keys=False)\n",
        "            ctx_size_benchmarks.append([enc_type_str[enc_type], scheme_str[ts.SCHEME_TYPE.CKKS], poly_mod, coeff_mod_bit_sizes, \"Public key\", convert_size(len(ser))])\n",
        "  \n",
        "        ser = context.serialize(save_public_key=False, save_secret_key=True, save_galois_keys=False, save_relin_keys=False)\n",
        "        ctx_size_benchmarks.append([enc_type_str[enc_type], scheme_str[ts.SCHEME_TYPE.CKKS], poly_mod, coeff_mod_bit_sizes, \"Secret key\",  convert_size(len(ser))])\n",
        "                                    \n",
        "        ser = context.serialize(save_public_key=False, save_secret_key=False, save_galois_keys=True, save_relin_keys=False)\n",
        "        ctx_size_benchmarks.append([enc_type_str[enc_type], scheme_str[ts.SCHEME_TYPE.CKKS], poly_mod, coeff_mod_bit_sizes, \"Galois keys\",  convert_size(len(ser))])\n",
        "                                                                      \n",
        "        ser = context.serialize(save_public_key=False, save_secret_key=False, save_galois_keys=False, save_relin_keys=True)\n",
        "        ctx_size_benchmarks.append([enc_type_str[enc_type], scheme_str[ts.SCHEME_TYPE.CKKS], poly_mod, coeff_mod_bit_sizes, \"Relin keys\",  convert_size(len(ser))])\n",
        "  \n",
        "        ser = context.serialize(save_public_key=False, save_secret_key=False, save_galois_keys=False, save_relin_keys=False)\n",
        "        ctx_size_benchmarks.append([enc_type_str[enc_type], scheme_str[ts.SCHEME_TYPE.CKKS], poly_mod, coeff_mod_bit_sizes, \"none\", convert_size(len(ser))])\n",
        "        \n",
        "    for (poly_mod, coeff_mod_bit_sizes) in [\n",
        "        (8192, [40, 21, 21, 21, 21, 21, 21, 40]),\n",
        "        (8192, [40, 21, 21, 21, 21, 21, 40]),\n",
        "        (8192, [40, 21, 21, 21, 21, 40]),\n",
        "        (8192, [40, 21, 21, 21, 40]),\n",
        "        (8192, [40, 21, 21, 40]),\n",
        "        (8192, [40, 20, 40]),\n",
        "        (4096, [40, 20, 40]),\n",
        "        (4096, [30, 20, 30]),\n",
        "        (4096, [20, 20, 20]),\n",
        "        (4096, [19, 19, 19]),\n",
        "        (4096, [18, 18, 18]),\n",
        "        (2048, [20, 20]),\n",
        "    ]:\n",
        "        context = ts.context(\n",
        "            scheme=ts.SCHEME_TYPE.BFV,\n",
        "            poly_modulus_degree=poly_mod,\n",
        "            plain_modulus=786433,\n",
        "            coeff_mod_bit_sizes=coeff_mod_bit_sizes,\n",
        "            encryption_type=enc_type,\n",
        "        )\n",
        "        \n",
        "        context.generate_galois_keys()\n",
        "        context.generate_relin_keys()\n",
        "        \n",
        "        ser = context.serialize(save_public_key=True, save_secret_key=True, save_galois_keys=True, save_relin_keys=True)\n",
        "        ctx_size_benchmarks.append([enc_type_str[enc_type], scheme_str[ts.SCHEME_TYPE.BFV], poly_mod, coeff_mod_bit_sizes, \"all\", convert_size(len(ser))])\n",
        "        \n",
        "        if enc_type is ts.ENCRYPTION_TYPE.ASYMMETRIC:\n",
        "            ser = context.serialize(save_public_key=True, save_secret_key=False, save_galois_keys=False, save_relin_keys=False)\n",
        "            ctx_size_benchmarks.append([enc_type_str[enc_type], scheme_str[ts.SCHEME_TYPE.BFV], poly_mod, coeff_mod_bit_sizes, \"Public key\", convert_size(len(ser))])\n",
        "  \n",
        "        ser = context.serialize(save_public_key=False, save_secret_key=True, save_galois_keys=False, save_relin_keys=False)\n",
        "        ctx_size_benchmarks.append([enc_type_str[enc_type], scheme_str[ts.SCHEME_TYPE.BFV], poly_mod, coeff_mod_bit_sizes, \"Secret key\",  convert_size(len(ser))])\n",
        "                                    \n",
        "        ser = context.serialize(save_public_key=False, save_secret_key=False, save_galois_keys=True, save_relin_keys=False)\n",
        "        ctx_size_benchmarks.append([enc_type_str[enc_type], scheme_str[ts.SCHEME_TYPE.BFV], poly_mod, coeff_mod_bit_sizes, \"Galois keys\",  convert_size(len(ser))])\n",
        "                                                                      \n",
        "        ser = context.serialize(save_public_key=False, save_secret_key=False, save_galois_keys=False, save_relin_keys=True)\n",
        "        ctx_size_benchmarks.append([enc_type_str[enc_type], scheme_str[ts.SCHEME_TYPE.BFV], poly_mod, coeff_mod_bit_sizes, \"Relin keys\",  convert_size(len(ser))])\n",
        "  \n",
        "        ser = context.serialize(save_public_key=False, save_secret_key=False, save_galois_keys=False, save_relin_keys=False)\n",
        "        ctx_size_benchmarks.append([enc_type_str[enc_type], scheme_str[ts.SCHEME_TYPE.BFV], poly_mod, coeff_mod_bit_sizes, \"none\", convert_size(len(ser))])\n",
        "        \n",
        "\n",
        "display(HTML(tabulate.tabulate(ctx_size_benchmarks, tablefmt='html')))"
      ]
    },
    {
      "cell_type": "markdown",
      "metadata": {
        "id": "--w6BcLNku4C"
      },
      "source": [
        "### Context serialization interpretation\n",
        "\n",
        "Some key points here would be:\n",
        "\n",
        "* The symmetric encryption creates smaller contexts than the public key ones.\n",
        "* Decreasing the length of the coefficient modulus decreases the size of the context but also the depth of available multiplications.\n",
        "* Decreasing the coefficient modulus sizes reduces the context size, but impacts the precision as well (for CKKS).\n",
        "* Galois keys increase the context size only for public contexts (without the secret key). Send them only when you need to perform ciphertext rotations on the other end.\n",
        "* Relinearization keys increase the context size only for public contexts. Send them only when you need to perform multiplications on ciphertexts on the other end.\n",
        "* When we send the secret key, the Relinearization/Galois key can be regenerated on the other end without sending them."
      ]
    },
    {
      "cell_type": "code",
      "execution_count": null,
      "metadata": {
        "colab": {
          "base_uri": "https://localhost:8080/",
          "height": 737
        },
        "id": "QbHTMCxGcT2x",
        "outputId": "836180a4-147c-4832-ba61-434f5df4bce0"
      },
      "outputs": [
        {
          "name": "stdout",
          "output_type": "stream",
          "text": [
            "Plain data size in bytes 8.8 KB\n"
          ]
        },
        {
          "data": {
            "text/html": [
              "<table>\n",
              "<tbody>\n",
              "<tr><td>Encryption Type</td><td>Scheme Type</td><td>Polynomial modulus</td><td>Coefficient modulus sizes       </td><td>Precision</td><td>Ciphertext serialized size</td><td>Encryption increase ratio</td></tr>\n",
              "<tr><td>asymmetric     </td><td>ckks       </td><td>8192              </td><td>[60, 40, 60]                    </td><td>2**40    </td><td>229.8 KB                  </td><td>26.12                    </td></tr>\n",
              "<tr><td>asymmetric     </td><td>ckks       </td><td>8192              </td><td>[40, 21, 21, 21, 21, 21, 21, 40]</td><td>2**40    </td><td>427.94 KB                 </td><td>48.65                    </td></tr>\n",
              "<tr><td>asymmetric     </td><td>ckks       </td><td>8192              </td><td>[40, 21, 21, 21, 21, 21, 21, 40]</td><td>2**21    </td><td>428.65 KB                 </td><td>48.73                    </td></tr>\n",
              "<tr><td>asymmetric     </td><td>ckks       </td><td>8192              </td><td>[40, 20, 40]                    </td><td>2**40    </td><td>153.3 KB                  </td><td>17.43                    </td></tr>\n",
              "<tr><td>asymmetric     </td><td>ckks       </td><td>8192              </td><td>[20, 20, 20]                    </td><td>2**38    </td><td>104.52 KB                 </td><td>11.88                    </td></tr>\n",
              "<tr><td>asymmetric     </td><td>ckks       </td><td>8192              </td><td>[60, 60]                        </td><td>2**38    </td><td>128.14 KB                 </td><td>14.57                    </td></tr>\n",
              "<tr><td>asymmetric     </td><td>ckks       </td><td>8192              </td><td>[40, 40]                        </td><td>2**38    </td><td>92.15 KB                  </td><td>10.48                    </td></tr>\n",
              "<tr><td>asymmetric     </td><td>ckks       </td><td>8192              </td><td>[17, 17]                        </td><td>2**15    </td><td>38.17 KB                  </td><td>4.34                     </td></tr>\n",
              "<tr><td>asymmetric     </td><td>ckks       </td><td>4096              </td><td>[40, 20, 40]                    </td><td>2**40    </td><td>78.97 KB                  </td><td>8.98                     </td></tr>\n",
              "<tr><td>asymmetric     </td><td>ckks       </td><td>4096              </td><td>[30, 20, 30]                    </td><td>2**40    </td><td>66.25 KB                  </td><td>7.53                     </td></tr>\n",
              "<tr><td>asymmetric     </td><td>ckks       </td><td>4096              </td><td>[20, 20, 20]                    </td><td>2**38    </td><td>53.5 KB                   </td><td>6.08                     </td></tr>\n",
              "<tr><td>asymmetric     </td><td>ckks       </td><td>4096              </td><td>[19, 19, 19]                    </td><td>2**35    </td><td>49.85 KB                  </td><td>5.67                     </td></tr>\n",
              "<tr><td>asymmetric     </td><td>ckks       </td><td>4096              </td><td>[18, 18, 18]                    </td><td>2**33    </td><td>47.02 KB                  </td><td>5.35                     </td></tr>\n",
              "<tr><td>asymmetric     </td><td>ckks       </td><td>4096              </td><td>[30, 30]                        </td><td>2**25    </td><td>34.23 KB                  </td><td>3.89                     </td></tr>\n",
              "<tr><td>asymmetric     </td><td>ckks       </td><td>4096              </td><td>[25, 25]                        </td><td>2**20    </td><td>30.79 KB                  </td><td>3.5                      </td></tr>\n",
              "<tr><td>asymmetric     </td><td>ckks       </td><td>4096              </td><td>[18, 18]                        </td><td>2**16    </td><td>23.74 KB                  </td><td>2.7                      </td></tr>\n",
              "<tr><td>asymmetric     </td><td>ckks       </td><td>4096              </td><td>[17, 17]                        </td><td>2**15    </td><td>18.47 KB                  </td><td>2.1                      </td></tr>\n",
              "<tr><td>asymmetric     </td><td>ckks       </td><td>2048              </td><td>[20, 20]                        </td><td>2**18    </td><td>13.24 KB                  </td><td>1.5                      </td></tr>\n",
              "<tr><td>asymmetric     </td><td>ckks       </td><td>2048              </td><td>[18, 18]                        </td><td>2**16    </td><td>12.11 KB                  </td><td>1.38                     </td></tr>\n",
              "<tr><td>asymmetric     </td><td>ckks       </td><td>2048              </td><td>[16, 16]                        </td><td>2**14    </td><td>9.57 KB                   </td><td>1.09                     </td></tr>\n",
              "<tr><td>asymmetric     </td><td>bfv        </td><td>8192              </td><td>[40, 21, 21, 21, 21, 21, 21, 40]</td><td>-        </td><td>428.19 KB                 </td><td>48.67                    </td></tr>\n",
              "<tr><td>asymmetric     </td><td>bfv        </td><td>8192              </td><td>[40, 21, 21, 21, 21, 21, 40]    </td><td>-        </td><td>373.15 KB                 </td><td>42.42                    </td></tr>\n",
              "<tr><td>asymmetric     </td><td>bfv        </td><td>8192              </td><td>[40, 21, 21, 21, 21, 40]        </td><td>-        </td><td>318.69 KB                 </td><td>36.23                    </td></tr>\n",
              "<tr><td>asymmetric     </td><td>bfv        </td><td>8192              </td><td>[40, 21, 21, 21, 40]            </td><td>-        </td><td>265.47 KB                 </td><td>30.18                    </td></tr>\n",
              "<tr><td>asymmetric     </td><td>bfv        </td><td>8192              </td><td>[40, 21, 21, 40]                </td><td>-        </td><td>210.73 KB                 </td><td>23.96                    </td></tr>\n",
              "<tr><td>asymmetric     </td><td>bfv        </td><td>8192              </td><td>[40, 20, 40]                    </td><td>-        </td><td>153.26 KB                 </td><td>17.42                    </td></tr>\n",
              "<tr><td>asymmetric     </td><td>bfv        </td><td>4096              </td><td>[40, 20, 40]                    </td><td>-        </td><td>78.93 KB                  </td><td>8.97                     </td></tr>\n",
              "<tr><td>asymmetric     </td><td>bfv        </td><td>4096              </td><td>[30, 20, 30]                    </td><td>-        </td><td>66.28 KB                  </td><td>7.53                     </td></tr>\n",
              "<tr><td>asymmetric     </td><td>bfv        </td><td>4096              </td><td>[20, 20, 20]                    </td><td>-        </td><td>53.46 KB                  </td><td>6.08                     </td></tr>\n",
              "<tr><td>asymmetric     </td><td>bfv        </td><td>4096              </td><td>[19, 19, 19]                    </td><td>-        </td><td>49.88 KB                  </td><td>5.67                     </td></tr>\n",
              "<tr><td>asymmetric     </td><td>bfv        </td><td>4096              </td><td>[18, 18, 18]                    </td><td>-        </td><td>47.06 KB                  </td><td>5.35                     </td></tr>\n",
              "<tr><td>asymmetric     </td><td>bfv        </td><td>2048              </td><td>[20, 20]                        </td><td>-        </td><td>13.21 KB                  </td><td>1.5                      </td></tr>\n",
              "</tbody>\n",
              "</table>"
            ],
            "text/plain": [
              "<IPython.core.display.HTML object>"
            ]
          },
          "metadata": {},
          "output_type": "display_data"
        }
      ],
      "source": [
        "#@title Ciphertext serialization { display-mode: \"form\" }\n",
        "#@markdown We next review how different parameters impact the ciphertext serialization.\n",
        "#@markdown \n",
        "#@markdown The first observation here is that the symmetric/asymmetric encryption switch doesn't actually impact the size of the ciphertext, only of the context.\n",
        "#@markdown \n",
        "#@markdown We will review the benchmarks only for the asymmetric scenario.\n",
        "\n",
        "data = [random.uniform(-10, 10) for _ in range(10 ** 3)]\n",
        "network_data = pickle.dumps(data)\n",
        "print(\"Plain data size in bytes {}\".format(convert_size(len(network_data))))\n",
        "\n",
        "enc_type = ts.ENCRYPTION_TYPE.ASYMMETRIC\n",
        "ct_size_benchmarks = [[\"Encryption Type\", \"Scheme Type\", \"Polynomial modulus\", \"Coefficient modulus sizes\", \"Precision\", \"Ciphertext serialized size\", \"Encryption increase ratio\"]]\n",
        "\n",
        "\n",
        "for (poly_mod, coeff_mod_bit_sizes, prec) in [\n",
        "    (8192, [60, 40, 60], 40),\n",
        "    (8192, [40, 21, 21, 21, 21, 21, 21, 40], 40),\n",
        "    (8192, [40, 21, 21, 21, 21, 21, 21, 40], 21),\n",
        "    (8192, [40, 20, 40], 40),\n",
        "    (8192, [20, 20, 20], 38),\n",
        "    (8192, [60, 60], 38),\n",
        "    (8192, [40, 40], 38),\n",
        "    (8192, [17, 17], 15),\n",
        "    (4096, [40, 20, 40], 40),\n",
        "    (4096, [30, 20, 30], 40),\n",
        "    (4096, [20, 20, 20], 38),\n",
        "    (4096, [19, 19, 19], 35),\n",
        "    (4096, [18, 18, 18], 33),\n",
        "    (4096, [30, 30], 25),\n",
        "    (4096, [25, 25], 20),\n",
        "    (4096, [18, 18], 16),\n",
        "    (4096, [17, 17], 15),\n",
        "    (2048, [20, 20], 18),\n",
        "    (2048, [18, 18], 16),\n",
        "    (2048, [16, 16], 14),\n",
        "]:\n",
        "    context = ts.context(\n",
        "        scheme=ts.SCHEME_TYPE.CKKS,\n",
        "        poly_modulus_degree=poly_mod,\n",
        "        coeff_mod_bit_sizes=coeff_mod_bit_sizes,\n",
        "        encryption_type=enc_type,\n",
        "    )\n",
        "    scale = 2 ** prec\n",
        "    ckks_vec = ts.ckks_vector(context, data, scale)\n",
        " \n",
        "    enc_network_data = ckks_vec.serialize()\n",
        "    ct_size_benchmarks.append([enc_type_str[enc_type], scheme_str[ts.SCHEME_TYPE.CKKS], poly_mod, coeff_mod_bit_sizes, \"2**{}\".format(prec),convert_size(len(enc_network_data)), round(len(enc_network_data) / len(network_data), 2)])\n",
        "\n",
        "for (poly_mod, coeff_mod_bit_sizes) in [\n",
        "    (8192, [40, 21, 21, 21, 21, 21, 21, 40]),\n",
        "    (8192, [40, 21, 21, 21, 21, 21, 40]),\n",
        "    (8192, [40, 21, 21, 21, 21, 40]),\n",
        "    (8192, [40, 21, 21, 21, 40]),\n",
        "    (8192, [40, 21, 21, 40]),\n",
        "    (8192, [40, 20, 40]),\n",
        "    (4096, [40, 20, 40]),\n",
        "    (4096, [30, 20, 30]),\n",
        "    (4096, [20, 20, 20]),\n",
        "    (4096, [19, 19, 19]),\n",
        "    (4096, [18, 18, 18]),\n",
        "    (2048, [20, 20]),\n",
        "]:\n",
        "    context = ts.context(\n",
        "        scheme=ts.SCHEME_TYPE.BFV,\n",
        "        poly_modulus_degree=poly_mod,\n",
        "        plain_modulus=786433,\n",
        "        coeff_mod_bit_sizes=coeff_mod_bit_sizes,\n",
        "        encryption_type=enc_type,\n",
        "    )\n",
        "    vec = ts.bfv_vector(context, data)\n",
        "    enc_network_data = vec.serialize()\n",
        "    ct_size_benchmarks.append([enc_type_str[enc_type], scheme_str[ts.SCHEME_TYPE.BFV], poly_mod, coeff_mod_bit_sizes, \"-\",convert_size(len(enc_network_data)), round(len(enc_network_data) / len(network_data), 2)])\n",
        "\n",
        "    \n",
        "display(HTML(tabulate.tabulate(ct_size_benchmarks, tablefmt='html')))"
      ]
    },
    {
      "cell_type": "markdown",
      "metadata": {
        "id": "a-hgDaoMl52L"
      },
      "source": [
        "### Ciphertext serialization interpretation\n",
        "Some observations are:\n",
        "* The polynomial modulus increase results in a ciphertext increase.\n",
        "* The length of coefficient modulus sizes impacts the ciphertext size.\n",
        "* The values of the coefficient modulus sizes impact the ciphertext size, as well as the precision.\n",
        "* For a fixed set of polynomial modulus and coefficient modulus sizes, changing the precision doesn't affect the ciphertext size."
      ]
    },
    {
      "cell_type": "code",
      "execution_count": null,
      "metadata": {
        "colab": {
          "base_uri": "https://localhost:8080/",
          "height": 1000
        },
        "id": "R1x9RR-7cT0t",
        "outputId": "15f5c163-0e07-4b81-ae7e-be8044da3102"
      },
      "outputs": [
        {
          "data": {
            "text/html": [
              "<table>\n",
              "<tbody>\n",
              "<tr><td>Value range  </td><td>Polynomial modulus</td><td>Coefficient modulus sizes       </td><td>Precision</td><td>Operation</td><td>Status                  </td></tr>\n",
              "<tr><td>[2^-1 - 2^0] </td><td>8192              </td><td>[60, 40, 60]                    </td><td>2**40    </td><td>encrypt  </td><td>decryption prec 2 ** -30</td></tr>\n",
              "<tr><td>[2^-1 - 2^0] </td><td>8192              </td><td>[60, 40, 60]                    </td><td>2**40    </td><td>sum      </td><td>decryption prec 2 ** -29</td></tr>\n",
              "<tr><td>[2^-1 - 2^0] </td><td>8192              </td><td>[40, 21, 21, 21, 21, 21, 21, 40]</td><td>2**40    </td><td>encrypt  </td><td>decryption prec 2 ** -29</td></tr>\n",
              "<tr><td>[2^-1 - 2^0] </td><td>8192              </td><td>[40, 21, 21, 21, 21, 21, 21, 40]</td><td>2**40    </td><td>sum      </td><td>decryption prec 2 ** -28</td></tr>\n",
              "<tr><td>[2^-1 - 2^0] </td><td>8192              </td><td>[40, 21, 21, 21, 21, 21, 21, 40]</td><td>2**21    </td><td>encrypt  </td><td>decryption prec 2 ** -15</td></tr>\n",
              "<tr><td>[2^-1 - 2^0] </td><td>8192              </td><td>[40, 21, 21, 21, 21, 21, 21, 40]</td><td>2**21    </td><td>sum      </td><td>decryption prec 2 ** -14</td></tr>\n",
              "<tr><td>[2^-1 - 2^0] </td><td>8192              </td><td>[40, 20, 40]                    </td><td>2**40    </td><td>encrypt  </td><td>decryption prec 2 ** -31</td></tr>\n",
              "<tr><td>[2^-1 - 2^0] </td><td>8192              </td><td>[40, 20, 40]                    </td><td>2**40    </td><td>sum      </td><td>decryption prec 2 ** -30</td></tr>\n",
              "<tr><td>[2^-1 - 2^0] </td><td>8192              </td><td>[20, 20, 20]                    </td><td>2**38    </td><td>encrypt  </td><td>decryption prec 2 ** -27</td></tr>\n",
              "<tr><td>[2^-1 - 2^0] </td><td>8192              </td><td>[60, 60]                        </td><td>2**38    </td><td>encrypt  </td><td>decryption prec 2 ** -26</td></tr>\n",
              "<tr><td>[2^-1 - 2^0] </td><td>8192              </td><td>[60, 60]                        </td><td>2**38    </td><td>sum      </td><td>decryption prec 2 ** -25</td></tr>\n",
              "<tr><td>[2^-1 - 2^0] </td><td>8192              </td><td>[40, 40]                        </td><td>2**38    </td><td>encrypt  </td><td>decryption prec 2 ** -28</td></tr>\n",
              "<tr><td>[2^-1 - 2^0] </td><td>8192              </td><td>[40, 40]                        </td><td>2**38    </td><td>sum      </td><td>decryption prec 2 ** -27</td></tr>\n",
              "<tr><td>[2^-1 - 2^0] </td><td>8192              </td><td>[17, 17]                        </td><td>2**15    </td><td>encrypt  </td><td>decryption prec 2 ** -7 </td></tr>\n",
              "<tr><td>[2^-1 - 2^0] </td><td>4096              </td><td>[40, 20, 40]                    </td><td>2**40    </td><td>encrypt  </td><td>decryption prec 2 ** -32</td></tr>\n",
              "<tr><td>[2^-1 - 2^0] </td><td>4096              </td><td>[40, 20, 40]                    </td><td>2**40    </td><td>sum      </td><td>decryption prec 2 ** -31</td></tr>\n",
              "<tr><td>[2^-1 - 2^0] </td><td>4096              </td><td>[30, 20, 30]                    </td><td>2**40    </td><td>encrypt  </td><td>decryption prec 2 ** -31</td></tr>\n",
              "<tr><td>[2^-1 - 2^0] </td><td>4096              </td><td>[30, 20, 30]                    </td><td>2**40    </td><td>sum      </td><td>decryption prec 2 ** -30</td></tr>\n",
              "<tr><td>[2^-1 - 2^0] </td><td>4096              </td><td>[20, 20, 20]                    </td><td>2**38    </td><td>encrypt  </td><td>decryption prec 2 ** -28</td></tr>\n",
              "<tr><td>[2^-1 - 2^0] </td><td>4096              </td><td>[20, 20, 20]                    </td><td>2**38    </td><td>sum      </td><td>decryption prec 2 ** -27</td></tr>\n",
              "<tr><td>[2^-1 - 2^0] </td><td>4096              </td><td>[19, 19, 19]                    </td><td>2**35    </td><td>encrypt  </td><td>decryption prec 2 ** -28</td></tr>\n",
              "<tr><td>[2^-1 - 2^0] </td><td>4096              </td><td>[19, 19, 19]                    </td><td>2**35    </td><td>sum      </td><td>decryption prec 2 ** -27</td></tr>\n",
              "<tr><td>[2^-1 - 2^0] </td><td>4096              </td><td>[18, 18, 18]                    </td><td>2**33    </td><td>encrypt  </td><td>decryption prec 2 ** -25</td></tr>\n",
              "<tr><td>[2^-1 - 2^0] </td><td>4096              </td><td>[18, 18, 18]                    </td><td>2**33    </td><td>sum      </td><td>decryption prec 2 ** -24</td></tr>\n",
              "<tr><td>[2^-1 - 2^0] </td><td>4096              </td><td>[30, 30]                        </td><td>2**25    </td><td>encrypt  </td><td>decryption prec 2 ** -15</td></tr>\n",
              "<tr><td>[2^-1 - 2^0] </td><td>4096              </td><td>[30, 30]                        </td><td>2**25    </td><td>sum      </td><td>decryption prec 2 ** -14</td></tr>\n",
              "<tr><td>[2^-1 - 2^0] </td><td>4096              </td><td>[25, 25]                        </td><td>2**20    </td><td>encrypt  </td><td>decryption prec 2 ** -10</td></tr>\n",
              "<tr><td>[2^-1 - 2^0] </td><td>4096              </td><td>[25, 25]                        </td><td>2**20    </td><td>sum      </td><td>decryption prec 2 ** -9 </td></tr>\n",
              "<tr><td>[2^-1 - 2^0] </td><td>4096              </td><td>[18, 18]                        </td><td>2**16    </td><td>encrypt  </td><td>decryption prec 2 ** -6 </td></tr>\n",
              "<tr><td>[2^-1 - 2^0] </td><td>4096              </td><td>[18, 18]                        </td><td>2**16    </td><td>sum      </td><td>decryption prec 2 ** -5 </td></tr>\n",
              "<tr><td>[2^-1 - 2^0] </td><td>4096              </td><td>[17, 17]                        </td><td>2**15    </td><td>encrypt  </td><td>decryption prec 2 ** -8 </td></tr>\n",
              "<tr><td>[2^-1 - 2^0] </td><td>2048              </td><td>[20, 20]                        </td><td>2**18    </td><td>encrypt  </td><td>decryption prec 2 ** -10</td></tr>\n",
              "<tr><td>[2^-1 - 2^0] </td><td>2048              </td><td>[20, 20]                        </td><td>2**18    </td><td>sum      </td><td>decryption prec 2 ** -9 </td></tr>\n",
              "<tr><td>[2^-1 - 2^0] </td><td>2048              </td><td>[18, 18]                        </td><td>2**16    </td><td>encrypt  </td><td>decryption prec 2 ** -10</td></tr>\n",
              "<tr><td>[2^-1 - 2^0] </td><td>2048              </td><td>[18, 18]                        </td><td>2**16    </td><td>sum      </td><td>decryption prec 2 ** -9 </td></tr>\n",
              "<tr><td>[2^-1 - 2^0] </td><td>2048              </td><td>[16, 16]                        </td><td>2**14    </td><td>encrypt  </td><td>decryption prec 2 ** -6 </td></tr>\n",
              "<tr><td>[2^-1 - 2^0] </td><td>2048              </td><td>[16, 16]                        </td><td>2**14    </td><td>sum      </td><td>decryption prec 2 ** -5 </td></tr>\n",
              "<tr><td>[2^0 - 2^1]  </td><td>8192              </td><td>[60, 40, 60]                    </td><td>2**40    </td><td>encrypt  </td><td>decryption prec 2 ** -28</td></tr>\n",
              "<tr><td>[2^0 - 2^1]  </td><td>8192              </td><td>[60, 40, 60]                    </td><td>2**40    </td><td>sum      </td><td>decryption prec 2 ** -27</td></tr>\n",
              "<tr><td>[2^0 - 2^1]  </td><td>8192              </td><td>[40, 21, 21, 21, 21, 21, 21, 40]</td><td>2**40    </td><td>encrypt  </td><td>decryption prec 2 ** -30</td></tr>\n",
              "<tr><td>[2^0 - 2^1]  </td><td>8192              </td><td>[40, 21, 21, 21, 21, 21, 21, 40]</td><td>2**40    </td><td>sum      </td><td>decryption prec 2 ** -29</td></tr>\n",
              "<tr><td>[2^0 - 2^1]  </td><td>8192              </td><td>[40, 21, 21, 21, 21, 21, 21, 40]</td><td>2**21    </td><td>encrypt  </td><td>decryption prec 2 ** -15</td></tr>\n",
              "<tr><td>[2^0 - 2^1]  </td><td>8192              </td><td>[40, 21, 21, 21, 21, 21, 21, 40]</td><td>2**21    </td><td>sum      </td><td>decryption prec 2 ** -14</td></tr>\n",
              "<tr><td>[2^0 - 2^1]  </td><td>8192              </td><td>[40, 20, 40]                    </td><td>2**40    </td><td>encrypt  </td><td>decryption prec 2 ** -28</td></tr>\n",
              "<tr><td>[2^0 - 2^1]  </td><td>8192              </td><td>[40, 20, 40]                    </td><td>2**40    </td><td>sum      </td><td>decryption prec 2 ** -27</td></tr>\n",
              "<tr><td>[2^0 - 2^1]  </td><td>8192              </td><td>[20, 20, 20]                    </td><td>2**38    </td><td>encrypt  </td><td>encryption failed       </td></tr>\n",
              "<tr><td>[2^0 - 2^1]  </td><td>8192              </td><td>[60, 60]                        </td><td>2**38    </td><td>encrypt  </td><td>decryption prec 2 ** -26</td></tr>\n",
              "<tr><td>[2^0 - 2^1]  </td><td>8192              </td><td>[60, 60]                        </td><td>2**38    </td><td>sum      </td><td>decryption prec 2 ** -25</td></tr>\n",
              "<tr><td>[2^0 - 2^1]  </td><td>8192              </td><td>[40, 40]                        </td><td>2**38    </td><td>encrypt  </td><td>encryption failed       </td></tr>\n",
              "<tr><td>[2^0 - 2^1]  </td><td>8192              </td><td>[17, 17]                        </td><td>2**15    </td><td>encrypt  </td><td>encryption failed       </td></tr>\n",
              "<tr><td>[2^0 - 2^1]  </td><td>4096              </td><td>[40, 20, 40]                    </td><td>2**40    </td><td>encrypt  </td><td>decryption prec 2 ** -38</td></tr>\n",
              "<tr><td>[2^0 - 2^1]  </td><td>4096              </td><td>[40, 20, 40]                    </td><td>2**40    </td><td>sum      </td><td>decryption prec 2 ** -37</td></tr>\n",
              "<tr><td>[2^0 - 2^1]  </td><td>4096              </td><td>[30, 20, 30]                    </td><td>2**40    </td><td>encrypt  </td><td>decryption prec 2 ** -31</td></tr>\n",
              "<tr><td>[2^0 - 2^1]  </td><td>4096              </td><td>[30, 20, 30]                    </td><td>2**40    </td><td>sum      </td><td>decryption prec 2 ** -30</td></tr>\n",
              "<tr><td>[2^0 - 2^1]  </td><td>4096              </td><td>[20, 20, 20]                    </td><td>2**38    </td><td>encrypt  </td><td>encryption failed       </td></tr>\n",
              "<tr><td>[2^0 - 2^1]  </td><td>4096              </td><td>[19, 19, 19]                    </td><td>2**35    </td><td>encrypt  </td><td>encryption failed       </td></tr>\n",
              "<tr><td>[2^0 - 2^1]  </td><td>4096              </td><td>[18, 18, 18]                    </td><td>2**33    </td><td>encrypt  </td><td>encryption failed       </td></tr>\n",
              "<tr><td>[2^0 - 2^1]  </td><td>4096              </td><td>[30, 30]                        </td><td>2**25    </td><td>encrypt  </td><td>decryption prec 2 ** -15</td></tr>\n",
              "<tr><td>[2^0 - 2^1]  </td><td>4096              </td><td>[30, 30]                        </td><td>2**25    </td><td>sum      </td><td>decryption prec 2 ** -14</td></tr>\n",
              "<tr><td>[2^0 - 2^1]  </td><td>4096              </td><td>[25, 25]                        </td><td>2**20    </td><td>encrypt  </td><td>decryption prec 2 ** -12</td></tr>\n",
              "<tr><td>[2^0 - 2^1]  </td><td>4096              </td><td>[25, 25]                        </td><td>2**20    </td><td>sum      </td><td>decryption prec 2 ** -11</td></tr>\n",
              "<tr><td>[2^0 - 2^1]  </td><td>4096              </td><td>[18, 18]                        </td><td>2**16    </td><td>encrypt  </td><td>encryption failed       </td></tr>\n",
              "<tr><td>[2^0 - 2^1]  </td><td>4096              </td><td>[17, 17]                        </td><td>2**15    </td><td>encrypt  </td><td>encryption failed       </td></tr>\n",
              "<tr><td>[2^0 - 2^1]  </td><td>2048              </td><td>[20, 20]                        </td><td>2**18    </td><td>encrypt  </td><td>encryption failed       </td></tr>\n",
              "<tr><td>[2^0 - 2^1]  </td><td>2048              </td><td>[18, 18]                        </td><td>2**16    </td><td>encrypt  </td><td>encryption failed       </td></tr>\n",
              "<tr><td>[2^0 - 2^1]  </td><td>2048              </td><td>[16, 16]                        </td><td>2**14    </td><td>encrypt  </td><td>encryption failed       </td></tr>\n",
              "<tr><td>[2^1 - 2^2]  </td><td>8192              </td><td>[60, 40, 60]                    </td><td>2**40    </td><td>encrypt  </td><td>decryption prec 2 ** -31</td></tr>\n",
              "<tr><td>[2^1 - 2^2]  </td><td>8192              </td><td>[60, 40, 60]                    </td><td>2**40    </td><td>sum      </td><td>decryption prec 2 ** -30</td></tr>\n",
              "<tr><td>[2^1 - 2^2]  </td><td>8192              </td><td>[40, 21, 21, 21, 21, 21, 21, 40]</td><td>2**40    </td><td>encrypt  </td><td>decryption prec 2 ** -28</td></tr>\n",
              "<tr><td>[2^1 - 2^2]  </td><td>8192              </td><td>[40, 21, 21, 21, 21, 21, 21, 40]</td><td>2**40    </td><td>sum      </td><td>decryption prec 2 ** -27</td></tr>\n",
              "<tr><td>[2^1 - 2^2]  </td><td>8192              </td><td>[40, 21, 21, 21, 21, 21, 21, 40]</td><td>2**21    </td><td>encrypt  </td><td>decryption prec 2 ** -11</td></tr>\n",
              "<tr><td>[2^1 - 2^2]  </td><td>8192              </td><td>[40, 21, 21, 21, 21, 21, 21, 40]</td><td>2**21    </td><td>sum      </td><td>decryption prec 2 ** -10</td></tr>\n",
              "<tr><td>[2^1 - 2^2]  </td><td>8192              </td><td>[40, 20, 40]                    </td><td>2**40    </td><td>encrypt  </td><td>decryption prec 2 ** -30</td></tr>\n",
              "<tr><td>[2^1 - 2^2]  </td><td>8192              </td><td>[40, 20, 40]                    </td><td>2**40    </td><td>sum      </td><td>decryption prec 2 ** -29</td></tr>\n",
              "<tr><td>[2^1 - 2^2]  </td><td>8192              </td><td>[20, 20, 20]                    </td><td>2**38    </td><td>encrypt  </td><td>encryption failed       </td></tr>\n",
              "<tr><td>[2^1 - 2^2]  </td><td>8192              </td><td>[60, 60]                        </td><td>2**38    </td><td>encrypt  </td><td>decryption prec 2 ** -29</td></tr>\n",
              "<tr><td>[2^1 - 2^2]  </td><td>8192              </td><td>[60, 60]                        </td><td>2**38    </td><td>sum      </td><td>decryption prec 2 ** -28</td></tr>\n",
              "<tr><td>[2^1 - 2^2]  </td><td>8192              </td><td>[40, 40]                        </td><td>2**38    </td><td>encrypt  </td><td>encryption failed       </td></tr>\n",
              "<tr><td>[2^1 - 2^2]  </td><td>8192              </td><td>[17, 17]                        </td><td>2**15    </td><td>encrypt  </td><td>encryption failed       </td></tr>\n",
              "<tr><td>[2^1 - 2^2]  </td><td>4096              </td><td>[40, 20, 40]                    </td><td>2**40    </td><td>encrypt  </td><td>decryption prec 2 ** -34</td></tr>\n",
              "<tr><td>[2^1 - 2^2]  </td><td>4096              </td><td>[40, 20, 40]                    </td><td>2**40    </td><td>sum      </td><td>decryption prec 2 ** -33</td></tr>\n",
              "<tr><td>[2^1 - 2^2]  </td><td>4096              </td><td>[30, 20, 30]                    </td><td>2**40    </td><td>encrypt  </td><td>decryption prec 2 ** -34</td></tr>\n",
              "<tr><td>[2^1 - 2^2]  </td><td>4096              </td><td>[30, 20, 30]                    </td><td>2**40    </td><td>sum      </td><td>decryption prec 2 ** -33</td></tr>\n",
              "<tr><td>[2^1 - 2^2]  </td><td>4096              </td><td>[20, 20, 20]                    </td><td>2**38    </td><td>encrypt  </td><td>encryption failed       </td></tr>\n",
              "<tr><td>[2^1 - 2^2]  </td><td>4096              </td><td>[19, 19, 19]                    </td><td>2**35    </td><td>encrypt  </td><td>encryption failed       </td></tr>\n",
              "<tr><td>[2^1 - 2^2]  </td><td>4096              </td><td>[18, 18, 18]                    </td><td>2**33    </td><td>encrypt  </td><td>encryption failed       </td></tr>\n",
              "<tr><td>[2^1 - 2^2]  </td><td>4096              </td><td>[30, 30]                        </td><td>2**25    </td><td>encrypt  </td><td>decryption prec 2 ** -17</td></tr>\n",
              "<tr><td>[2^1 - 2^2]  </td><td>4096              </td><td>[30, 30]                        </td><td>2**25    </td><td>sum      </td><td>decryption prec 2 ** -16</td></tr>\n",
              "<tr><td>[2^1 - 2^2]  </td><td>4096              </td><td>[25, 25]                        </td><td>2**20    </td><td>encrypt  </td><td>decryption prec 2 ** -11</td></tr>\n",
              "<tr><td>[2^1 - 2^2]  </td><td>4096              </td><td>[25, 25]                        </td><td>2**20    </td><td>sum      </td><td>decryption prec 2 ** -10</td></tr>\n",
              "<tr><td>[2^1 - 2^2]  </td><td>4096              </td><td>[18, 18]                        </td><td>2**16    </td><td>encrypt  </td><td>encryption failed       </td></tr>\n",
              "<tr><td>[2^1 - 2^2]  </td><td>4096              </td><td>[17, 17]                        </td><td>2**15    </td><td>encrypt  </td><td>encryption failed       </td></tr>\n",
              "<tr><td>[2^1 - 2^2]  </td><td>2048              </td><td>[20, 20]                        </td><td>2**18    </td><td>encrypt  </td><td>encryption failed       </td></tr>\n",
              "<tr><td>[2^1 - 2^2]  </td><td>2048              </td><td>[18, 18]                        </td><td>2**16    </td><td>encrypt  </td><td>encryption failed       </td></tr>\n",
              "<tr><td>[2^1 - 2^2]  </td><td>2048              </td><td>[16, 16]                        </td><td>2**14    </td><td>encrypt  </td><td>encryption failed       </td></tr>\n",
              "<tr><td>[2^5 - 2^6]  </td><td>8192              </td><td>[60, 40, 60]                    </td><td>2**40    </td><td>encrypt  </td><td>decryption prec 2 ** -32</td></tr>\n",
              "<tr><td>[2^5 - 2^6]  </td><td>8192              </td><td>[60, 40, 60]                    </td><td>2**40    </td><td>sum      </td><td>decryption prec 2 ** -31</td></tr>\n",
              "<tr><td>[2^5 - 2^6]  </td><td>8192              </td><td>[40, 21, 21, 21, 21, 21, 21, 40]</td><td>2**40    </td><td>encrypt  </td><td>decryption prec 2 ** -27</td></tr>\n",
              "<tr><td>[2^5 - 2^6]  </td><td>8192              </td><td>[40, 21, 21, 21, 21, 21, 21, 40]</td><td>2**40    </td><td>sum      </td><td>decryption prec 2 ** -26</td></tr>\n",
              "<tr><td>[2^5 - 2^6]  </td><td>8192              </td><td>[40, 21, 21, 21, 21, 21, 21, 40]</td><td>2**21    </td><td>encrypt  </td><td>decryption prec 2 ** -11</td></tr>\n",
              "<tr><td>[2^5 - 2^6]  </td><td>8192              </td><td>[40, 21, 21, 21, 21, 21, 21, 40]</td><td>2**21    </td><td>sum      </td><td>decryption prec 2 ** -10</td></tr>\n",
              "<tr><td>[2^5 - 2^6]  </td><td>8192              </td><td>[40, 20, 40]                    </td><td>2**40    </td><td>encrypt  </td><td>decryption prec 2 ** -30</td></tr>\n",
              "<tr><td>[2^5 - 2^6]  </td><td>8192              </td><td>[40, 20, 40]                    </td><td>2**40    </td><td>sum      </td><td>decryption prec 2 ** -29</td></tr>\n",
              "<tr><td>[2^5 - 2^6]  </td><td>8192              </td><td>[20, 20, 20]                    </td><td>2**38    </td><td>encrypt  </td><td>encryption failed       </td></tr>\n",
              "<tr><td>[2^5 - 2^6]  </td><td>8192              </td><td>[60, 60]                        </td><td>2**38    </td><td>encrypt  </td><td>decryption prec 2 ** -29</td></tr>\n",
              "<tr><td>[2^5 - 2^6]  </td><td>8192              </td><td>[60, 60]                        </td><td>2**38    </td><td>sum      </td><td>decryption prec 2 ** -28</td></tr>\n",
              "<tr><td>[2^5 - 2^6]  </td><td>8192              </td><td>[40, 40]                        </td><td>2**38    </td><td>encrypt  </td><td>encryption failed       </td></tr>\n",
              "<tr><td>[2^5 - 2^6]  </td><td>8192              </td><td>[17, 17]                        </td><td>2**15    </td><td>encrypt  </td><td>encryption failed       </td></tr>\n",
              "<tr><td>[2^5 - 2^6]  </td><td>4096              </td><td>[40, 20, 40]                    </td><td>2**40    </td><td>encrypt  </td><td>decryption prec 2 ** -30</td></tr>\n",
              "<tr><td>[2^5 - 2^6]  </td><td>4096              </td><td>[40, 20, 40]                    </td><td>2**40    </td><td>sum      </td><td>decryption prec 2 ** -29</td></tr>\n",
              "<tr><td>[2^5 - 2^6]  </td><td>4096              </td><td>[30, 20, 30]                    </td><td>2**40    </td><td>encrypt  </td><td>decryption prec 2 ** -31</td></tr>\n",
              "<tr><td>[2^5 - 2^6]  </td><td>4096              </td><td>[30, 20, 30]                    </td><td>2**40    </td><td>sum      </td><td>decryption prec 2 ** -30</td></tr>\n",
              "<tr><td>[2^5 - 2^6]  </td><td>4096              </td><td>[20, 20, 20]                    </td><td>2**38    </td><td>encrypt  </td><td>encryption failed       </td></tr>\n",
              "<tr><td>[2^5 - 2^6]  </td><td>4096              </td><td>[19, 19, 19]                    </td><td>2**35    </td><td>encrypt  </td><td>encryption failed       </td></tr>\n",
              "<tr><td>[2^5 - 2^6]  </td><td>4096              </td><td>[18, 18, 18]                    </td><td>2**33    </td><td>encrypt  </td><td>encryption failed       </td></tr>\n",
              "<tr><td>[2^5 - 2^6]  </td><td>4096              </td><td>[30, 30]                        </td><td>2**25    </td><td>encrypt  </td><td>encryption failed       </td></tr>\n",
              "<tr><td>[2^5 - 2^6]  </td><td>4096              </td><td>[25, 25]                        </td><td>2**20    </td><td>encrypt  </td><td>encryption failed       </td></tr>\n",
              "<tr><td>[2^5 - 2^6]  </td><td>4096              </td><td>[18, 18]                        </td><td>2**16    </td><td>encrypt  </td><td>encryption failed       </td></tr>\n",
              "<tr><td>[2^5 - 2^6]  </td><td>4096              </td><td>[17, 17]                        </td><td>2**15    </td><td>encrypt  </td><td>encryption failed       </td></tr>\n",
              "<tr><td>[2^5 - 2^6]  </td><td>2048              </td><td>[20, 20]                        </td><td>2**18    </td><td>encrypt  </td><td>encryption failed       </td></tr>\n",
              "<tr><td>[2^5 - 2^6]  </td><td>2048              </td><td>[18, 18]                        </td><td>2**16    </td><td>encrypt  </td><td>encryption failed       </td></tr>\n",
              "<tr><td>[2^5 - 2^6]  </td><td>2048              </td><td>[16, 16]                        </td><td>2**14    </td><td>encrypt  </td><td>encryption failed       </td></tr>\n",
              "<tr><td>[2^11 - 2^12]</td><td>8192              </td><td>[60, 40, 60]                    </td><td>2**40    </td><td>encrypt  </td><td>decryption prec 2 ** -30</td></tr>\n",
              "<tr><td>[2^11 - 2^12]</td><td>8192              </td><td>[60, 40, 60]                    </td><td>2**40    </td><td>sum      </td><td>decryption prec 2 ** -29</td></tr>\n",
              "<tr><td>[2^11 - 2^12]</td><td>8192              </td><td>[40, 21, 21, 21, 21, 21, 21, 40]</td><td>2**40    </td><td>encrypt  </td><td>decryption prec 2 ** -32</td></tr>\n",
              "<tr><td>[2^11 - 2^12]</td><td>8192              </td><td>[40, 21, 21, 21, 21, 21, 21, 40]</td><td>2**40    </td><td>sum      </td><td>decryption prec 2 ** -31</td></tr>\n",
              "<tr><td>[2^11 - 2^12]</td><td>8192              </td><td>[40, 21, 21, 21, 21, 21, 21, 40]</td><td>2**21    </td><td>encrypt  </td><td>decryption prec 2 ** -10</td></tr>\n",
              "<tr><td>[2^11 - 2^12]</td><td>8192              </td><td>[40, 21, 21, 21, 21, 21, 21, 40]</td><td>2**21    </td><td>sum      </td><td>decryption prec 2 ** -9 </td></tr>\n",
              "<tr><td>[2^11 - 2^12]</td><td>8192              </td><td>[40, 20, 40]                    </td><td>2**40    </td><td>encrypt  </td><td>decryption prec 2 ** -31</td></tr>\n",
              "<tr><td>[2^11 - 2^12]</td><td>8192              </td><td>[40, 20, 40]                    </td><td>2**40    </td><td>sum      </td><td>decryption prec 2 ** -30</td></tr>\n",
              "<tr><td>[2^11 - 2^12]</td><td>8192              </td><td>[20, 20, 20]                    </td><td>2**38    </td><td>encrypt  </td><td>encryption failed       </td></tr>\n",
              "<tr><td>[2^11 - 2^12]</td><td>8192              </td><td>[60, 60]                        </td><td>2**38    </td><td>encrypt  </td><td>decryption prec 2 ** -30</td></tr>\n",
              "<tr><td>[2^11 - 2^12]</td><td>8192              </td><td>[60, 60]                        </td><td>2**38    </td><td>sum      </td><td>decryption prec 2 ** -29</td></tr>\n",
              "<tr><td>[2^11 - 2^12]</td><td>8192              </td><td>[40, 40]                        </td><td>2**38    </td><td>encrypt  </td><td>encryption failed       </td></tr>\n",
              "<tr><td>[2^11 - 2^12]</td><td>8192              </td><td>[17, 17]                        </td><td>2**15    </td><td>encrypt  </td><td>encryption failed       </td></tr>\n",
              "<tr><td>[2^11 - 2^12]</td><td>4096              </td><td>[40, 20, 40]                    </td><td>2**40    </td><td>encrypt  </td><td>decryption prec 2 ** -31</td></tr>\n",
              "<tr><td>[2^11 - 2^12]</td><td>4096              </td><td>[40, 20, 40]                    </td><td>2**40    </td><td>sum      </td><td>decryption prec 2 ** -30</td></tr>\n",
              "<tr><td>[2^11 - 2^12]</td><td>4096              </td><td>[30, 20, 30]                    </td><td>2**40    </td><td>encrypt  </td><td>encryption failed       </td></tr>\n",
              "<tr><td>[2^11 - 2^12]</td><td>4096              </td><td>[20, 20, 20]                    </td><td>2**38    </td><td>encrypt  </td><td>encryption failed       </td></tr>\n",
              "<tr><td>[2^11 - 2^12]</td><td>4096              </td><td>[19, 19, 19]                    </td><td>2**35    </td><td>encrypt  </td><td>encryption failed       </td></tr>\n",
              "<tr><td>[2^11 - 2^12]</td><td>4096              </td><td>[18, 18, 18]                    </td><td>2**33    </td><td>encrypt  </td><td>encryption failed       </td></tr>\n",
              "<tr><td>[2^11 - 2^12]</td><td>4096              </td><td>[30, 30]                        </td><td>2**25    </td><td>encrypt  </td><td>encryption failed       </td></tr>\n",
              "<tr><td>[2^11 - 2^12]</td><td>4096              </td><td>[25, 25]                        </td><td>2**20    </td><td>encrypt  </td><td>encryption failed       </td></tr>\n",
              "<tr><td>[2^11 - 2^12]</td><td>4096              </td><td>[18, 18]                        </td><td>2**16    </td><td>encrypt  </td><td>encryption failed       </td></tr>\n",
              "<tr><td>[2^11 - 2^12]</td><td>4096              </td><td>[17, 17]                        </td><td>2**15    </td><td>encrypt  </td><td>encryption failed       </td></tr>\n",
              "<tr><td>[2^11 - 2^12]</td><td>2048              </td><td>[20, 20]                        </td><td>2**18    </td><td>encrypt  </td><td>encryption failed       </td></tr>\n",
              "<tr><td>[2^11 - 2^12]</td><td>2048              </td><td>[18, 18]                        </td><td>2**16    </td><td>encrypt  </td><td>encryption failed       </td></tr>\n",
              "<tr><td>[2^11 - 2^12]</td><td>2048              </td><td>[16, 16]                        </td><td>2**14    </td><td>encrypt  </td><td>encryption failed       </td></tr>\n",
              "<tr><td>[2^21 - 2^22]</td><td>8192              </td><td>[60, 40, 60]                    </td><td>2**40    </td><td>encrypt  </td><td>decryption prec 2 ** -39</td></tr>\n",
              "<tr><td>[2^21 - 2^22]</td><td>8192              </td><td>[60, 40, 60]                    </td><td>2**40    </td><td>sum      </td><td>decryption prec 2 ** -39</td></tr>\n",
              "<tr><td>[2^21 - 2^22]</td><td>8192              </td><td>[40, 21, 21, 21, 21, 21, 21, 40]</td><td>2**40    </td><td>encrypt  </td><td>decryption prec 2 ** -31</td></tr>\n",
              "<tr><td>[2^21 - 2^22]</td><td>8192              </td><td>[40, 21, 21, 21, 21, 21, 21, 40]</td><td>2**40    </td><td>sum      </td><td>decryption prec 2 ** -30</td></tr>\n",
              "<tr><td>[2^21 - 2^22]</td><td>8192              </td><td>[40, 21, 21, 21, 21, 21, 21, 40]</td><td>2**21    </td><td>encrypt  </td><td>decryption prec 2 ** -15</td></tr>\n",
              "<tr><td>[2^21 - 2^22]</td><td>8192              </td><td>[40, 21, 21, 21, 21, 21, 21, 40]</td><td>2**21    </td><td>sum      </td><td>decryption prec 2 ** -14</td></tr>\n",
              "<tr><td>[2^21 - 2^22]</td><td>8192              </td><td>[40, 20, 40]                    </td><td>2**40    </td><td>encrypt  </td><td>encryption failed       </td></tr>\n",
              "<tr><td>[2^21 - 2^22]</td><td>8192              </td><td>[20, 20, 20]                    </td><td>2**38    </td><td>encrypt  </td><td>encryption failed       </td></tr>\n",
              "<tr><td>[2^21 - 2^22]</td><td>8192              </td><td>[60, 60]                        </td><td>2**38    </td><td>encrypt  </td><td>encryption failed       </td></tr>\n",
              "<tr><td>[2^21 - 2^22]</td><td>8192              </td><td>[40, 40]                        </td><td>2**38    </td><td>encrypt  </td><td>encryption failed       </td></tr>\n",
              "<tr><td>[2^21 - 2^22]</td><td>8192              </td><td>[17, 17]                        </td><td>2**15    </td><td>encrypt  </td><td>encryption failed       </td></tr>\n",
              "<tr><td>[2^21 - 2^22]</td><td>4096              </td><td>[40, 20, 40]                    </td><td>2**40    </td><td>encrypt  </td><td>encryption failed       </td></tr>\n",
              "<tr><td>[2^21 - 2^22]</td><td>4096              </td><td>[30, 20, 30]                    </td><td>2**40    </td><td>encrypt  </td><td>encryption failed       </td></tr>\n",
              "<tr><td>[2^21 - 2^22]</td><td>4096              </td><td>[20, 20, 20]                    </td><td>2**38    </td><td>encrypt  </td><td>encryption failed       </td></tr>\n",
              "<tr><td>[2^21 - 2^22]</td><td>4096              </td><td>[19, 19, 19]                    </td><td>2**35    </td><td>encrypt  </td><td>encryption failed       </td></tr>\n",
              "<tr><td>[2^21 - 2^22]</td><td>4096              </td><td>[18, 18, 18]                    </td><td>2**33    </td><td>encrypt  </td><td>encryption failed       </td></tr>\n",
              "<tr><td>[2^21 - 2^22]</td><td>4096              </td><td>[30, 30]                        </td><td>2**25    </td><td>encrypt  </td><td>encryption failed       </td></tr>\n",
              "<tr><td>[2^21 - 2^22]</td><td>4096              </td><td>[25, 25]                        </td><td>2**20    </td><td>encrypt  </td><td>encryption failed       </td></tr>\n",
              "<tr><td>[2^21 - 2^22]</td><td>4096              </td><td>[18, 18]                        </td><td>2**16    </td><td>encrypt  </td><td>encryption failed       </td></tr>\n",
              "<tr><td>[2^21 - 2^22]</td><td>4096              </td><td>[17, 17]                        </td><td>2**15    </td><td>encrypt  </td><td>encryption failed       </td></tr>\n",
              "<tr><td>[2^21 - 2^22]</td><td>2048              </td><td>[20, 20]                        </td><td>2**18    </td><td>encrypt  </td><td>encryption failed       </td></tr>\n",
              "<tr><td>[2^21 - 2^22]</td><td>2048              </td><td>[18, 18]                        </td><td>2**16    </td><td>encrypt  </td><td>encryption failed       </td></tr>\n",
              "<tr><td>[2^21 - 2^22]</td><td>2048              </td><td>[16, 16]                        </td><td>2**14    </td><td>encrypt  </td><td>encryption failed       </td></tr>\n",
              "<tr><td>[2^41 - 2^42]</td><td>8192              </td><td>[60, 40, 60]                    </td><td>2**40    </td><td>encrypt  </td><td>decryption prec 2 ** -39</td></tr>\n",
              "<tr><td>[2^41 - 2^42]</td><td>8192              </td><td>[60, 40, 60]                    </td><td>2**40    </td><td>sum      </td><td>decryption prec 2 ** -39</td></tr>\n",
              "<tr><td>[2^41 - 2^42]</td><td>8192              </td><td>[40, 21, 21, 21, 21, 21, 21, 40]</td><td>2**40    </td><td>encrypt  </td><td>decryption prec 2 ** -39</td></tr>\n",
              "<tr><td>[2^41 - 2^42]</td><td>8192              </td><td>[40, 21, 21, 21, 21, 21, 21, 40]</td><td>2**40    </td><td>sum      </td><td>decryption prec 2 ** -39</td></tr>\n",
              "<tr><td>[2^41 - 2^42]</td><td>8192              </td><td>[40, 21, 21, 21, 21, 21, 21, 40]</td><td>2**21    </td><td>encrypt  </td><td>decryption prec 2 ** -20</td></tr>\n",
              "<tr><td>[2^41 - 2^42]</td><td>8192              </td><td>[40, 21, 21, 21, 21, 21, 21, 40]</td><td>2**21    </td><td>sum      </td><td>decryption prec 2 ** -20</td></tr>\n",
              "<tr><td>[2^41 - 2^42]</td><td>8192              </td><td>[40, 20, 40]                    </td><td>2**40    </td><td>encrypt  </td><td>encryption failed       </td></tr>\n",
              "<tr><td>[2^41 - 2^42]</td><td>8192              </td><td>[20, 20, 20]                    </td><td>2**38    </td><td>encrypt  </td><td>encryption failed       </td></tr>\n",
              "<tr><td>[2^41 - 2^42]</td><td>8192              </td><td>[60, 60]                        </td><td>2**38    </td><td>encrypt  </td><td>encryption failed       </td></tr>\n",
              "<tr><td>[2^41 - 2^42]</td><td>8192              </td><td>[40, 40]                        </td><td>2**38    </td><td>encrypt  </td><td>encryption failed       </td></tr>\n",
              "<tr><td>[2^41 - 2^42]</td><td>8192              </td><td>[17, 17]                        </td><td>2**15    </td><td>encrypt  </td><td>encryption failed       </td></tr>\n",
              "<tr><td>[2^41 - 2^42]</td><td>4096              </td><td>[40, 20, 40]                    </td><td>2**40    </td><td>encrypt  </td><td>encryption failed       </td></tr>\n",
              "<tr><td>[2^41 - 2^42]</td><td>4096              </td><td>[30, 20, 30]                    </td><td>2**40    </td><td>encrypt  </td><td>encryption failed       </td></tr>\n",
              "<tr><td>[2^41 - 2^42]</td><td>4096              </td><td>[20, 20, 20]                    </td><td>2**38    </td><td>encrypt  </td><td>encryption failed       </td></tr>\n",
              "<tr><td>[2^41 - 2^42]</td><td>4096              </td><td>[19, 19, 19]                    </td><td>2**35    </td><td>encrypt  </td><td>encryption failed       </td></tr>\n",
              "<tr><td>[2^41 - 2^42]</td><td>4096              </td><td>[18, 18, 18]                    </td><td>2**33    </td><td>encrypt  </td><td>encryption failed       </td></tr>\n",
              "<tr><td>[2^41 - 2^42]</td><td>4096              </td><td>[30, 30]                        </td><td>2**25    </td><td>encrypt  </td><td>encryption failed       </td></tr>\n",
              "<tr><td>[2^41 - 2^42]</td><td>4096              </td><td>[25, 25]                        </td><td>2**20    </td><td>encrypt  </td><td>encryption failed       </td></tr>\n",
              "<tr><td>[2^41 - 2^42]</td><td>4096              </td><td>[18, 18]                        </td><td>2**16    </td><td>encrypt  </td><td>encryption failed       </td></tr>\n",
              "<tr><td>[2^41 - 2^42]</td><td>4096              </td><td>[17, 17]                        </td><td>2**15    </td><td>encrypt  </td><td>encryption failed       </td></tr>\n",
              "<tr><td>[2^41 - 2^42]</td><td>2048              </td><td>[20, 20]                        </td><td>2**18    </td><td>encrypt  </td><td>encryption failed       </td></tr>\n",
              "<tr><td>[2^41 - 2^42]</td><td>2048              </td><td>[18, 18]                        </td><td>2**16    </td><td>encrypt  </td><td>encryption failed       </td></tr>\n",
              "<tr><td>[2^41 - 2^42]</td><td>2048              </td><td>[16, 16]                        </td><td>2**14    </td><td>encrypt  </td><td>encryption failed       </td></tr>\n",
              "<tr><td>[2^51 - 2^52]</td><td>8192              </td><td>[60, 40, 60]                    </td><td>2**40    </td><td>encrypt  </td><td>decryption prec 2 ** -39</td></tr>\n",
              "<tr><td>[2^51 - 2^52]</td><td>8192              </td><td>[60, 40, 60]                    </td><td>2**40    </td><td>sum      </td><td>decryption prec 2 ** -39</td></tr>\n",
              "<tr><td>[2^51 - 2^52]</td><td>8192              </td><td>[40, 21, 21, 21, 21, 21, 21, 40]</td><td>2**40    </td><td>encrypt  </td><td>decryption prec 2 ** -39</td></tr>\n",
              "<tr><td>[2^51 - 2^52]</td><td>8192              </td><td>[40, 21, 21, 21, 21, 21, 21, 40]</td><td>2**40    </td><td>sum      </td><td>decryption prec 2 ** -39</td></tr>\n",
              "<tr><td>[2^51 - 2^52]</td><td>8192              </td><td>[40, 21, 21, 21, 21, 21, 21, 40]</td><td>2**21    </td><td>encrypt  </td><td>decryption prec 2 ** -20</td></tr>\n",
              "<tr><td>[2^51 - 2^52]</td><td>8192              </td><td>[40, 21, 21, 21, 21, 21, 21, 40]</td><td>2**21    </td><td>sum      </td><td>decryption prec 2 ** -20</td></tr>\n",
              "<tr><td>[2^51 - 2^52]</td><td>8192              </td><td>[40, 20, 40]                    </td><td>2**40    </td><td>encrypt  </td><td>encryption failed       </td></tr>\n",
              "<tr><td>[2^51 - 2^52]</td><td>8192              </td><td>[20, 20, 20]                    </td><td>2**38    </td><td>encrypt  </td><td>encryption failed       </td></tr>\n",
              "<tr><td>[2^51 - 2^52]</td><td>8192              </td><td>[60, 60]                        </td><td>2**38    </td><td>encrypt  </td><td>encryption failed       </td></tr>\n",
              "<tr><td>[2^51 - 2^52]</td><td>8192              </td><td>[40, 40]                        </td><td>2**38    </td><td>encrypt  </td><td>encryption failed       </td></tr>\n",
              "<tr><td>[2^51 - 2^52]</td><td>8192              </td><td>[17, 17]                        </td><td>2**15    </td><td>encrypt  </td><td>encryption failed       </td></tr>\n",
              "<tr><td>[2^51 - 2^52]</td><td>4096              </td><td>[40, 20, 40]                    </td><td>2**40    </td><td>encrypt  </td><td>encryption failed       </td></tr>\n",
              "<tr><td>[2^51 - 2^52]</td><td>4096              </td><td>[30, 20, 30]                    </td><td>2**40    </td><td>encrypt  </td><td>encryption failed       </td></tr>\n",
              "<tr><td>[2^51 - 2^52]</td><td>4096              </td><td>[20, 20, 20]                    </td><td>2**38    </td><td>encrypt  </td><td>encryption failed       </td></tr>\n",
              "<tr><td>[2^51 - 2^52]</td><td>4096              </td><td>[19, 19, 19]                    </td><td>2**35    </td><td>encrypt  </td><td>encryption failed       </td></tr>\n",
              "<tr><td>[2^51 - 2^52]</td><td>4096              </td><td>[18, 18, 18]                    </td><td>2**33    </td><td>encrypt  </td><td>encryption failed       </td></tr>\n",
              "<tr><td>[2^51 - 2^52]</td><td>4096              </td><td>[30, 30]                        </td><td>2**25    </td><td>encrypt  </td><td>encryption failed       </td></tr>\n",
              "<tr><td>[2^51 - 2^52]</td><td>4096              </td><td>[25, 25]                        </td><td>2**20    </td><td>encrypt  </td><td>encryption failed       </td></tr>\n",
              "<tr><td>[2^51 - 2^52]</td><td>4096              </td><td>[18, 18]                        </td><td>2**16    </td><td>encrypt  </td><td>encryption failed       </td></tr>\n",
              "<tr><td>[2^51 - 2^52]</td><td>4096              </td><td>[17, 17]                        </td><td>2**15    </td><td>encrypt  </td><td>encryption failed       </td></tr>\n",
              "<tr><td>[2^51 - 2^52]</td><td>2048              </td><td>[20, 20]                        </td><td>2**18    </td><td>encrypt  </td><td>encryption failed       </td></tr>\n",
              "<tr><td>[2^51 - 2^52]</td><td>2048              </td><td>[18, 18]                        </td><td>2**16    </td><td>encrypt  </td><td>encryption failed       </td></tr>\n",
              "<tr><td>[2^51 - 2^52]</td><td>2048              </td><td>[16, 16]                        </td><td>2**14    </td><td>encrypt  </td><td>encryption failed       </td></tr>\n",
              "<tr><td>[2^-1 - 2^0] </td><td>8192              </td><td>[60, 40, 40, 60]                </td><td>2**40    </td><td>mul      </td><td>decryption prec 2 ** -23</td></tr>\n",
              "<tr><td>[2^-1 - 2^0] </td><td>8192              </td><td>[40, 21, 21, 40]                </td><td>2**21    </td><td>mul      </td><td>decryption prec 2 ** -2 </td></tr>\n",
              "<tr><td>[2^-1 - 2^0] </td><td>8192              </td><td>[40, 20, 20, 40]                </td><td>2**40    </td><td>mul      </td><td>failed                  </td></tr>\n",
              "<tr><td>[2^-1 - 2^0] </td><td>8192              </td><td>[20, 20, 20]                    </td><td>2**38    </td><td>mul      </td><td>failed                  </td></tr>\n",
              "<tr><td>[2^-1 - 2^0] </td><td>4096              </td><td>[40, 20, 40]                    </td><td>2**40    </td><td>mul      </td><td>failed                  </td></tr>\n",
              "<tr><td>[2^-1 - 2^0] </td><td>4096              </td><td>[30, 20, 30]                    </td><td>2**40    </td><td>mul      </td><td>failed                  </td></tr>\n",
              "<tr><td>[2^-1 - 2^0] </td><td>4096              </td><td>[20, 20, 20]                    </td><td>2**38    </td><td>mul      </td><td>failed                  </td></tr>\n",
              "<tr><td>[2^-1 - 2^0] </td><td>4096              </td><td>[19, 19, 19]                    </td><td>2**35    </td><td>mul      </td><td>failed                  </td></tr>\n",
              "<tr><td>[2^-1 - 2^0] </td><td>4096              </td><td>[18, 18, 18]                    </td><td>2**33    </td><td>mul      </td><td>failed                  </td></tr>\n",
              "<tr><td>[2^-1 - 2^0] </td><td>4096              </td><td>[30, 30, 30]                    </td><td>2**25    </td><td>mul      </td><td>decryption prec 2 ** 0  </td></tr>\n",
              "<tr><td>[2^-1 - 2^0] </td><td>4096              </td><td>[25, 25, 25]                    </td><td>2**20    </td><td>mul      </td><td>decryption prec 2 ** 0  </td></tr>\n",
              "<tr><td>[2^-1 - 2^0] </td><td>4096              </td><td>[18, 18, 18]                    </td><td>2**16    </td><td>mul      </td><td>decryption prec 2 ** 0  </td></tr>\n",
              "<tr><td>[2^-1 - 2^0] </td><td>2048              </td><td>[18, 18, 18]                    </td><td>2**16    </td><td>mul      </td><td>decryption prec 2 ** -1 </td></tr>\n",
              "<tr><td>[2^0 - 2^1]  </td><td>8192              </td><td>[60, 40, 40, 60]                </td><td>2**40    </td><td>mul      </td><td>decryption prec 2 ** -22</td></tr>\n",
              "<tr><td>[2^0 - 2^1]  </td><td>8192              </td><td>[40, 21, 21, 40]                </td><td>2**21    </td><td>mul      </td><td>decryption prec 2 ** -2 </td></tr>\n",
              "<tr><td>[2^0 - 2^1]  </td><td>8192              </td><td>[40, 20, 20, 40]                </td><td>2**40    </td><td>mul      </td><td>failed                  </td></tr>\n",
              "<tr><td>[2^0 - 2^1]  </td><td>4096              </td><td>[40, 20, 40]                    </td><td>2**40    </td><td>mul      </td><td>failed                  </td></tr>\n",
              "<tr><td>[2^0 - 2^1]  </td><td>4096              </td><td>[30, 20, 30]                    </td><td>2**40    </td><td>mul      </td><td>failed                  </td></tr>\n",
              "<tr><td>[2^0 - 2^1]  </td><td>4096              </td><td>[18, 18, 18]                    </td><td>2**16    </td><td>mul      </td><td>decryption prec 2 ** 0  </td></tr>\n",
              "<tr><td>[2^0 - 2^1]  </td><td>2048              </td><td>[18, 18, 18]                    </td><td>2**16    </td><td>mul      </td><td>decryption prec 2 ** 0  </td></tr>\n",
              "<tr><td>[2^1 - 2^2]  </td><td>8192              </td><td>[60, 40, 40, 60]                </td><td>2**40    </td><td>mul      </td><td>decryption prec 2 ** -19</td></tr>\n",
              "<tr><td>[2^1 - 2^2]  </td><td>8192              </td><td>[40, 20, 20, 40]                </td><td>2**40    </td><td>mul      </td><td>failed                  </td></tr>\n",
              "<tr><td>[2^1 - 2^2]  </td><td>4096              </td><td>[40, 20, 40]                    </td><td>2**40    </td><td>mul      </td><td>failed                  </td></tr>\n",
              "<tr><td>[2^1 - 2^2]  </td><td>4096              </td><td>[30, 20, 30]                    </td><td>2**40    </td><td>mul      </td><td>failed                  </td></tr>\n",
              "<tr><td>[2^5 - 2^6]  </td><td>8192              </td><td>[60, 40, 40, 60]                </td><td>2**40    </td><td>mul      </td><td>decryption prec 2 ** -11</td></tr>\n",
              "<tr><td>[2^5 - 2^6]  </td><td>8192              </td><td>[40, 20, 20, 40]                </td><td>2**40    </td><td>mul      </td><td>failed                  </td></tr>\n",
              "<tr><td>[2^5 - 2^6]  </td><td>4096              </td><td>[40, 20, 40]                    </td><td>2**40    </td><td>mul      </td><td>failed                  </td></tr>\n",
              "<tr><td>[2^5 - 2^6]  </td><td>4096              </td><td>[30, 20, 30]                    </td><td>2**40    </td><td>mul      </td><td>failed                  </td></tr>\n",
              "<tr><td>[2^11 - 2^12]</td><td>8192              </td><td>[40, 20, 20, 40]                </td><td>2**40    </td><td>mul      </td><td>failed                  </td></tr>\n",
              "<tr><td>[2^11 - 2^12]</td><td>4096              </td><td>[40, 20, 40]                    </td><td>2**40    </td><td>mul      </td><td>failed                  </td></tr>\n",
              "<tr><td>[2^21 - 2^22]</td><td>8192              </td><td>[40, 20, 20, 40]                </td><td>2**40    </td><td>mul      </td><td>failed                  </td></tr>\n",
              "</tbody>\n",
              "</table>"
            ],
            "text/plain": [
              "<IPython.core.display.HTML object>"
            ]
          },
          "metadata": {},
          "output_type": "display_data"
        }
      ],
      "source": [
        "#@title Understanding the ciphertext precision impact { display-mode: \"form\" }\n",
        "\n",
        "\n",
        "data = [ random.random()]\n",
        "\n",
        "enc_type = ts.ENCRYPTION_TYPE.ASYMMETRIC\n",
        "ct_size_benchmarks = [[\"Value range\", \"Polynomial modulus\", \"Coefficient modulus sizes\", \"Precision\", \"Operation\", \"Status\"]]\n",
        "\n",
        "\n",
        "for data_pow in [-1, 0, 1, 5, 11, 21, 41, 51]:\n",
        "    data = [ random.uniform(2 ** data_pow, 2 ** (data_pow + 1))]\n",
        "    for (poly_mod, coeff_mod_bit_sizes, prec) in [\n",
        "        (8192, [60, 40, 60], 40),\n",
        "        (8192, [40, 21, 21, 21, 21, 21, 21, 40], 40),\n",
        "        (8192, [40, 21, 21, 21, 21, 21, 21, 40], 21),\n",
        "        (8192, [40, 20, 40], 40),\n",
        "        (8192, [20, 20, 20], 38),\n",
        "        (8192, [60, 60], 38),\n",
        "        (8192, [40, 40], 38),\n",
        "        (8192, [17, 17], 15),\n",
        "        (4096, [40, 20, 40], 40),\n",
        "        (4096, [30, 20, 30], 40),\n",
        "        (4096, [20, 20, 20], 38),\n",
        "        (4096, [19, 19, 19], 35),\n",
        "        (4096, [18, 18, 18], 33),\n",
        "        (4096, [30, 30], 25),\n",
        "        (4096, [25, 25], 20),\n",
        "        (4096, [18, 18], 16),\n",
        "        (4096, [17, 17], 15),\n",
        "        (2048, [20, 20], 18),\n",
        "        (2048, [18, 18], 16),\n",
        "        (2048, [16, 16], 14),\n",
        "    ]:\n",
        "        val_str = \"[2^{} - 2^{}]\".format(data_pow, data_pow + 1)\n",
        "        context = ts.context(\n",
        "            scheme=ts.SCHEME_TYPE.CKKS,\n",
        "            poly_modulus_degree=poly_mod,\n",
        "            coeff_mod_bit_sizes=coeff_mod_bit_sizes,\n",
        "            encryption_type=enc_type,\n",
        "        )\n",
        "        scale = 2 ** prec\n",
        "        try:\n",
        "            ckks_vec = ts.ckks_vector(context, data, scale)\n",
        "        except BaseException as e:\n",
        "            ct_size_benchmarks.append([val_str, poly_mod, coeff_mod_bit_sizes, \"2**{}\".format(prec), \"encrypt\", \"encryption failed\"])\n",
        "            continue\n",
        "    \n",
        "        decrypted = decrypt(ckks_vec)\n",
        "        for dec_prec in reversed(range(prec)):\n",
        "            if pytest.approx(decrypted, abs=2 ** -dec_prec) == data:\n",
        "                ct_size_benchmarks.append([val_str, poly_mod, coeff_mod_bit_sizes, \"2**{}\".format(prec), \"encrypt\", \"decryption prec 2 ** {}\".format(-dec_prec)])\n",
        "                break\n",
        "        ckks_sum = ckks_vec + ckks_vec\n",
        "        decrypted = decrypt(ckks_sum)\n",
        "        for dec_prec in reversed(range(prec)):\n",
        "            if pytest.approx(decrypted, abs=2 ** -dec_prec) == [data[0] + data[0]]:\n",
        "                ct_size_benchmarks.append([val_str, poly_mod, coeff_mod_bit_sizes, \"2**{}\".format(prec), \"sum\", \"decryption prec 2 ** {}\".format(-dec_prec)])\n",
        "                break\n",
        "                \n",
        "\n",
        "# We add more depth for the multiplication scenario\n",
        "for data_pow in [-1, 0, 1, 5, 11, 21, 41, 51]:\n",
        "    data = [ random.uniform(2 ** data_pow, 2 ** (data_pow + 1))]\n",
        "    for (poly_mod, coeff_mod_bit_sizes, prec) in [\n",
        "        (8192, [60, 40, 40, 60], 40),\n",
        "        (8192, [40, 21, 21, 40], 40),\n",
        "        (8192, [40, 21, 21, 40], 21),\n",
        "        (8192, [40, 20, 20, 40], 40),\n",
        "        (8192, [20, 20, 20], 38),\n",
        "        (4096, [40, 20, 40], 40),\n",
        "        (4096, [30, 20, 30], 40),\n",
        "        (4096, [20, 20, 20], 38),\n",
        "        (4096, [19, 19, 19], 35),\n",
        "        (4096, [18, 18, 18], 33),\n",
        "        (4096, [30, 30, 30], 25),\n",
        "        (4096, [25, 25, 25], 20),\n",
        "        (4096, [18, 18, 18], 16),\n",
        "        (2048, [18, 18, 18], 16),\n",
        "    ]:\n",
        "        val_str = \"[2^{} - 2^{}]\".format(data_pow, data_pow + 1)\n",
        "        context = ts.context(\n",
        "            scheme=ts.SCHEME_TYPE.CKKS,\n",
        "            poly_modulus_degree=poly_mod,\n",
        "            coeff_mod_bit_sizes=coeff_mod_bit_sizes,\n",
        "            encryption_type=enc_type,\n",
        "        )\n",
        "        scale = 2 ** prec\n",
        "        try:\n",
        "            ckks_vec = ts.ckks_vector(context, data, scale)\n",
        "        except BaseException as e:\n",
        "            continue\n",
        "                \n",
        "        try:\n",
        "            ckks_mul = ckks_vec * ckks_vec\n",
        "        except:\n",
        "            ct_size_benchmarks.append([val_str, poly_mod, coeff_mod_bit_sizes, \"2**{}\".format(prec), \"mul\", \"failed\"])\n",
        "            continue\n",
        "        decrypted = decrypt(ckks_mul)\n",
        "        for dec_prec in reversed(range(prec)):\n",
        "            if pytest.approx(decrypted, abs=2 ** -dec_prec) == [data[0] * data[0]]:\n",
        "                ct_size_benchmarks.append([val_str, poly_mod, coeff_mod_bit_sizes, \"2**{}\".format(prec), \"mul\", \"decryption prec 2 ** {}\".format(-dec_prec)])\n",
        "                break\n",
        "                \n",
        "display(HTML(tabulate.tabulate(ct_size_benchmarks, tablefmt='html')))"
      ]
    },
    {
      "cell_type": "markdown",
      "metadata": {
        "id": "3v1juerA_sYR"
      },
      "source": [
        "## A WARNING ABOUT HOMOMORPHIC ENCRYPTION\n",
        "\n",
        "Your encrypted system is only as secure as your keys.\n",
        "\n",
        "![](https://imgs.xkcd.com/comics/security.png)"
      ]
    }
  ],
  "metadata": {
    "colab": {
      "provenance": []
    },
    "kernelspec": {
      "display_name": "Python 3",
      "language": "python",
      "name": "python3"
    },
    "language_info": {
      "name": "python",
      "version": "3.9.0 (default, Dec 11 2020, 03:26:52) \n[Clang 12.0.0 (clang-1200.0.32.21)]"
    },
    "vscode": {
      "interpreter": {
        "hash": "b6b7e97e50c754c7aee36d85160e6764033ec8a20165f676e018446c78d531c2"
      }
    }
  },
  "nbformat": 4,
  "nbformat_minor": 0
}
