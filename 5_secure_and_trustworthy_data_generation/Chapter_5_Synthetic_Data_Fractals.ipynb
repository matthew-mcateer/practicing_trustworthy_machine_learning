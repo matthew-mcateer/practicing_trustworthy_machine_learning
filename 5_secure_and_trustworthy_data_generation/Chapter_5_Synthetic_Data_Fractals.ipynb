{
  "cells": [
    {
      "cell_type": "markdown",
      "metadata": {
        "id": "u-GfOlaUDD_c"
      },
      "source": [
        "# Chapter 5: Synthetic Data Fractals\n",
        "\n",
        "\n",
        "| **Platform**           | **Link**                                                                                                                                                                                                                                                                                               | **Notes**                                                                                                                                                                                                                                                                                                                                                                                                                                                                                                                                                                                                                                                                                                                                                                                                                                                                                                                                                    |\n",
        "|------------------------|--------------------------------------------------------------------------------------------------------------------------------------------------------------------------------------------------------------------------------------------------------------------------------------------------------|--------------------------------------------------------------------------------------------------------------------------------------------------------------------------------------------------------------------------------------------------------------------------------------------------------------------------------------------------------------------------------------------------------------------------------------------------------------------------------------------------------------------------------------------------------------------------------------------------------------------------------------------------------------------------------------------------------------------------------------------------------------------------------------------------------------------------------------------------------------------------------------------------------------------------------------------------------------|\n",
        "| _Local Folder_         | [Deep Dive Example: Synthetic Data Fractals](5_secure_and_trustworthy_data_generation/Chapter_5_Synthetic_Data_Fractals.ipynb)                                                                                                                                                                                                                                |  `5_secure_and_trustworthy_data_generation/`<br>`Chapter_5_Synthetic_Data_Fractals.ipynb`                                                                                                                                                                                                                                                                                                                                                                                                                                                                                                                                                                                                                                                                                                                                                                                                                                                                                                                                                            |\n",
        "| _Book Chapter_         | [Chapter 5: Secure and Trustworthy Data Generation](https://learning.oreilly.com/library/view/practicing-trustworthy-machine/9781098120269/ch05.html)                                                                                                                                                                                 | Ebook available from [O'Reilly](https://www.oreilly.com/library/view/practicing-trustworthy-machine/9781098120269/).<br>Physical book available from [Amazon](https://www.amazon.com/Practicing-Trustworthy-Machine-Learning-Transparent/dp/1098120272)                                                                                                                                                                                                                                                                                                                                                                                                                                                                                                                                                                                                                                                                                                      |\n",
        "| _GitHub_               | [![GitHub](https://img.shields.io/badge/-View%20on%20GitHub-181717?logo=github&logoColor=ffffff)](https://github.com/matthew-mcateer/practicing_trustworthy_machine_learning/blob/main/5_secure_and_trustworthy_data_generation/Chapter_5_Synthetic_Data_Fractals.ipynb)                                                                          | Please star on GitHub so others can<br>find this repo and get help with implenting<br>their trustworthy AI pipelines<br> [![GitHub forks](https://img.shields.io/github/forks/matthew-mcateer/practicing_trustworthy_machine_learning.svg?style=social&label=Fork&maxAge=2592000)](https://github.com/matthew-mcateer/practicing_trustworthy_machine_learning/network/) <br> [![GitHub stars](https://img.shields.io/github/stars/matthew-mcateer/practicing_trustworthy_machine_learning.svg?style=social&label=Star&maxAge=2592000)](https://github.com/matthew-mcateer/practicing_trustworthy_machine_learning/stargazers/) <br> [![GitHub watchers](https://img.shields.io/github/watchers/matthew-mcateer/practicing_trustworthy_machine_learning.svg?style=social&label=Watch&maxAge=2592000)](https://github.com/matthew-mcateer/practicing_trustworthy_machine_learning/watchers/) <br>[`@matthew-mcateer`](https://github.com/matthew-mcateer) [![GitHub followers](https://img.shields.io/github/followers/matthew-mcateer?style=social&label=Follow&maxAge=2592000)](https://github.com/matthew-mcateer?tab=followers)<br>[`@pruksmhc`](https://github.com/pruksmhc) [![GitHub followers](https://img.shields.io/github/followers/pruksmhc?style=social&label=Follow&maxAge=2592000)](https://github.com/pruksmhc?tab=followers)<br>[`@shubhobm`](https://github.com/shubhobm) [![GitHub followers](https://img.shields.io/github/followers/shubhobm?style=social&label=Follow&maxAge=2592000)](https://github.com/shubhobm?tab=followers)  |\n",
        "| _Colab_                | [![Open In Colab](https://colab.research.google.com/assets/colab-badge.svg)](https://colab.research.google.com/github/matthew-mcateer/practicing_trustworthy_machine_learning/blob/main/5_secure_and_trustworthy_data_generation/Chapter_5_Synthetic_Data_Fractals.ipynb)                                                                         | Enable GPU<br> Colab Pro recommended                                                                                                                                                                                                                                                                                                                                                                                                                                                                                                                                                                                                                                                                                                                                                                                                                                                                                                                         |\n",
        "| _Kaggle_               | [ ![ Kaggle ]( https://kaggle.com/static/images/open-in-kaggle.svg ) ]( https://kaggle.com/kernels/welcome?src=https://github.com/matthew-mcateer/practicing_trustworthy_machine_learning/blob/main/5_secure_and_trustworthy_data_generation/Chapter_5_Synthetic_Data_Fractals.ipynb )                                                            | Enable GPU<br> Enable Internet                                                                                                                                                                                                                                                                                                                                                                                                                                                                                                                                                                                                                                                                                                                                                                                                                                                                                                                               |\n",
        "| _Gradient_             | [ ![ Gradient ]( https://assets.paperspace.io/img/gradient-badge.svg ) ]( https://console.paperspace.com/github/matthew-mcateer/practicing_trustworthy_machine_learning/blob/main/5_secure_and_trustworthy_data_generation/Chapter_5_Synthetic_Data_Fractals.ipynb )                                                                              | Enable GPU                                                                                                                                                                                                                                                                                                                                                                                                                                                                                                                                                                                                                                                                                                                                                                                                                                                                                                                                                   |\n",
        "| _SageMaker Studio Lab_ | [![ Open In SageMaker Studio Lab ]( https://studiolab.sagemaker.aws/studiolab.svg ) ]( https://studiolab.sagemaker.aws/import/github/matthew-mcateer/practicing_trustworthy_machine_learning/blob/main/5_secure_and_trustworthy_data_generation/Chapter_5_Synthetic_Data_Fractals.ipynb )                                                         | Recommend `ml.g4dn.xlarge` instance at minimum<br>(alternatively, `g4dn.2xlarge` if using EC2 instance)                                                                                                                                                                                                                                                                                                                                                                                                                                                                                                                                                                                                                                                                                                                                                                                                                                                                                                               |\n",
        "| _Binder_               | [ ![ Binder ]( https://mybinder.org/badge_logo.svg ) ]( https://mybinder.org/v2/gh/matthew-mcateer/practicing_trustworthy_machine_learning/HEAD?urlpath=https%3A%2F%2Fgithub.com%2Fmatthew-mcateer%2Fpracticing_trustworthy_machine_learning%2Fblob%2Fmain%2F5_secure_and_trustworthy_data_generation%2FChapter_5_Synthetic_Data_Fractals.ipynb ) | May run slowly without GPU                                                                                                                                                                                                                                                                                                                                                                                                                                                                                                                                                                                                                                                                                                                                                                                                                                                                                                                                   |\n",
        "\n",
        "\n",
        "This code tutorial is heavily based on the [Official PyTorch code](https://github.com/catalys1/fractal-pretraining) for the paper [\"Improving Fractal Pre-training\"](https://arxiv.org/abs/2110.03091).\n",
        "\n",
        "This specific implementation comes from a fork of the original [`catalys1/fractal-pretraining`](https://github.com/catalys1/fractal-pretraining) repo. This fork replaces the PyTorch DataLoader class with NVIDIA's Merlin DLDataloader (which in some instances boasts [up to 119x performance improvements on tabular datasets](https://twitter.com/radekosmulski/status/1593125626361180160) )\n",
        "\n",
        "<!--\n",
        "Originally found on GitHub at https://github.com/matthew-mcateer/practicing_trustworthy_machine_learning/blob/main/5_secure_and_trustworthy_data_generation/Chapter_5_Synthetic_Data_Fractals.ipynb\n",
        "-->\n"
      ]
    },
    {
      "cell_type": "markdown",
      "source": [
        "## ⚙️ Setup"
      ],
      "metadata": {
        "id": "9fIDCZydVRXc"
      }
    },
    {
      "cell_type": "code",
      "source": [
        "import sys\n",
        "\n",
        "def check_if_colab() -> bool:\n",
        "    \"\"\"Check if this is being run in Google Colab.\"\"\"\n",
        "    return \"google.colab\" in sys.modules\n",
        "\n",
        "def check_if_kaggle() -> bool:\n",
        "    \"\"\"Check if this is being run in Kaggle.\"\"\"\n",
        "    return \"kaggle_secrets\" in sys.modules\n",
        "\n",
        "IS_COLAB = check_if_colab()\n",
        "IS_KAGGLE = check_if_kaggle()"
      ],
      "metadata": {
        "id": "KZFYWtM-VVAh"
      },
      "execution_count": null,
      "outputs": []
    },
    {
      "cell_type": "code",
      "source": [
        "# Recommend checking that you have at least one indexable GPU\n",
        "!nvidia-smi"
      ],
      "metadata": {
        "id": "w3zDt2adVZ75"
      },
      "execution_count": null,
      "outputs": []
    },
    {
      "cell_type": "code",
      "source": [
        "import subprocess\n",
        "\n",
        "command1 = ['nvidia-smi', '--list-gpus']\n",
        "proc1 = subprocess.Popen(command1, stdout=subprocess.PIPE)\n",
        "command2 = ['wc', '-l']\n",
        "proc2 = subprocess.Popen(command2, stdin=proc1.stdout, stdout=subprocess.PIPE)\n",
        "proc1.stdout.close()\n",
        "out, err = proc2.communicate()\n",
        "GPU_COUNT = int(out.decode('utf-8').strip())\n",
        "\n",
        "print(\"GPU Count: \", GPU_COUNT)"
      ],
      "metadata": {
        "id": "jdnvX-N8VrTV"
      },
      "execution_count": null,
      "outputs": []
    },
    {
      "cell_type": "code",
      "source": [
        "if IS_COLAB==True or IS_KAGGLE==True:\n",
        "    !pip -qq install --upgrade pip\n",
        "    !pip -qq install pytorch-lightning omegaconf torchmetrics==0.6.2 fgvcdata transformers datasets watermark\n",
        "    !pip -qq install merlin-dataloader==0.0.2\n",
        "    !pip install hydra-core --upgrade\n",
        "\n",
        "    !git clone https://github.com/catalys1/fractal-pretraining.git\n",
        "    %cd fractal-pretraining\n",
        "    # install requirements\n",
        "    !bash install_requirements.sh\n",
        "    # install project in editable mode\n",
        "    !pip install -e fractal_learning"
      ],
      "metadata": {
        "id": "BiI0urfKVus1"
      },
      "execution_count": null,
      "outputs": []
    },
    {
      "cell_type": "code",
      "execution_count": null,
      "metadata": {
        "id": "d68U7DL0Iget"
      },
      "outputs": [],
      "source": [
        "%load_ext watermark\n",
        "%watermark -a \"Practicing Trustworthy machine Learning\" -u -d -v -m -p pytorch_lightning,omegaconf,torchmetrics,merlin,transformers,datasets,fgvcdata,watermark"
      ]
    },
    {
      "cell_type": "code",
      "source": [
        "import torch\n",
        "from torchmetrics import Accuracy, F1"
      ],
      "metadata": {
        "id": "-K6f487KtS4b"
      },
      "execution_count": null,
      "outputs": []
    },
    {
      "cell_type": "markdown",
      "source": [
        "## 🧱 Basics of Generating fractals"
      ],
      "metadata": {
        "id": "7kR18uod0L5h"
      }
    },
    {
      "cell_type": "markdown",
      "source": [
        "There is an increasingly large body of research demonstrating that pre-training pattern-recognition systems on the patterns defined by fractals can be very cost-effective.\n",
        "\n",
        "Creating synthetic data using fractals counts as a process-based synthetic data approach (contrast with a data-based synthetic data approach).\n",
        "This means that using fractals as a data source has the following advantages:\n",
        "- No need to store and transmit large image datasets\n",
        "- Free labels, no issues around depictions of people\n",
        "- No issues surrounding copyrights and ownership of images\n",
        "- seeminly-infinite supply of images\n",
        "\n",
        "But what are these fractal patterns we want to train the network on?\n",
        "Fractal images are made by taking some kind of formula and repeating it.\n",
        "Some famous examples include the Julia and Mandelbrot sets.\n",
        "\n",
        "There is an incredibly wide diversity of functions that make these fractal images.\n",
        "However, using a [Iterated Function System (IFS)](https://en.wikipedia.org/wiki/Iterated_function_system) can capture a very wide diversity of these fractals.\n",
        "\n",
        "The authors of the paper \"Improving Fractal Pre-training\" not only define an IFS that's handy for synthetic image data, but they also provide experiments detailing a range of values for the parameters of the IFS.\n",
        "\n",
        "The goal is to create fractals that have visible, detailed, and ordered geometry.\n",
        "Outside this range the IFS might generate shapes that are too diffuse or that degenerate into seemingly-random noise:\n",
        "\n",
        "![](https://github.com/matthew-mcateer/practicing_trustworthy_machine_learning/blob/main/5_secure_and_trustworthy_data_generation/images/ptml_fractal_sigma.png?raw=1)\n",
        "\n",
        "the IFS follows 2 general steps:\n",
        "\n",
        "1. It starts with a system, defined by a collection of 2 x 3 arrays (this is the table of SVD floats on the left-hand side of the screen).\n",
        "3. Then, an iteration function iterates on these initial conditions (the affine transform parameters seen on the right-hand side of the screen).\n",
        "\n",
        "In the event the equations from the paper are not intuitive, the authors also created [an interactive web app for exploring how the IFS creates fractal images](https://catalys1.github.io/ifs-fractal-web/ifsdisplay.html)."
      ],
      "metadata": {
        "id": "JrmTvqnq0QLw"
      }
    },
    {
      "cell_type": "markdown",
      "metadata": {
        "id": "OZEt6i9YDh0w"
      },
      "source": [
        "## 🖥️ Using the Fractal generation Web App\n"
      ]
    },
    {
      "cell_type": "markdown",
      "source": [
        "This package contains code for sampling and rendering Iterated Function Systems and diamond-square textures.\n",
        "The implementation uses `numba` extensively for performance, as well as `numpy` and `opencv` (for colorspace conversion)."
      ],
      "metadata": {
        "id": "fwRU_aRyWoee"
      }
    },
    {
      "cell_type": "markdown",
      "metadata": {
        "id": "B-W9B9r1VBpS"
      },
      "source": [
        "You can see an interactive explainer for how these fractals are generated here: https://catalys1.github.io/ifs-fractal-web/ifsdisplay.html\n",
        "\n",
        "![](https://github.com/matthew-mcateer/practicing_trustworthy_machine_learning/blob/main/5_secure_and_trustworthy_data_generation/images/ptml_ifs_display.png?raw=1)\n",
        "\n",
        "To use it, use the fractal SVD manipulator pane to change the system SVD parameters.\n",
        "- Click and drag to manipulate the parameters.\n",
        "- The solid circular handles adjust the singular values— red is the larger singular value (and associated vectors) while blue is the smaller singular value.\n",
        "- Holding CTRL and clicking a singular value handle will flip the determinant.\n",
        "- The hollow circular handles change the singular vector orientation.\n",
        "- The central black hollow circle adjusts the position (translation vector)."
      ]
    },
    {
      "cell_type": "markdown",
      "metadata": {
        "id": "IlQrrK7zFeKW"
      },
      "source": [
        "## 🖌️ Rendering Fractal Images\n"
      ]
    },
    {
      "cell_type": "code",
      "execution_count": null,
      "metadata": {
        "id": "Vy5ybLSGDFzN"
      },
      "outputs": [],
      "source": [
        "from fractal_learning.fractals.ifs import (\n",
        "    colorize,\n",
        "    render,\n",
        "    iterate,\n",
        "    sample_system,\n",
        ")\n",
        "from fractal_learning.fractals.diamondsquare import colorized_ds\n",
        "import matplotlib.pyplot as plt\n",
        "\n",
        "# %config InlineBackend.figure_format = 'retina'\n",
        "\n",
        "system = sample_system(2)\n",
        "points = iterate(system, 100000)\n",
        "\n",
        "# render images in binary, grayscale, and color\n",
        "binary_image = render(points, binary=True)\n",
        "gray_image = render(points, binary=False)\n",
        "color_image = colorize(gray_image)\n",
        "\n",
        "# create a random colored background\n",
        "background = colorized_ds()\n",
        "\n",
        "# create a composite image\n",
        "composite = background.copy()\n",
        "composite[gray_image.nonzero()] = color_image[gray_image.nonzero()]\n",
        "\n",
        "# Display the images in a 4x4 grid\n",
        "fig, axes = plt.subplots(2, 2, figsize=(5, 5))\n",
        "axes[0, 0].imshow(binary_image, cmap=\"gray\")\n",
        "axes[0, 0].set_title(\"Binary\")\n",
        "axes[0, 1].imshow(gray_image, cmap=\"gray\")\n",
        "axes[0, 1].set_title(\"Grayscale\")\n",
        "axes[1, 0].imshow(color_image)\n",
        "axes[1, 0].set_title(\"Color\")\n",
        "axes[1, 1].imshow(composite)\n",
        "axes[1, 1].set_title(\"Composite\")\n",
        "plt.show();"
      ]
    },
    {
      "cell_type": "markdown",
      "metadata": {
        "id": "I3-3awBRFcVL"
      },
      "source": [
        "## 🖲️ Sampling IFS Codes\n",
        "\n",
        "You can generate a dataset of fractal systems saved as a `pickle` file by running `ifs.py`:"
      ]
    },
    {
      "cell_type": "code",
      "execution_count": null,
      "metadata": {
        "id": "Rf3KG06zFrr-"
      },
      "outputs": [],
      "source": [
        "# generate a dataset of 50,000 systems, each with between 2 and 4 affine transformations\n",
        "!python fractal_learning/fractals/ifs.py --save_path ifs-50k.pkl --num_systems 50000 --min_n 2 --max_n 4"
      ]
    },
    {
      "cell_type": "markdown",
      "metadata": {
        "id": "sZbF2VY6Fsev"
      },
      "source": [
        "This will produce a `.pkl` file containing a dictionary with the following structure:\n",
        "\n",
        "```json\n",
        "{\n",
        "  \"params\": [\n",
        "    {\"system\": np.array(...)},\n",
        "    ...\n",
        "  ],\n",
        "  \"hparams\": {\n",
        "    ...\n",
        "  }\n",
        "}\n",
        "```\n",
        "...which you can open using the pickle module:"
      ]
    },
    {
      "cell_type": "code",
      "execution_count": null,
      "metadata": {
        "id": "cSxUiU9WOHWu"
      },
      "outputs": [],
      "source": [
        "import pickle\n",
        "\n",
        "with open('ifs-50k.pkl', 'rb') as f:\n",
        "    fractal_dataset_50k = pickle.load(f)\n",
        "\n",
        "fractal_dataset_50k.keys()"
      ]
    },
    {
      "cell_type": "markdown",
      "metadata": {
        "id": "94NRXwVVFuA7"
      },
      "source": [
        "Or you can use `ifs` as a library:\n"
      ]
    },
    {
      "cell_type": "code",
      "execution_count": null,
      "metadata": {
        "id": "mJNSfXu0FvkZ"
      },
      "outputs": [],
      "source": [
        "from fractal_learning.fractals import ifs\n",
        "\n",
        "system = ifs.sample_system(2)\n",
        "system.shape"
      ]
    },
    {
      "cell_type": "markdown",
      "metadata": {
        "id": "RiYi-CZzQzxj"
      },
      "source": [
        "## 📑 Creating a Dataset Generator from the fractal data"
      ]
    },
    {
      "cell_type": "markdown",
      "source": [
        "We've generated individual fractals as well as a static dataset using our fractal process.\n",
        "\n",
        "Now, we want to make a data-generator for our fractals."
      ],
      "metadata": {
        "id": "kwVVRLYKYTLj"
      }
    },
    {
      "cell_type": "code",
      "execution_count": null,
      "metadata": {
        "id": "Y_JrKl9VRAev"
      },
      "outputs": [],
      "source": [
        "# @title Creating the Fractal dataset { display-mode: \"form\" }\n",
        "\n",
        "from fractal_learning.fractals.ifs import random_systems\n",
        "\n",
        "# @markdown Pickle file name. best to describe the parameters and/or size in the name.\n",
        "SAVE_PATH = \"/content/fractal-pretraining/fractal_learning/training/data/ifs-100k.pkl\"  # @param { \"type\" : \"string\"}\n",
        "# @markdown Default: `10000`, best: `100000`\n",
        "NUM_SYSTEMS = 100000  # @param { \"type\" : \"integer\"}\n",
        "# @markdown Minimum number of affine transformations. Default: `2`, best:\n",
        "MIN_N = 2  # @param { \"type\" : \"integer\"}\n",
        "# @markdown Maximum number of affine transformations. Default: `4`, best:\n",
        "MAX_N = 4  # @param { \"type\" : \"integer\"}\n",
        "# @markdown maximum magnitude of the translation parameters sampled for each transform. The translation parameters don't effect contractivity, and so can be chosen arbitrarily. Ignored and set to 1 when constrain is False. Default: `1`, best:\n",
        "BVAL = 1  # @param { \"type\" : \"number\"}\n",
        "# @markdown beta is the range for weighted sum of singular values when `constrain==True`. Let `q ~ U(beta[0], beta[1])`, then we enforce $\\sum_{i=0}^{n-1} (s^i_1 + 2*s^i_2) = q$\n",
        "# @markdown Default: `None`, best:\n",
        "BETA_MIN = None  # @param\n",
        "# @markdown Default: `None`, best:\n",
        "BETA_MAX = None  # @param\n",
        "# @markdown function used for sampling singular values. Should accept three arguments: n, for the size of the system; a, for the sigma-factor; and rng, the random generator. When None (default), uses sample_svs. Default: `None`, best:\n",
        "SAMPLE_FN = None  # @param\n",
        "\n",
        "beta = None\n",
        "if BETA_MIN:\n",
        "    if BETA_MAX:\n",
        "        beta = (BETA_MIN, BETA_MAX)\n",
        "    beta = (BETA_MIN, BETA_MIN)\n",
        "\n",
        "sample_fn = SAMPLE_FN\n",
        "if sample_fn is not None:\n",
        "    sample_fn = globals()[sample_fn]\n",
        "\n",
        "kwargs = dict(\n",
        "    num_systems=NUM_SYSTEMS,\n",
        "    n=(MIN_N, MAX_N + 1),\n",
        "    bval=BVAL,\n",
        "    beta=beta,\n",
        "    sample_fn=sample_fn,\n",
        ")\n",
        "# Often written as sys in the original implementation\n",
        "# but here we'll write it as system to avoid confusion\n",
        "system = random_systems(**kwargs)\n",
        "\n",
        "if SAVE_PATH:\n",
        "    import pickle\n",
        "\n",
        "    kwargs[\"sample_fn\"] = SAMPLE_FN\n",
        "    pickle.dump({\"params\": system, \"hparams\": kwargs}, open(SAVE_PATH, \"wb\"))\n",
        "    print(f\"Saved to {SAVE_PATH}\")\n"
      ]
    },
    {
      "cell_type": "code",
      "source": [
        "from fractal_learning.training.datamodule.datasets.generator import (\n",
        "    MultiGenerator,\n",
        ")"
      ],
      "metadata": {
        "id": "fQcHqZqVb1Qq"
      },
      "execution_count": null,
      "outputs": []
    },
    {
      "cell_type": "code",
      "source": [
        "system[0]['system']"
      ],
      "metadata": {
        "id": "FRGjF9UlemDo"
      },
      "execution_count": null,
      "outputs": []
    },
    {
      "cell_type": "code",
      "source": [
        "fractal_multigen = MultiGenerator(\n",
        "    size=224,\n",
        "    cache_size=512,\n",
        "    n_objects=(1, 5),\n",
        "    size_range=(0.15, 0.6),\n",
        "    jitter_params=False,\n",
        "    niter=100000,\n",
        "    patch=True,\n",
        ")"
      ],
      "metadata": {
        "id": "Nig6Dxszb8j3"
      },
      "execution_count": null,
      "outputs": []
    },
    {
      "cell_type": "code",
      "source": [
        "generated_multifractal = fractal_multigen.generate(\n",
        "    system[0][\"system\"], label=-1, new_sample=True\n",
        ")"
      ],
      "metadata": {
        "id": "PVrueXXdclED"
      },
      "execution_count": null,
      "outputs": []
    },
    {
      "cell_type": "code",
      "source": [
        "rendered_multifractal = fractal_multigen.render(system[0]['system'])\n",
        "rendered_multifractal.shape"
      ],
      "metadata": {
        "id": "lldSagEDdHV4"
      },
      "execution_count": null,
      "outputs": []
    },
    {
      "cell_type": "code",
      "source": [
        "# render images in binary, grayscale, and color\n",
        "binary_image = fractal_multigen.render(system[0][\"system\"])\n",
        "gray_image = fractal_multigen.render(system[0][\"system\"])\n",
        "\n",
        "\n",
        "# Display the images in a 4x4 grid\n",
        "fig, axes = plt.subplots(1, 2, figsize=(5, 5))\n",
        "axes[0].imshow(binary_image, cmap=\"gray\")\n",
        "axes[0].set_title(\"Binary\")\n",
        "axes[1].imshow(gray_image, cmap=\"gray\")\n",
        "axes[1].set_title(\"Grayscale\")\n",
        "plt.show();"
      ],
      "metadata": {
        "id": "iuEoiLAugcLA"
      },
      "execution_count": null,
      "outputs": []
    },
    {
      "cell_type": "markdown",
      "source": [
        "## 🌈 Training a multi-class fractal classifier"
      ],
      "metadata": {
        "id": "1CjQsiwtY-jU"
      }
    },
    {
      "cell_type": "code",
      "execution_count": null,
      "metadata": {
        "id": "wEqslDepcjB7"
      },
      "outputs": [],
      "source": [
        "from fractal_learning.training.datamodule import (\n",
        "    FractalClassDataModule,\n",
        "    MultiLabelFractalDataModule,\n",
        ")"
      ]
    },
    {
      "cell_type": "code",
      "execution_count": null,
      "metadata": {
        "id": "FaKBBviv2Pey"
      },
      "outputs": [],
      "source": [
        "fractal_datamodule = FractalClassDataModule(\n",
        "    data_dir=\"fractal_learning/training/data/\",\n",
        "    batch_size=64,\n",
        "    num_workers=4,\n",
        "    pin_memory=True,\n",
        "    size=256,\n",
        "    data_file=None,\n",
        "    num_systems=1000,\n",
        "    num_class=1000,\n",
        "    per_class=1000,\n",
        "    generator=None,\n",
        "    normalize=None,\n",
        "    cache_size=0,\n",
        ")"
      ]
    },
    {
      "cell_type": "code",
      "execution_count": null,
      "metadata": {
        "id": "TxQOw9XJ9Tt2"
      },
      "outputs": [],
      "source": [
        "NUM_CLASSES = 1000\n",
        "\n",
        "multilabelfractal_datamodule = MultiLabelFractalDataModule(\n",
        "    data_dir=\"fractal_learning/training/data/\",\n",
        "    batch_size=32,\n",
        "    num_workers=4,\n",
        "    pin_memory=True,\n",
        "    size=224,\n",
        "    data_file=\"ifs-100k.pkl\",\n",
        "    num_systems=1000,\n",
        "    num_class=NUM_CLASSES,\n",
        "    per_class=1000,\n",
        "    normalize=\"center\",\n",
        "    period=2,\n",
        "    generator=fractal_multigen,\n",
        ")"
      ]
    },
    {
      "cell_type": "code",
      "source": [
        "# Creating the underlying vision model:\n",
        "from torchvision.models import resnet50\n",
        "\n",
        "# Starting with resnet50\n",
        "# No pre-trained weights, and Resnet automatically comes with 1000 output classes\n",
        "base_vision_model = resnet50(weights=None)\n",
        "print(\"Number of output classes: \", base_vision_model.fc.out_features)"
      ],
      "metadata": {
        "id": "-YGpB-RsjFiR"
      },
      "execution_count": null,
      "outputs": []
    },
    {
      "cell_type": "code",
      "source": [
        "ngpu = GPU_COUNT\n",
        "num_nodes = 1\n",
        "train_loader = multilabelfractal_datamodule.train_dataloader()\n",
        "trainer_max_epochs = 90\n",
        "limit_val_batches = 0\n",
        "train_batches = len(train_loader)\n",
        "train_steps = train_batches // ((ngpu or 1) * num_nodes)\n",
        "total_train_steps = trainer_max_epochs * train_steps"
      ],
      "metadata": {
        "id": "IMnkowrzlrkO"
      },
      "execution_count": null,
      "outputs": []
    },
    {
      "cell_type": "code",
      "execution_count": null,
      "metadata": {
        "id": "PtUSl9kGcirK"
      },
      "outputs": [],
      "source": [
        "from fractal_learning.training.model.multilabel import MultiLabelModel\n",
        "\n",
        "multilabelfractal_model = MultiLabelModel(\n",
        "    model=base_vision_model,\n",
        "    lr=0.1,\n",
        "    weight_decay=0.0001,\n",
        "    warmup=0.0,\n",
        "    final_div_factor=1e3,\n",
        "    training_steps=total_train_steps,\n",
        "    optim_name='SGD',\n",
        "    optim_kwargs={'momentum': 0.9},\n",
        ")"
      ]
    },
    {
      "cell_type": "code",
      "source": [
        "import pytorch_lightning as pl\n",
        "from pytorch_lightning.callbacks import ModelCheckpoint\n",
        "\n",
        "checkpointing = ModelCheckpoint(\n",
        "    save_last=True,\n",
        "    save_top_k=-1,\n",
        "    monitor=\"train/loss\",\n",
        "    mode=\"min\",\n",
        "    every_n_train_steps=train_steps,\n",
        "    save_weights_only=True\n",
        ")"
      ],
      "metadata": {
        "id": "bGZK2rn6oNeC"
      },
      "execution_count": null,
      "outputs": []
    },
    {
      "cell_type": "code",
      "source": [
        "trainer = pl.Trainer(\n",
        "    accelerator='gpu',\n",
        "    max_epochs=90,\n",
        "    limit_val_batches=0,\n",
        "    callbacks=[checkpointing],\n",
        "    devices=-1,\n",
        "    num_nodes=1,\n",
        ")"
      ],
      "metadata": {
        "id": "9VzLvbrUptKZ"
      },
      "execution_count": null,
      "outputs": []
    },
    {
      "cell_type": "code",
      "source": [
        "trainer.fit(\n",
        "    model=multilabelfractal_model,\n",
        "    train_dataloaders=train_loader,\n",
        "    ckpt_path=\"fractal_learning/training/data/\",\n",
        ")"
      ],
      "metadata": {
        "id": "5b-21F1OpuU8"
      },
      "execution_count": null,
      "outputs": []
    },
    {
      "cell_type": "markdown",
      "source": [
        "## 🕵️ Fine-tuning our fractal classifier on real-world data"
      ],
      "metadata": {
        "id": "X9IAIxMWZCve"
      }
    },
    {
      "cell_type": "markdown",
      "source": [
        "We can then load the trained classifier from earlier and fine-tune it further."
      ],
      "metadata": {
        "id": "qSDFU7A8uzns"
      }
    },
    {
      "cell_type": "code",
      "execution_count": null,
      "metadata": {
        "id": "LAkPopAGcioQ"
      },
      "outputs": [],
      "source": [
        "from torchvision.models import resnet50\n",
        "\n",
        "# Starting with resnet50\n",
        "# Add in the previously-trained weights from before\n",
        "base_vision_model = resnet50() # weights=None)\n",
        "\n",
        "print(\"Number of output classes: \", base_vision_model.fc.out_features)"
      ]
    },
    {
      "cell_type": "code",
      "source": [
        "from fractal_learning.training.datamodule import (\n",
        "    Cifar10DataModule,\n",
        "    Cifar100DataModule,\n",
        "    DogsDataModule,\n",
        "    StanfordCarsDataModule,\n",
        "    AircraftDataModule\n",
        ")"
      ],
      "metadata": {
        "id": "HOprKhw6wZFx"
      },
      "execution_count": null,
      "outputs": []
    },
    {
      "cell_type": "code",
      "source": [
        "NUM_CLASSES = 100\n",
        "\n",
        "cifar100_datamodule = Cifar100DataModule(batch_size=16)"
      ],
      "metadata": {
        "id": "46Pyc3Abwc18"
      },
      "execution_count": null,
      "outputs": []
    },
    {
      "cell_type": "code",
      "source": [
        "ngpu = GPU_COUNT\n",
        "num_nodes = 1\n",
        "train_loader = cifar100_datamodule.train_dataloader()\n",
        "trainer_max_epochs = 150\n",
        "limit_val_batches = 0\n",
        "train_batches = len(train_loader)\n",
        "train_steps = train_batches // ((ngpu or 1) * num_nodes)\n",
        "total_train_steps = trainer_max_epochs * train_steps"
      ],
      "metadata": {
        "id": "_8IABrDVwMYY"
      },
      "execution_count": null,
      "outputs": []
    },
    {
      "cell_type": "code",
      "source": [
        "from fractal_learning.training.model.base import ClassificationModel\n",
        "\n",
        "classification_model = ClassificationModel(\n",
        "    model=base_vision_model,\n",
        "    lr=0.1,\n",
        "    weight_decay=0.00005,\n",
        "    optim_name=\"SGD\",\n",
        "    loss_fn=None,\n",
        "    optim_kwargs={\"momentum\": 0.9},\n",
        "    param_groups=[\n",
        "        {\"name\": \"fc.weight\", \"lr_factor\": 10, \"weight_decay\": 0.0001},\n",
        "        {\"name\": \"fc.bias\", \"lr_factor\": 10, \"weight_decay\": 0},\n",
        "    ],\n",
        "    training_steps=total_train_steps,\n",
        ")"
      ],
      "metadata": {
        "id": "mgincW2uvP1V"
      },
      "execution_count": null,
      "outputs": []
    },
    {
      "cell_type": "code",
      "execution_count": null,
      "metadata": {
        "id": "6-oezmQ0DFtW"
      },
      "outputs": [],
      "source": [
        "trainer = pl.Trainer(\n",
        "    accelerator='gpu',\n",
        "    max_epochs=150,\n",
        "    callbacks=[checkpointing],\n",
        "    devices=-1,\n",
        "    num_nodes=1,\n",
        ")"
      ]
    },
    {
      "cell_type": "code",
      "source": [
        "trainer.fit(\n",
        "    model=classification_model,\n",
        "    train_dataloaders=train_loader,\n",
        "    ckpt_path=\"fractal_learning/training/data/\",\n",
        ")"
      ],
      "metadata": {
        "id": "f37u_w6ovKtK"
      },
      "execution_count": null,
      "outputs": []
    },
    {
      "cell_type": "code",
      "source": [
        "import gc\n",
        "\n",
        "gc.collect() # Python thing This is how you may avoid restarting the notebook.\n",
        "\n",
        "with torch.no_grad():\n",
        "    torch.cuda.empty_cache() # PyTorch thing"
      ],
      "metadata": {
        "id": "Fag9d1V43vpR"
      },
      "execution_count": null,
      "outputs": []
    },
    {
      "cell_type": "markdown",
      "metadata": {
        "id": "EyGZwYu_VBpU"
      },
      "source": [
        "## 📚 References, Resources, and Further Reading"
      ]
    },
    {
      "cell_type": "markdown",
      "metadata": {
        "id": "C58V0oj-VBpU"
      },
      "source": [
        "- [Anderson, Connor, and Ryan Farrell. \"Improving fractal pre-training.\" In Proceedings of the IEEE/CVF Winter Conference on Applications of Computer Vision, pp. 1300-1309. 2022.](https://arxiv.org/abs/2110.03091)\n",
        "- [Hirokatsu Kataoka, Kazushige Okayasu, Asato Matsumoto, Eisuke Yamagata, Ryosuke Yamada, Nakamasa Inoue, Akio Nakamura, and Yutaka Satoh. Pre-training without Natural Images. In ACCV, 2020.](https://openaccess.thecvf.com/content/ACCV2020/html/Kataoka_Pre-training_without_Natural_Images_ACCV_2020_paper.html)"
      ]
    }
  ],
  "metadata": {
    "accelerator": "GPU",
    "colab": {
      "private_outputs": true,
      "provenance": [],
      "machine_shape": "hm",
      "gpuType": "A100"
    },
    "kernelspec": {
      "display_name": "Python 3",
      "name": "python3"
    },
    "language_info": {
      "name": "python",
      "version": "3.9.0"
    },
    "vscode": {
      "interpreter": {
        "hash": "b6b7e97e50c754c7aee36d85160e6764033ec8a20165f676e018446c78d531c2"
      }
    }
  },
  "nbformat": 4,
  "nbformat_minor": 0
}