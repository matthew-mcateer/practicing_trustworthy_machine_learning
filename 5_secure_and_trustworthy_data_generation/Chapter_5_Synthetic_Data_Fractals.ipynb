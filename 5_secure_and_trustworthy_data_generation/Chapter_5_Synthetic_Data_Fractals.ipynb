{
  "cells": [
    {
      "attachments": {},
      "cell_type": "markdown",
      "metadata": {
        "id": "u-GfOlaUDD_c"
      },
      "source": [
        "# Chapter 5: Synthetic Data Fractals\n",
        "\n",
        "\n",
        "| **Platform**           | **Link**                                                                                                                                                                                                                                                                                               | **Notes**                                                                                                                                                                                                                                                                                                                                                                                                                                                                                                                                                                                                                                                                                                                                                                                                                                                                                                                                                    |\n",
        "|------------------------|--------------------------------------------------------------------------------------------------------------------------------------------------------------------------------------------------------------------------------------------------------------------------------------------------------|--------------------------------------------------------------------------------------------------------------------------------------------------------------------------------------------------------------------------------------------------------------------------------------------------------------------------------------------------------------------------------------------------------------------------------------------------------------------------------------------------------------------------------------------------------------------------------------------------------------------------------------------------------------------------------------------------------------------------------------------------------------------------------------------------------------------------------------------------------------------------------------------------------------------------------------------------------------|\n",
        "| _Local Folder_         | [Deep Dive Example: Synthetic Data Fractals](5_secure_and_trustworthy_data_generation/Chapter_5_Synthetic_Data_Fractals.ipynb)                                                                                                                                                                                                                                |                                                                                                                                                                                                                                                                                                                                                                                                                                                                                                                                                                                                                                                                                                                                                                                                                                                                                                                                                              |\n",
        "| _Book Chapter_         | [Chapter 5: Secure and Trustworthy Data Generation](https://learning.oreilly.com/library/view/practicing-trustworthy-machine/9781098120269/ch05.html)                                                                                                                                                                                 | Ebook available from [O'Reilly](https://www.oreilly.com/library/view/practicing-trustworthy-machine/9781098120269/).<br>Physical book available from [Amazon](https://www.amazon.com/Practicing-Trustworthy-Machine-Learning-Transparent/dp/1098120272)                                                                                                                                                                                                                                                                                                                                                                                                                                                                                                                                                                                                                                                                                                      |\n",
        "| _GitHub_               | [![GitHub](https://img.shields.io/badge/-View%20on%20GitHub-181717?logo=github&logoColor=ffffff)](https://github.com/matthew-mcateer/practicing_trustworthy_machine_learning/blob/main/5_secure_and_trustworthy_data_generation/Chapter_5_Synthetic_Data_Fractals.ipynb)                                                                          | Please star on GitHub so others can<br>find this repo and get help with implenting<br>their trustworthy AI pipelines<br> [![GitHub forks](https://img.shields.io/github/forks/matthew-mcateer/practicing_trustworthy_machine_learning.svg?style=social&label=Fork&maxAge=2592000)](https://github.com/matthew-mcateer/practicing_trustworthy_machine_learning/network/) <br> [![GitHub stars](https://img.shields.io/github/stars/matthew-mcateer/practicing_trustworthy_machine_learning.svg?style=social&label=Star&maxAge=2592000)](https://github.com/matthew-mcateer/practicing_trustworthy_machine_learning/stargazers/) <br> [![GitHub watchers](https://img.shields.io/github/watchers/matthew-mcateer/practicing_trustworthy_machine_learning.svg?style=social&label=Watch&maxAge=2592000)](https://github.com/matthew-mcateer/practicing_trustworthy_machine_learning/watchers/) <br>[![GitHub followers](https://img.shields.io/github/followers/matthew-mcateer?style=social&label=Follow&maxAge=2592000)](https://github.com/matthew-mcateer?tab=followers)  |\n",
        "| _Colab_                | [![Open In Colab](https://colab.research.google.com/assets/colab-badge.svg)](https://colab.research.google.com/github/matthew-mcateer/practicing_trustworthy_machine_learning/blob/main/5_secure_and_trustworthy_data_generation/Chapter_5_Synthetic_Data_Fractals.ipynb)                                                                         | Enable GPU<br> Colab Pro recommended                                                                                                                                                                                                                                                                                                                                                                                                                                                                                                                                                                                                                                                                                                                                                                                                                                                                                                                         |\n",
        "| _Kaggle_               | [ ![ Kaggle ]( https://kaggle.com/static/images/open-in-kaggle.svg ) ]( https://kaggle.com/kernels/welcome?src=https://github.com/matthew-mcateer/practicing_trustworthy_machine_learning/blob/main/5_secure_and_trustworthy_data_generation/Chapter_5_Synthetic_Data_Fractals.ipynb )                                                            | Enable GPU<br> Enable Internet                                                                                                                                                                                                                                                                                                                                                                                                                                                                                                                                                                                                                                                                                                                                                                                                                                                                                                                               |\n",
        "| _Gradient_             | [ ![ Gradient ]( https://assets.paperspace.io/img/gradient-badge.svg ) ]( https://console.paperspace.com/github/matthew-mcateer/practicing_trustworthy_machine_learning/blob/main/5_secure_and_trustworthy_data_generation/Chapter_5_Synthetic_Data_Fractals.ipynb )                                                                              | Enable GPU                                                                                                                                                                                                                                                                                                                                                                                                                                                                                                                                                                                                                                                                                                                                                                                                                                                                                                                                                   |\n",
        "| _SageMaker Studio Lab_ | [![ Open In SageMaker Studio Lab ]( https://studiolab.sagemaker.aws/studiolab.svg ) ]( https://studiolab.sagemaker.aws/import/github/matthew-mcateer/practicing_trustworthy_machine_learning/blob/main/5_secure_and_trustworthy_data_generation/Chapter_5_Synthetic_Data_Fractals.ipynb )                                                         | Recommend `ml.g4dn.xlarge` instance at minimum                                                                                                                                                                                                                                                                                                                                                                                                                                                                                                                                                                                                                                                                                                                                                                                                                                                                                                               |\n",
        "| _Binder_               | [ ![ Binder ]( https://mybinder.org/badge_logo.svg ) ]( https://mybinder.org/v2/gh/matthew-mcateer/practicing_trustworthy_machine_learning/HEAD?urlpath=https%3A%2F%2Fgithub.com%2Fmatthew-mcateer%2Fpracticing_trustworthy_machine_learning%2Fblob%2Fmain%2F5_secure_and_trustworthy_data_generation%2FChapter_5_Synthetic_Data_Fractals.ipynb ) | May run slowly without GPU                                                                                                                                                                                                                                                                                                                                                                                                                                                                                                                                                                                                                                                                                                                                                                                                                                                                                                                                   |\n",
        "\n",
        "\n",
        "This code tutorial is heavily based on the [Official PyTorch code](https://github.com/catalys1/fractal-pretraining) for the paper [\"Improving Fractal Pre-training\"](https://arxiv.org/abs/2110.03091).\n",
        "\n",
        "This specific implementation comes from a fork of the original [`catalys1/fractal-pretraining`](https://github.com/catalys1/fractal-pretraining) repo. This fork replaces the PyTorch DataLoader class with NVIDIA's Merlin DLDataloader (which in some instances boasts [up to 119x performance improvements on tabular datasets](https://twitter.com/radekosmulski/status/1593125626361180160) )\n",
        "\n",
        "<!--\n",
        "Originally found on GitHub at https://github.com/matthew-mcateer/practicing_trustworthy_machine_learning/blob/main/5_secure_and_trustworthy_data_generation/Chapter_5_Synthetic_Data_Fractals.ipynb\n",
        "-->\n"
      ]
    },
    {
      "cell_type": "code",
      "execution_count": null,
      "metadata": {
        "id": "iDDg2W9KDF11"
      },
      "outputs": [],
      "source": [
        "!pip -qq install --upgrade pip\n",
        "!pip -qq install pytorch-lightning omegaconf torchmetrics fgvcdata merlin-dataloader==0.0.2 transformers datasets watermark\n",
        "!pip install hydra-core --upgrade\n",
        "\n",
        "!git clone https://github.com/catalys1/fractal-pretraining.git\n",
        "%cd fractal-pretraining\n",
        "# install requirements\n",
        "!bash install_requirements.sh\n",
        "# install project in editable mode\n",
        "!pip install -e fractal_learning"
      ]
    },
    {
      "cell_type": "code",
      "execution_count": null,
      "metadata": {
        "id": "d68U7DL0Iget"
      },
      "outputs": [],
      "source": [
        "#@title Installing dependencies { display-mode: \"form\" }\n",
        "%load_ext watermark\n",
        "%watermark -a \"Practicing Trustworthy machine Learning\" -u -d -v -m -p pytorch_lightning,omegaconf,torchmetrics,merlin,transformers,datasets,fgvcdata,watermark"
      ]
    },
    {
      "cell_type": "markdown",
      "metadata": {
        "id": "OZEt6i9YDh0w"
      },
      "source": [
        "## Fractal generation\n",
        "\n",
        "This package contains code for sampling and rendering Iterated Function Systems and diamond-square textures.\n",
        "The implementation uses `numba` extensively for performance, as well as `numpy` and `opencv` (for colorspace conversion).\n"
      ]
    },
    {
      "cell_type": "markdown",
      "metadata": {
        "id": "I3-3awBRFcVL"
      },
      "source": [
        "### Sampling IFS Codes\n",
        "\n",
        "You can generate a dataset of fractal systems saved as a `pickle` file by running `ifs.py`:"
      ]
    },
    {
      "cell_type": "code",
      "execution_count": null,
      "metadata": {
        "id": "Rf3KG06zFrr-"
      },
      "outputs": [],
      "source": [
        "# generate a dataset of 50,000 systems, each with between 2 and 4 affine transformations\n",
        "!python fractal_learning/fractals/ifs.py --save_path ifs-50k.pkl --num_systems 50000 --min_n 2 --max_n 4"
      ]
    },
    {
      "cell_type": "markdown",
      "metadata": {
        "id": "sZbF2VY6Fsev"
      },
      "source": [
        "This will produce a `.pkl` file containing a dictionary with the following structure:\n",
        "\n",
        "```python\n",
        "{\n",
        "  \"params\": [\n",
        "    {\"system\": np.array(...)},\n",
        "    ...\n",
        "  ],\n",
        "  \"hparams\": {\n",
        "    ...\n",
        "  }\n",
        "}\n",
        "```\n"
      ]
    },
    {
      "cell_type": "code",
      "execution_count": null,
      "metadata": {
        "id": "cSxUiU9WOHWu"
      },
      "outputs": [],
      "source": [
        "import pickle\n",
        "\n",
        "with open('ifs-50k.pkl', 'rb') as f:\n",
        "    fractal_dataset_50k = pickle.load(f)\n",
        "\n",
        "fractal_dataset_50k.keys()"
      ]
    },
    {
      "cell_type": "markdown",
      "metadata": {
        "id": "94NRXwVVFuA7"
      },
      "source": [
        "Or you can use `ifs` as a library:\n"
      ]
    },
    {
      "cell_type": "code",
      "execution_count": null,
      "metadata": {
        "id": "mJNSfXu0FvkZ"
      },
      "outputs": [],
      "source": [
        "from fractal_learning.fractals import ifs\n",
        "\n",
        "system = ifs.sample_system(2)\n",
        "system.shape"
      ]
    },
    {
      "cell_type": "markdown",
      "metadata": {
        "id": "IlQrrK7zFeKW"
      },
      "source": [
        "### Rendering Images\n"
      ]
    },
    {
      "cell_type": "code",
      "execution_count": null,
      "metadata": {
        "id": "Vy5ybLSGDFzN"
      },
      "outputs": [],
      "source": [
        "from fractal_learning.fractals.ifs import colorize, render, iterate, sample_system\n",
        "from fractal_learning.fractals.diamondsquare import colorized_ds\n",
        "import matplotlib.pyplot as plt\n",
        "#%config InlineBackend.figure_format = 'retina'\n",
        "\n",
        "system = sample_system(2)\n",
        "points = iterate(system, 100000)\n",
        "\n",
        "# render images in binary, grayscale, and color\n",
        "binary_image = render(points, binary=True)\n",
        "gray_image = render(points, binary=False)\n",
        "color_image = colorize(gray_image)\n",
        "\n",
        "# create a random colored background\n",
        "background = colorized_ds()\n",
        "\n",
        "# create a composite image\n",
        "composite = background.copy()\n",
        "composite[gray_image.nonzero()] = color_image[gray_image.nonzero()]\n",
        "\n",
        "# Display the images in a 4x4 grid\n",
        "fig, axes = plt.subplots(2, 2, figsize=(5, 5))\n",
        "axes[0, 0].imshow(binary_image, cmap='gray')\n",
        "axes[0, 0].set_title('Binary')\n",
        "axes[0, 1].imshow(gray_image, cmap='gray')\n",
        "axes[0, 1].set_title('Grayscale')\n",
        "axes[1, 0].imshow(color_image)\n",
        "axes[1, 0].set_title('Color')\n",
        "axes[1, 1].imshow(composite)\n",
        "axes[1, 1].set_title('Composite')\n",
        "plt.show();"
      ]
    },
    {
      "attachments": {},
      "cell_type": "markdown",
      "metadata": {
        "id": "RiYi-CZzQzxj"
      },
      "source": [
        "## Creating a Dataset Generator from the fractal data"
      ]
    },
    {
      "cell_type": "code",
      "execution_count": null,
      "metadata": {
        "id": "Y_JrKl9VRAev"
      },
      "outputs": [],
      "source": [
        "#@title Creating the Fractal dataset { display-mode: \"form\" }\n",
        "\n",
        "from fractal_learning.fractals.ifs import random_systems\n",
        "\n",
        "#@markdown Pickle file name. best to describe the parameters and/or size in the name. \n",
        "SAVE_PATH='/content/fractal-pretraining/fractal_learning/training/data/ifs-100k.pkl' #@param { \"type\" : \"string\"}\n",
        "#@markdown Default: `10000`, best: `100000`\n",
        "NUM_SYSTEMS=100000 #@param { \"type\" : \"integer\"}\n",
        "#@markdown Minimum number of affine transformations. Default: `2`, best: \n",
        "MIN_N=2 #@param { \"type\" : \"integer\"}\n",
        "#@markdown Maximum number of affine transformations. Default: `4`, best: \n",
        "MAX_N=4 #@param { \"type\" : \"integer\"}\n",
        "#@markdown maximum magnitude of the translation parameters sampled for each transform. The translation parameters don't effect contractivity, and so can be chosen arbitrarily. Ignored and set to 1 when constrain is False. Default: `1`, best: \n",
        "BVAL=1 #@param { \"type\" : \"number\"}\n",
        "#@markdown beta is the range for weighted sum of singular values when `constrain==True`. Let `q ~ U(beta[0], beta[1])`, then we enforce $\\sum_{i=0}^{n-1} (s^i_1 + 2*s^i_2) = q$\n",
        "#@markdown Default: `None`, best: \n",
        "BETA_MIN=None #@param\n",
        "#@markdown Default: `None`, best: \n",
        "BETA_MAX=None #@param\n",
        "#@markdown function used for sampling singular values. Should accept three arguments: n, for the size of the system; a, for the sigma-factor; and rng, the random generator. When None (default), uses sample_svs. Default: `None`, best: \n",
        "SAMPLE_FN=None #@param\n",
        "\n",
        "beta = None\n",
        "if BETA_MIN:\n",
        "    if BETA_MAX:\n",
        "        beta = (BETA_MIN, BETA_MAX)\n",
        "    beta = (BETA_MIN, BETA_MIN)\n",
        "\n",
        "sample_fn = SAMPLE_FN\n",
        "if sample_fn is not None:\n",
        "    sample_fn = globals()[sample_fn]\n",
        "\n",
        "kwargs = dict(\n",
        "    num_systems=NUM_SYSTEMS,\n",
        "    n=(MIN_N, MAX_N+1),\n",
        "    bval=BVAL,\n",
        "    beta=beta,\n",
        "    sample_fn=sample_fn,\n",
        ")\n",
        "sys = random_systems(**kwargs)\n",
        "\n",
        "if SAVE_PATH:\n",
        "    import pickle\n",
        "    kwargs['sample_fn'] = SAMPLE_FN\n",
        "    pickle.dump({'params': sys, 'hparams': kwargs}, open(SAVE_PATH, 'wb'))\n",
        "    print(f'Saved to {SAVE_PATH}')"
      ]
    },
    {
      "cell_type": "code",
      "execution_count": null,
      "metadata": {
        "id": "wEqslDepcjB7"
      },
      "outputs": [],
      "source": [
        "from fractal_learning.training.datamodule import (\n",
        "    FractalClassDataModule,\n",
        "    MultiLabelFractalDataModule,\n",
        "    Cifar10DataModule,\n",
        "    Cifar100DataModule,\n",
        ")\n",
        "from fractal_learning.training.model import MultiLabelModel"
      ]
    },
    {
      "cell_type": "code",
      "execution_count": null,
      "metadata": {
        "id": "FaKBBviv2Pey"
      },
      "outputs": [],
      "source": [
        "fractal_datamodule = FractalClassDataModule(\n",
        "        data_dir = \"data/\",\n",
        "        batch_size = 64,\n",
        "        num_workers = 4,\n",
        "        pin_memory = True,\n",
        "        size = 256,\n",
        "        data_file = None,\n",
        "        num_systems = 1000,\n",
        "        num_class = 1000,\n",
        "        per_class = 1000,\n",
        "        generator = None,\n",
        "        normalize = None,\n",
        "        cache_size = 0,\n",
        ")"
      ]
    },
    {
      "cell_type": "code",
      "execution_count": null,
      "metadata": {
        "id": "TxQOw9XJ9Tt2"
      },
      "outputs": [],
      "source": [
        "multilabelfractal_datamodule = MultiLabelFractalDataModule(\n",
        "        data_dir= \"data/\",\n",
        "        batch_size = 64,\n",
        "        num_workers = 4,\n",
        "        pin_memory = True,\n",
        "        size = 256,\n",
        "        data_file = None,\n",
        "        num_systems = 1000,\n",
        "        num_class = 1000,\n",
        "        per_class = 1000,\n",
        "        generator = None,\n",
        "        normalize = None,\n",
        "        period = 2,\n",
        ")"
      ]
    },
    {
      "cell_type": "code",
      "execution_count": null,
      "metadata": {
        "id": "PtUSl9kGcirK"
      },
      "outputs": [],
      "source": []
    },
    {
      "cell_type": "code",
      "execution_count": null,
      "metadata": {
        "id": "LAkPopAGcioQ"
      },
      "outputs": [],
      "source": []
    },
    {
      "cell_type": "code",
      "execution_count": null,
      "metadata": {
        "id": "6-oezmQ0DFtW"
      },
      "outputs": [],
      "source": []
    }
  ],
  "metadata": {
    "accelerator": "GPU",
    "colab": {
      "private_outputs": true,
      "provenance": []
    },
    "gpuClass": "standard",
    "kernelspec": {
      "display_name": "Python 3.9.0 64-bit ('3.9.0')",
      "language": "python",
      "name": "python3"
    },
    "language_info": {
      "name": "python",
      "version": "3.9.0"
    },
    "vscode": {
      "interpreter": {
        "hash": "b6b7e97e50c754c7aee36d85160e6764033ec8a20165f676e018446c78d531c2"
      }
    }
  },
  "nbformat": 4,
  "nbformat_minor": 0
}
