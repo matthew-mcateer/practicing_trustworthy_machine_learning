{
 "cells": [
  {
   "attachments": {},
   "cell_type": "markdown",
   "metadata": {
    "id": "-RLwt28IRgF7"
   },
   "source": [
    "# Chapter 1: SMPC Example\n",
    "\n",
    "\n",
    "| **Platform**           | **Link**                                                                                                                                                                                                                                                                                               | **Notes**                                                                                                                                                                                                                                                                                                                                                                                                                                                                                                                                                                                                                                                                                                                                                                                                                                                                                                                                                    |\n",
    "|------------------------|--------------------------------------------------------------------------------------------------------------------------------------------------------------------------------------------------------------------------------------------------------------------------------------------------------|--------------------------------------------------------------------------------------------------------------------------------------------------------------------------------------------------------------------------------------------------------------------------------------------------------------------------------------------------------------------------------------------------------------------------------------------------------------------------------------------------------------------------------------------------------------------------------------------------------------------------------------------------------------------------------------------------------------------------------------------------------------------------------------------------------------------------------------------------------------------------------------------------------------------------------------------------------------|\n",
    "| _Local Folder_         | [Deep Dive Example: SMPC Example](1_privacy/Chapter_1_SMPC_Example.ipynb)                                                                                                                                                                                                                                |                                                                                                                                                                                                                                                                                                                                                                                                                                                                                                                                                                                                                                                                                                                                                                                                                                                                                                                                                              |\n",
    "| _Book Chapter_         | [Chapter 1: Privacy](https://learning.oreilly.com/library/view/practicing-trustworthy-machine/9781098120269/ch01.html)                                                                                                                                                                                 | Ebook available from [O'Reilly](https://www.oreilly.com/library/view/practicing-trustworthy-machine/9781098120269/).<br>Physical book available from [Amazon](https://www.amazon.com/Practicing-Trustworthy-Machine-Learning-Transparent/dp/1098120272)                                                                                                                                                                                                                                                                                                                                                                                                                                                                                                                                                                                                                                                                                                      |\n",
    "| _GitHub_               | [![GitHub](https://img.shields.io/badge/-View%20on%20GitHub-181717?logo=github&logoColor=ffffff)](https://github.com/matthew-mcateer/practicing_trustworthy_machine_learning/blob/main/1_privacy/Chapter_1_SMPC_Example.ipynb)                                                                          | Please star on GitHub so others can<br>find this repo and get help with implenting<br>their trustworthy AI pipelines<br> [![GitHub forks](https://img.shields.io/github/forks/matthew-mcateer/practicing_trustworthy_machine_learning.svg?style=social&label=Fork&maxAge=2592000)](https://github.com/matthew-mcateer/practicing_trustworthy_machine_learning/network/) <br> [![GitHub stars](https://img.shields.io/github/stars/matthew-mcateer/practicing_trustworthy_machine_learning.svg?style=social&label=Star&maxAge=2592000)](https://github.com/matthew-mcateer/practicing_trustworthy_machine_learning/stargazers/) <br> [![GitHub watchers](https://img.shields.io/github/watchers/matthew-mcateer/practicing_trustworthy_machine_learning.svg?style=social&label=Watch&maxAge=2592000)](https://github.com/matthew-mcateer/practicing_trustworthy_machine_learning/watchers/) <br>[![GitHub followers](https://img.shields.io/github/followers/matthew-mcateer?style=social&label=Follow&maxAge=2592000)](https://github.com/matthew-mcateer?tab=followers)  |\n",
    "| _Colab_                | [![Open In Colab](https://colab.research.google.com/assets/colab-badge.svg)](https://colab.research.google.com/github/matthew-mcateer/practicing_trustworthy_machine_learning/blob/main/1_privacy/Chapter_1_SMPC_Example.ipynb)                                                                         | Enable GPU<br> Colab Pro recommended                                                                                                                                                                                                                                                                                                                                                                                                                                                                                                                                                                                                                                                                                                                                                                                                                                                                                                                         |\n",
    "| _Kaggle_               | [ ![ Kaggle ]( https://kaggle.com/static/images/open-in-kaggle.svg ) ]( https://kaggle.com/kernels/welcome?src=https://github.com/matthew-mcateer/practicing_trustworthy_machine_learning/blob/main/1_privacy/Chapter_1_SMPC_Example.ipynb )                                                            | Enable GPU<br> Enable Internet                                                                                                                                                                                                                                                                                                                                                                                                                                                                                                                                                                                                                                                                                                                                                                                                                                                                                                                               |\n",
    "| _Gradient_             | [ ![ Gradient ]( https://assets.paperspace.io/img/gradient-badge.svg ) ]( https://console.paperspace.com/github/matthew-mcateer/practicing_trustworthy_machine_learning/blob/main/1_privacy/Chapter_1_SMPC_Example.ipynb )                                                                              | Enable GPU                                                                                                                                                                                                                                                                                                                                                                                                                                                                                                                                                                                                                                                                                                                                                                                                                                                                                                                                                   |\n",
    "| _SageMaker Studio Lab_ | [![ Open In SageMaker Studio Lab ]( https://studiolab.sagemaker.aws/studiolab.svg ) ]( https://studiolab.sagemaker.aws/import/github/matthew-mcateer/practicing_trustworthy_machine_learning/blob/main/1_privacy/Chapter_1_SMPC_Example.ipynb )                                                         | Recommend `ml.g4dn.xlarge` instance at minimum                                                                                                                                                                                                                                                                                                                                                                                                                                                                                                                                                                                                                                                                                                                                                                                                                                                                                                               |\n",
    "| _Binder_               | [ ![ Binder ]( https://mybinder.org/badge_logo.svg ) ]( https://mybinder.org/v2/gh/matthew-mcateer/practicing_trustworthy_machine_learning/HEAD?urlpath=https%3A%2F%2Fgithub.com%2Fmatthew-mcateer%2Fpracticing_trustworthy_machine_learning%2Fblob%2Fmain%2F1_privacy%2FChapter_1_SMPC_Example.ipynb ) | May run slowly without GPU                                                                                                                                                                                                                                                                                                                                                                                                                                                                                                                                                                                                                                                                                                                                                                                                                                                                                                                                   |\n",
    "\n",
    "\n",
    "<!--\n",
    "Originally found on GitHub at https://github.com/matthew-mcateer/practicing_trustworthy_machine_learning/blob/main/1_privacy/Chapter_1_SMPC_Example.ipynb\n",
    "-->\n",
    "\n",
    "\n",
    "The following is heavily based on an OpenMined tutorial written by [Ayoub Benaissa - Twitter: @y0uben11](https://twitter.com/y0uben11)\n",
    "\n",
    "This tutorial has seen the most changes out of any in the book. **The code for the early release version of the book [can be found in the `deprecated` folder](https://github.com/matthew-mcateer/practicing_trustworthy_machine_learning/blob/main/1_privacy/deprecated/Chapter_1_SMPC_Example_DEPRECATED.ipynb), and is conceptually identical to the tutorial here, but thanks to the `HaGrid` package this version provides a much gentler introduct to steps such as uploading one's data before any computation takes place.** The original code is still valid with the package versions that have been specified, but Google Colab no longer supports those specific tutorials."
   ]
  },
  {
   "cell_type": "markdown",
   "metadata": {},
   "source": [
    "### A Note about dependencies\n",
    "\n",
    "To install the OpenMined stack that you need in order to deploy a node, please run:\n",
    "\n",
    "```bash\n",
    "pip install -U syft hagrid --pre\n",
    "```\n",
    "\n",
    "PySyft is a library which contains the tools to run privacy preserving machine learning. Hagrid is a commandline tool that speeds up the deployment of PyGrid, the provider of a peer-to-peer network of data owners and data scientists who can collectively train AI model using Syft.\n",
    "\n",
    "This tutorial is heavily reliant on docker.\n",
    "As such, unlike the other notebooks for this book, it is unlikely to work in the above free GPU cloud resources without a lot of additional configuration (for example, here is a [Gist for installing Docker in Google Colab](https://gist.github.com/mwufi/6718b30761cd109f9aff04c5144eb885), which works as of November 2022, but is not guaranteed to work in the future."
   ]
  },
  {
   "cell_type": "code",
   "execution_count": null,
   "metadata": {},
   "outputs": [],
   "source": [
    "#@title PySyft & PyTorch Setup\n",
    "\n",
    "# Install if not already using the provided conda environment\n",
    "#!pip -qq install syft hagrid --pre\n",
    "#!pip -qq install watermark\n",
    "%load_ext watermark\n",
    "%watermark -a \"Practicing Trustworthy machine Learning\" -u -d -v -m -p syft,loguru,torch,hagrid,crypten"
   ]
  },
  {
   "cell_type": "markdown",
   "metadata": {},
   "source": [
    "### Launch the Doman Node\n",
    "\n",
    "You only have one final step remaining now, before you unleash the power of Hagrid! The final step is to launch a domain node, which is as easy as:\n",
    "```bash\n",
    "hagrid launch <name_of_domain>\n",
    "```\n",
    "\n",
    "To stop the running domain, run:\n",
    "```bash\n",
    "hagrid land <name_of_domain>\n",
    "```\n",
    "\n",
    "But before stopping it, you can go to localhost:8081 in your browser to actually interact with the PyGrid Admin UI, where you can manage as a Data Owner your datasets, as well as incoming requests from data scientist. You can log in using the following credentials:\n",
    "\n",
    "```text\n",
    "info@openmined.org\n",
    "\n",
    "\n",
    "changethis\n",
    "```\n",
    "Now you’re all set up to fully start using PySyft!"
   ]
  },
  {
   "cell_type": "markdown",
   "metadata": {},
   "source": [
    "## Testing installation setup"
   ]
  },
  {
   "cell_type": "code",
   "execution_count": 2,
   "metadata": {},
   "outputs": [],
   "source": [
    "import hagrid\n",
    "from hagrid import wizard"
   ]
  },
  {
   "cell_type": "code",
   "execution_count": 3,
   "metadata": {},
   "outputs": [
    {
     "data": {
      "text/html": [
       "✅ hagrid==0.2.114 (latest stable)<br />"
      ],
      "text/plain": [
       "<hagrid.nb_output.NBOutput at 0x12f3193d0>"
      ]
     },
     "execution_count": 3,
     "metadata": {},
     "output_type": "execute_result"
    }
   ],
   "source": [
    "# Check that Hagrid is working\n",
    "wizard.check_hagrid"
   ]
  },
  {
   "cell_type": "code",
   "execution_count": 4,
   "metadata": {},
   "outputs": [
    {
     "data": {
      "text/html": [
       "✅ macOS<br />✅ Python 3.9.6<br />✅ syft==0.7.0b60 (Version 0.7.0b61 available)<br /><h4>🚨 Some issues were found</h4><h5><strong>Issue</strong>: A new release of Syft is available: 0.7.0b60 -> 0.7.0b61.</h5><strong>Solution</strong>:<br />You can upgrade Syft with pip.<blockquote><strong>Command</strong>:<br /> <tt>[ ]</tt><code>!pip install syft==0.7.0b61</code></blockquote><br />"
      ],
      "text/plain": [
       "<hagrid.nb_output.NBOutput at 0x148e89040>"
      ]
     },
     "execution_count": 4,
     "metadata": {},
     "output_type": "execute_result"
    }
   ],
   "source": [
    "# Check that PySyft is installed and working\n",
    "wizard.check_syft"
   ]
  },
  {
   "cell_type": "code",
   "execution_count": 6,
   "metadata": {},
   "outputs": [
    {
     "data": {
      "text/html": [
       "✅ Git 2.36.1<br />✅ Docker 20.10.20<br />✅ Docker Compose 2.12.1<br />"
      ],
      "text/plain": [
       "<hagrid.nb_output.NBOutput at 0x103dff700>"
      ]
     },
     "execution_count": 6,
     "metadata": {},
     "output_type": "execute_result"
    }
   ],
   "source": [
    "# Check that Docker is installed\n",
    "wizard.check_grid_docker"
   ]
  },
  {
   "cell_type": "code",
   "execution_count": 7,
   "metadata": {},
   "outputs": [
    {
     "name": "stdout",
     "output_type": "stream",
     "text": [
      "\u001b[2K✅ Updated HAGrid from branch: dev from branch: dev\u001b[0m0m\n",
      "\u001b[2K\u001b[32m⠙\u001b[0m \u001b[1;34mUpdating HAGrid from branch: dev\u001b[0m\n",
      "\u001b[2K\u001b[32m⠹\u001b[0m \u001b[1;34mChecking for Docker Service\u001b[0m   ice\u001b[0m   \n",
      "\u001b[1A\u001b[2K✅ Docker service is running\n",
      "✅ Git 2.36.1\n",
      "✅ Docker 20.10.20\n",
      "✅ Docker Compose 2.12.1\n",
      "\n",
      "\n",
      "                                             `\n",
      "                                         `.+yys/.`\n",
      "                                       ``/NMMMNNs`\n",
      "                                    `./shNMMMMMMNs``    `..`\n",
      "                                  `-smNMMNNMMMMMMN/.``......`\n",
      "                                `.yNMMMMNmmmmNNMMm/.`....`\n",
      "                              `:sdNMMMMMMNNNNddddds-`.`` `--. `\n",
      "                           `.+dNNNNMMMMMMMMMNNNNmddohmh//hddy/.```..`\n",
      "                          `-hNMMMMMMMMMMMMNNdmNNMNNdNNd:sdyoo+/++:..`\n",
      "                        ../mMMMMMMMMMMMMMMNNmmmmNMNmNNmdmd/hNNNd+:`\n",
      "                        `:mMNNMMMMMMMMMMMMNMNNmmmNNNNNdNNd/NMMMMm::\n",
      "                       `:mMNNNMMMMMMMMMMMMMMMNNNNdNMNNmmNd:smMMmh//\n",
      "                     ``/mMMMMMMMMMMMMMMMMMMMMMMNmdmNNMMNNNy/osoo/-`\n",
      "                    `-sNMMMMMMMMMMMMMMMMMMMMMMMMNNmmMMMMNh-....`\n",
      "                   `/dNMMMMMMMMMMMMMMMMMMMMMMMMMMMNNMMMNy.`\n",
      "                ``.omNNMMMMMMMMMMMMNMMMMMMMNmmmmNNMMMMN+`\n",
      "                `:hmNNMMMMMMMMMMMNo/ohNNNNho+os+-+hNys/`\n",
      "                -mNNNNNNMMMMMMMMm+``-yNdd+/mMMMms.-:`\n",
      "                .+dmNNNNMMMMMMNd:``:dNN+y`oMMMMMm-.`\n",
      "                `+dmmmNNNmmmmy+.   `-+m/s/+MMMMm/--\n",
      "               `+mmmhNy/-...```     ``-.-sosyys+/-`\n",
      "            ``.smmmsoo``               .oh+-:/:.\n",
      "          `.:odmdh/````             `.+d+``````\n",
      "     ```/sydNdhy+.`              ``-sds.\n",
      "    `:hdmhs::-````               `oNs.`\n",
      "```.sdmh/``                    `-ym+`\n",
      " ``ssy+`                     `-yms.`\n",
      "   ``                      `:hNy-``\n",
      "   `                     `-yMN/```\n",
      "                       `-yNhy-\n",
      "                     `/yNd/`\n",
      "                   `:dNMs``\n",
      "                 `.+mNy/.`\n",
      "              `.+hNMMs``\n",
      "             `:dMMMMh.`\n",
      "\n",
      " _   _       _     _                 _   _                       _\n",
      "| | | |     | |   | |               | | | |                     | |\n",
      "| |_| | ___ | | __| |   ___  _ __   | |_| | __ _ _ __ _ __ _   _| |\n",
      "|  _  |/ _ \\| |/ _` |  / _ \\| '_ \\  |  _  |/ _` | '__| '__| | | | |\n",
      "| | | | (_) | | (_| | | (_) | | | | | | | | (_| | |  | |  | |_| |_|\n",
      "\\_| |_/\\___/|_|\\__,_|  \\___/|_| |_| \\_| |_/\\__,_|_|  |_|   \\__, (_)\n",
      "                                                            __/ |\n",
      "                                                           |___/\n",
      "        \n",
      "Launching a PyGrid Domain node on port 8081!\n",
      "\n",
      "  - NAME: alice_domain\n",
      "  - RELEASE: production\n",
      "  - TYPE: domain\n",
      "  - DOCKER_TAG: latest\n",
      "  - HAGRID_VERSION: \n",
      "  - PORT: 8081\n",
      "  - DOCKER COMPOSE: v2.12.1\n",
      "\n",
      "\n",
      "\u001b[1;32m⠋\u001b[0m\u001b[1;34m Launching Containers \u001b[0m\u001b[1;32m \u001b[0m\n",
      "\u001b[2K  ✅ \u001b[1;32mPulling [9 / 9]\u001b[0m \u001b[38;2;114;156;31m━━━━━━━━━━━━━━━━━━━━━━━━━━━━━━━━━━━━━━━━\u001b[0m \u001b[35m100.00%   \u001b[0m0m\u001b[38;5;237m━━━━\u001b[0m \u001b[35m88.89%   \u001b[0m\n",
      "\u001b[2K  ✅ \u001b[1;32mLaunching [11 / 11]\u001b[0m \u001b[38;2;114;156;31m━━━━━━━━━━━━━━━━━━━━━━━━━━━━━━━━━━━━━━━━\u001b[0m \u001b[35m100.00%   \u001b[0m8;5;237m━━━\u001b[0m \u001b[35m90.91%   \u001b[0m  \u001b[0m\n",
      "\u001b[?25h\n",
      "\u001b[1;32m⠋\u001b[0m\u001b[1;34m Checking node API \u001b[0m\u001b[1;32m \u001b[0m   \n",
      "\u001b[2K✅ alice_domain Domain Containers Createdainer Creation\u001b[0m0m\n",
      "\u001b[2K✅ Backendm \u001b[1;38;5;202mStarting Backend\u001b[0meation\u001b[0m\n",
      "\u001b[2K✅ Startup Complete2mStarting Backend\u001b[0m\n",
      "\u001b[2K\u001b[32m⠋\u001b[0m \u001b[1;38;5;202mStarting Backend\u001b[0m\n",
      "\u001b[1A\u001b[2K┏━━━━━━━━━━━┳━━━━━━━━━━━━━━━━━━━━━━━━━━━━━━━━━━━━━━━━━━━┳━━━━━┓\n",
      "┃\u001b[1m \u001b[0m\u001b[1mPyGrid   \u001b[0m\u001b[1m \u001b[0m┃\u001b[1m \u001b[0m\u001b[1mInfo                                     \u001b[0m\u001b[1m \u001b[0m┃\u001b[1m \u001b[0m\u001b[1m600\u001b[0m\u001b[1m \u001b[0m┃\n",
      "┡━━━━━━━━━━━╇━━━━━━━━━━━━━━━━━━━━━━━━━━━━━━━━━━━━━━━━━━━╇━━━━━┩\n",
      "│\u001b[35m \u001b[0m\u001b[35mUI (βeta)\u001b[0m\u001b[35m \u001b[0m│ http://localhost:8081/login               │ ✅  │\n",
      "│\u001b[35m \u001b[0m\u001b[35mapi      \u001b[0m\u001b[35m \u001b[0m│ http://localhost:8081/api/v1/openapi.json │ ✅  │\n",
      "└───────────┴───────────────────────────────────────────┴─────┘\n",
      "╭──────────────────────────────────────────────────────────────╮\n",
      "│ 🚨🚨🚨 To view container logs run \u001b[1;31m hagrid logs alice_domain \u001b[0m │\n",
      "╰──────────────────────────────────────────────────────────────╯\n"
     ]
    }
   ],
   "source": [
    "!hagrid launch alice_domain domain to docker:8081 --tag=latest --tail=false\n",
    "# !hagrid land alice_domain --silent --force"
   ]
  },
  {
   "cell_type": "code",
   "execution_count": 8,
   "metadata": {},
   "outputs": [
    {
     "name": "stdout",
     "output_type": "stream",
     "text": [
      "\u001b[2K✅ Updated HAGrid from branch: dev from branch: dev\u001b[0m0m\n",
      "\u001b[2K\u001b[32m⠇\u001b[0m \u001b[1;34mUpdating HAGrid from branch: dev\u001b[0m\n",
      "\u001b[2K\u001b[32m⠏\u001b[0m \u001b[1;34mChecking for Docker Service\u001b[0m   ice\u001b[0m   \n",
      "\u001b[1A\u001b[2K✅ Docker service is running\n",
      "✅ Git 2.36.1\n",
      "✅ Docker 20.10.20\n",
      "✅ Docker Compose 2.12.1\n",
      "\n",
      "\n",
      "                                             `\n",
      "                                         `.+yys/.`\n",
      "                                       ``/NMMMNNs`\n",
      "                                    `./shNMMMMMMNs``    `..`\n",
      "                                  `-smNMMNNMMMMMMN/.``......`\n",
      "                                `.yNMMMMNmmmmNNMMm/.`....`\n",
      "                              `:sdNMMMMMMNNNNddddds-`.`` `--. `\n",
      "                           `.+dNNNNMMMMMMMMMNNNNmddohmh//hddy/.```..`\n",
      "                          `-hNMMMMMMMMMMMMNNdmNNMNNdNNd:sdyoo+/++:..`\n",
      "                        ../mMMMMMMMMMMMMMMNNmmmmNMNmNNmdmd/hNNNd+:`\n",
      "                        `:mMNNMMMMMMMMMMMMNMNNmmmNNNNNdNNd/NMMMMm::\n",
      "                       `:mMNNNMMMMMMMMMMMMMMMNNNNdNMNNmmNd:smMMmh//\n",
      "                     ``/mMMMMMMMMMMMMMMMMMMMMMMNmdmNNMMNNNy/osoo/-`\n",
      "                    `-sNMMMMMMMMMMMMMMMMMMMMMMMMNNmmMMMMNh-....`\n",
      "                   `/dNMMMMMMMMMMMMMMMMMMMMMMMMMMMNNMMMNy.`\n",
      "                ``.omNNMMMMMMMMMMMMNMMMMMMMNmmmmNNMMMMN+`\n",
      "                `:hmNNMMMMMMMMMMMNo/ohNNNNho+os+-+hNys/`\n",
      "                -mNNNNNNMMMMMMMMm+``-yNdd+/mMMMms.-:`\n",
      "                .+dmNNNNMMMMMMNd:``:dNN+y`oMMMMMm-.`\n",
      "                `+dmmmNNNmmmmy+.   `-+m/s/+MMMMm/--\n",
      "               `+mmmhNy/-...```     ``-.-sosyys+/-`\n",
      "            ``.smmmsoo``               .oh+-:/:.\n",
      "          `.:odmdh/````             `.+d+``````\n",
      "     ```/sydNdhy+.`              ``-sds.\n",
      "    `:hdmhs::-````               `oNs.`\n",
      "```.sdmh/``                    `-ym+`\n",
      " ``ssy+`                     `-yms.`\n",
      "   ``                      `:hNy-``\n",
      "   `                     `-yMN/```\n",
      "                       `-yNhy-\n",
      "                     `/yNd/`\n",
      "                   `:dNMs``\n",
      "                 `.+mNy/.`\n",
      "              `.+hNMMs``\n",
      "             `:dMMMMh.`\n",
      "\n",
      " _   _       _     _                 _   _                       _\n",
      "| | | |     | |   | |               | | | |                     | |\n",
      "| |_| | ___ | | __| |   ___  _ __   | |_| | __ _ _ __ _ __ _   _| |\n",
      "|  _  |/ _ \\| |/ _` |  / _ \\| '_ \\  |  _  |/ _` | '__| '__| | | | |\n",
      "| | | | (_) | | (_| | | (_) | | | | | | | | (_| | |  | |  | |_| |_|\n",
      "\\_| |_/\\___/|_|\\__,_|  \\___/|_| |_| \\_| |_/\\__,_|_|  |_|   \\__, (_)\n",
      "                                                            __/ |\n",
      "                                                           |___/\n",
      "        \n",
      "Launching a PyGrid Domain node on port 8082!\n",
      "\n",
      "  - NAME: bob_domain\n",
      "  - RELEASE: production\n",
      "  - TYPE: domain\n",
      "  - DOCKER_TAG: latest\n",
      "  - HAGRID_VERSION: \n",
      "  - PORT: 8082\n",
      "  - DOCKER COMPOSE: v2.12.1\n",
      "\n",
      "\n",
      "\u001b[1;32m⠋\u001b[0m\u001b[1;34m Launching Containers \u001b[0m\u001b[1;32m \u001b[0m\n",
      "\u001b[2K  ✅ \u001b[1;32mPulling [9 / 9]\u001b[0m \u001b[38;2;114;156;31m━━━━━━━━━━━━━━━━━━━━━━━━━━━━━━━━━━━━━━━━\u001b[0m \u001b[35m100.00%   \u001b[0m0m\u001b[38;5;237m━━━━\u001b[0m \u001b[35m88.89%   \u001b[0m\n",
      "\u001b[2K  ✅ \u001b[1;32mLaunching [11 / 11]\u001b[0m \u001b[38;2;114;156;31m━━━━━━━━━━━━━━━━━━━━━━━━━━━━━━━━━━━━━━━━\u001b[0m \u001b[35m100.00%   \u001b[0m8;5;237m━━━\u001b[0m \u001b[35m90.91%   \u001b[0m  \u001b[0m\n",
      "\u001b[?25h\n",
      "\u001b[1;32m⠋\u001b[0m\u001b[1;34m Checking node API \u001b[0m\u001b[1;32m \u001b[0m   \n",
      "\u001b[2K✅ bob_domain Domain Containers Createdntainer Creation\u001b[0m0m\n",
      "\u001b[2K✅ Backendm \u001b[1;38;5;202mStarting Backend\u001b[0meation\u001b[0m\n",
      "\u001b[2K✅ Startup Complete2mStarting Backend\u001b[0m\n",
      "\u001b[2K\u001b[32m⠏\u001b[0m \u001b[1;38;5;202mStarting Backend\u001b[0m\n",
      "\u001b[1A\u001b[2K┏━━━━━━━━━━━┳━━━━━━━━━━━━━━━━━━━━━━━━━━━━━━━━━━━━━━━━━━━┳━━━━━┓\n",
      "┃\u001b[1m \u001b[0m\u001b[1mPyGrid   \u001b[0m\u001b[1m \u001b[0m┃\u001b[1m \u001b[0m\u001b[1mInfo                                     \u001b[0m\u001b[1m \u001b[0m┃\u001b[1m \u001b[0m\u001b[1m600\u001b[0m\u001b[1m \u001b[0m┃\n",
      "┡━━━━━━━━━━━╇━━━━━━━━━━━━━━━━━━━━━━━━━━━━━━━━━━━━━━━━━━━╇━━━━━┩\n",
      "│\u001b[35m \u001b[0m\u001b[35mUI (βeta)\u001b[0m\u001b[35m \u001b[0m│ http://localhost:8082/login               │ ✅  │\n",
      "│\u001b[35m \u001b[0m\u001b[35mapi      \u001b[0m\u001b[35m \u001b[0m│ http://localhost:8082/api/v1/openapi.json │ ✅  │\n",
      "└───────────┴───────────────────────────────────────────┴─────┘\n",
      "╭────────────────────────────────────────────────────────────╮\n",
      "│ 🚨🚨🚨 To view container logs run \u001b[1;31m hagrid logs bob_domain \u001b[0m │\n",
      "╰────────────────────────────────────────────────────────────╯\n"
     ]
    }
   ],
   "source": [
    "!hagrid launch bob_domain domain to docker:8082 --tag=latest --tail=false\n",
    "# # !hagrid land bob_domain --silent --force"
   ]
  },
  {
   "cell_type": "code",
   "execution_count": 9,
   "metadata": {},
   "outputs": [
    {
     "data": {
      "text/html": [
       "<pre style=\"white-space:pre;overflow-x:auto;line-height:normal;font-family:Menlo,'DejaVu Sans Mono',consolas,'Courier New',monospace\">┏━━━━━━━━━━━┳━━━━━━━━━━━━━━━━━━━━━━━━━━━━━━━━━━━━━━━━━━━┳━━━━┓\n",
       "┃<span style=\"font-weight: bold\"> PyGrid    </span>┃<span style=\"font-weight: bold\"> Info                                      </span>┃<span style=\"font-weight: bold\">    </span>┃\n",
       "┡━━━━━━━━━━━╇━━━━━━━━━━━━━━━━━━━━━━━━━━━━━━━━━━━━━━━━━━━╇━━━━┩\n",
       "│<span style=\"color: #800080; text-decoration-color: #800080\"> UI (βeta) </span>│ http://localhost:8081/login               │ ✅ │\n",
       "│<span style=\"color: #800080; text-decoration-color: #800080\"> api       </span>│ http://localhost:8081/api/v1/openapi.json │ ✅ │\n",
       "└───────────┴───────────────────────────────────────────┴────┘\n",
       "</pre>\n"
      ],
      "text/plain": [
       "┏━━━━━━━━━━━┳━━━━━━━━━━━━━━━━━━━━━━━━━━━━━━━━━━━━━━━━━━━┳━━━━┓\n",
       "┃\u001b[1m \u001b[0m\u001b[1mPyGrid   \u001b[0m\u001b[1m \u001b[0m┃\u001b[1m \u001b[0m\u001b[1mInfo                                     \u001b[0m\u001b[1m \u001b[0m┃\u001b[1m \u001b[0m\u001b[1m  \u001b[0m\u001b[1m \u001b[0m┃\n",
       "┡━━━━━━━━━━━╇━━━━━━━━━━━━━━━━━━━━━━━━━━━━━━━━━━━━━━━━━━━╇━━━━┩\n",
       "│\u001b[35m \u001b[0m\u001b[35mUI (βeta)\u001b[0m\u001b[35m \u001b[0m│ http://localhost:8081/login               │ ✅ │\n",
       "│\u001b[35m \u001b[0m\u001b[35mapi      \u001b[0m\u001b[35m \u001b[0m│ http://localhost:8081/api/v1/openapi.json │ ✅ │\n",
       "└───────────┴───────────────────────────────────────────┴────┘\n"
      ]
     },
     "metadata": {},
     "output_type": "display_data"
    }
   ],
   "source": [
    "# Check the Alice Domain\n",
    "hagrid.check('localhost:8081',timeout=120)"
   ]
  },
  {
   "cell_type": "code",
   "execution_count": 10,
   "metadata": {
    "scrolled": true
   },
   "outputs": [
    {
     "data": {
      "text/html": [
       "<pre style=\"white-space:pre;overflow-x:auto;line-height:normal;font-family:Menlo,'DejaVu Sans Mono',consolas,'Courier New',monospace\">┏━━━━━━━━━━━┳━━━━━━━━━━━━━━━━━━━━━━━━━━━━━━━━━━━━━━━━━━━┳━━━━┓\n",
       "┃<span style=\"font-weight: bold\"> PyGrid    </span>┃<span style=\"font-weight: bold\"> Info                                      </span>┃<span style=\"font-weight: bold\">    </span>┃\n",
       "┡━━━━━━━━━━━╇━━━━━━━━━━━━━━━━━━━━━━━━━━━━━━━━━━━━━━━━━━━╇━━━━┩\n",
       "│<span style=\"color: #800080; text-decoration-color: #800080\"> UI (βeta) </span>│ http://localhost:8082/login               │ ✅ │\n",
       "│<span style=\"color: #800080; text-decoration-color: #800080\"> api       </span>│ http://localhost:8082/api/v1/openapi.json │ ✅ │\n",
       "└───────────┴───────────────────────────────────────────┴────┘\n",
       "</pre>\n"
      ],
      "text/plain": [
       "┏━━━━━━━━━━━┳━━━━━━━━━━━━━━━━━━━━━━━━━━━━━━━━━━━━━━━━━━━┳━━━━┓\n",
       "┃\u001b[1m \u001b[0m\u001b[1mPyGrid   \u001b[0m\u001b[1m \u001b[0m┃\u001b[1m \u001b[0m\u001b[1mInfo                                     \u001b[0m\u001b[1m \u001b[0m┃\u001b[1m \u001b[0m\u001b[1m  \u001b[0m\u001b[1m \u001b[0m┃\n",
       "┡━━━━━━━━━━━╇━━━━━━━━━━━━━━━━━━━━━━━━━━━━━━━━━━━━━━━━━━━╇━━━━┩\n",
       "│\u001b[35m \u001b[0m\u001b[35mUI (βeta)\u001b[0m\u001b[35m \u001b[0m│ http://localhost:8082/login               │ ✅ │\n",
       "│\u001b[35m \u001b[0m\u001b[35mapi      \u001b[0m\u001b[35m \u001b[0m│ http://localhost:8082/api/v1/openapi.json │ ✅ │\n",
       "└───────────┴───────────────────────────────────────────┴────┘\n"
      ]
     },
     "metadata": {},
     "output_type": "display_data"
    }
   ],
   "source": [
    "# Check the Bob Domain\n",
    "hagrid.check('localhost:8082',timeout=120)"
   ]
  },
  {
   "cell_type": "code",
   "execution_count": 11,
   "metadata": {
    "scrolled": true
   },
   "outputs": [
    {
     "name": "stdout",
     "output_type": "stream",
     "text": [
      "\u001b[93mWARNING:\u001b[0m CHANGE YOUR USERNAME AND PASSWORD!!! \n",
      "\n",
      "Anyone can login as an admin to your node right now because your password is still the default PySyft username and password!!!\n",
      "\n",
      "Connecting to localhost... done! \t Logging into alice_domain... done!\n",
      "\n",
      "**Warning**: The syft version on your system and the node are different.\n",
      "Version on your system: 0.7.0-beta.60\n",
      "Version on the node: 0.7.0-beta.61\n",
      "\n"
     ]
    }
   ],
   "source": [
    "import syft as sy\n",
    "alice_domain = sy.login(\n",
    "    email=\"info@openmined.org\",\n",
    "    password=\"changethis\",\n",
    "    port=8081\n",
    ")"
   ]
  },
  {
   "cell_type": "code",
   "execution_count": 12,
   "metadata": {
    "scrolled": true
   },
   "outputs": [
    {
     "name": "stdout",
     "output_type": "stream",
     "text": [
      "\u001b[93mWARNING:\u001b[0m CHANGE YOUR USERNAME AND PASSWORD!!! \n",
      "\n",
      "Anyone can login as an admin to your node right now because your password is still the default PySyft username and password!!!\n",
      "\n",
      "Connecting to localhost... done! \t Logging into bob_domain... done!\n",
      "\n",
      "**Warning**: The syft version on your system and the node are different.\n",
      "Version on your system: 0.7.0-beta.60\n",
      "Version on the node: 0.7.0-beta.61\n",
      "\n"
     ]
    }
   ],
   "source": [
    "bob_domain = sy.login(\n",
    "    email=\"info@openmined.org\",\n",
    "    password=\"changethis\",\n",
    "    port=8082\n",
    ")"
   ]
  },
  {
   "cell_type": "markdown",
   "metadata": {},
   "source": [
    "## Party 1 - Alice's team in the UK"
   ]
  },
  {
   "cell_type": "code",
   "execution_count": null,
   "metadata": {},
   "outputs": [],
   "source": [
    "import syft as sy\n",
    "\n",
    "sy.__version__"
   ]
  },
  {
   "cell_type": "code",
   "execution_count": 15,
   "metadata": {
    "colab": {
     "base_uri": "https://localhost:8080/"
    },
    "id": "12pnjEGBmCmi",
    "outputId": "0edfed84-ab05-45e7-ded2-398c546688f5"
   },
   "outputs": [],
   "source": [
    "import syft as sy\n",
    "import numpy as np\n",
    "sy.logger.remove()"
   ]
  },
  {
   "cell_type": "code",
   "execution_count": 20,
   "metadata": {
    "id": "2VG7Jt5YmfgX"
   },
   "outputs": [],
   "source": [
    "#@title Dataset creation\n",
    "\n",
    "# run this cell\n",
    "try:\n",
    "   import pandas as pd\n",
    "   alice_data = {'ID': ['011', '015'],\n",
    "         'Age': [40, 39]}\n",
    "\n",
    "   dataset = pd.DataFrame(alice_data)\n",
    "   print(alice_dataset.head())\n",
    "except Exception:\n",
    "   print(\"Install the latest version of Pandas using the command: !pip install pandas\")\n"
   ]
  },
  {
   "cell_type": "code",
   "execution_count": 23,
   "metadata": {},
   "outputs": [
    {
     "data": {
      "text/plain": [
       "['Rasswanth', 'Rasswanth']"
      ]
     },
     "execution_count": 23,
     "metadata": {},
     "output_type": "execute_result"
    }
   ],
   "source": [
    "[\"Rasswanth\"] * training_data_alice.shape[0]"
   ]
  },
  {
   "cell_type": "code",
   "execution_count": 24,
   "metadata": {
    "id": "6pNPU29Dmfbd",
    "scrolled": true
   },
   "outputs": [
    {
     "name": "stdout",
     "output_type": "stream",
     "text": [
      "Tensor annotated with DP Metadata!\n",
      "You can upload this Tensor to a domain node by calling `<domain_client>.load_dataset` and passing in this tensor as an asset.\n"
     ]
    }
   ],
   "source": [
    "#@title Upload the dataset to Domain node\n",
    "\n",
    "# run this cell\n",
    "alice_data_subjects = sy.DataSubjectArray.from_objs(alice_dataset[\"ID\"])\n",
    "\n",
    "training_data_alice = sy.Tensor(\n",
    "    alice_dataset[\"Age\"]\n",
    ").annotate_with_dp_metadata(\n",
    "    lower_bound=0,\n",
    "    upper_bound=100,\n",
    "    data_subjects=alice_data_subjects\n",
    ")"
   ]
  },
  {
   "cell_type": "code",
   "execution_count": 26,
   "metadata": {
    "id": "aAI9bE3BmfZC"
   },
   "outputs": [
    {
     "name": "stdout",
     "output_type": "stream",
     "text": [
      "Loading dataset...\r\n",
      "Loading dataset... checking assets...\r\n",
      "Loading dataset... checking dataset name for uniqueness...\r\n",
      "Loading dataset... checking dataset name for uniqueness...                                                                                                                    \r\n",
      "Loading dataset... checking asset types...                              \r\n",
      "Loading dataset... uploading...🚀                        "
     ]
    },
    {
     "name": "stderr",
     "output_type": "stream",
     "text": [
      "kj/filesystem-disk-unix.c++:1690: warning: PWD environment variable doesn't match current directory; pwd = /Users/matthewmcateer/Documents/GitHub/practicing_trustworthy_machine_learning\n",
      "Uploading `Age_Data`: 100%|\u001b[32m███████████████████████████████████████████\u001b[0m| 1/1 [00:00<00:00,  4.31it/s]\u001b[0m"
     ]
    },
    {
     "name": "stdout",
     "output_type": "stream",
     "text": [
      "\r\n",
      "Dataset is uploaded successfully !!! 🎉\n",
      "\n",
      "Run `<your client variable>.datasets` to see your new dataset loaded into your machine!\n"
     ]
    },
    {
     "name": "stderr",
     "output_type": "stream",
     "text": [
      "\n"
     ]
    }
   ],
   "source": [
    "# Upload a private dataset to the Domain object, as the root owner\n",
    "\n",
    "# run this cell\n",
    "alice_domain.load_dataset(\n",
    "   assets={\n",
    "      \"Age_Data\": training_data_alice,\n",
    "   },\n",
    "    name=\"Family_Age_Dataset\",\n",
    "   description=\"Our dataset contains the Ages of our four Family members with unique ID's. There are 2 columns and 4 rows in our dataset.\"\n",
    ")"
   ]
  },
  {
   "cell_type": "code",
   "execution_count": 27,
   "metadata": {
    "id": "UuapNSaNmfW8",
    "scrolled": false
   },
   "outputs": [
    {
     "data": {
      "text/html": [
       "<style>\n",
       "                #myInput {\n",
       "                  background-position: 10px 12px; /* Position the search icon */\n",
       "                  background-repeat: no-repeat; /* Do not repeat the icon image */\n",
       "                  background-color: #bbb;\n",
       "                  width: 98%; /* Full-width */\n",
       "                  font-size: 14px; /* Increase font-size */\n",
       "                  padding: 12px 20px 12px 40px; /* Add some padding */\n",
       "                  border: 1px solid #ddd; /* Add a grey border */\n",
       "                  margin-bottom: 12px; /* Add some space below the input */\n",
       "                }\n",
       "\n",
       "                #myTable {\n",
       "                  border-collapse: collapse; /* Collapse borders */\n",
       "                  width: 100%; /* Full-width */\n",
       "                  border: 1px solid #ddd; /* Add a grey border */\n",
       "                  font-size: 14px; /* Increase font-size */\n",
       "                }\n",
       "\n",
       "                #myTable th, #myTable td {\n",
       "                  text-align: left; /* Left-align text */\n",
       "                  padding: 10px; /* Add padding */\n",
       "                }\n",
       "\n",
       "                #myTable tr {\n",
       "                  /* Add a bottom border to all table rows */\n",
       "                  border-bottom: 1px solid #ddd;\n",
       "                }\n",
       "\n",
       "                #myTable tr.header, #myTable tr:hover {\n",
       "                  /* Add a grey background color to the table header and on hover */\n",
       "                  background-color: #777;\n",
       "                }\n",
       "                </style>\n",
       "\n",
       "                <table id=\"myTable\" style=\"width:1000px\">\n",
       "                  <tr class=\"header\">\n",
       "                    <th style=\"width:30px\">Idx</th>\n",
       "                    <th style=\"width:20%;\">Name</th>\n",
       "                    <th style=\"width:35%;\">Description</th>\n",
       "                    <th style=\"width:20%;\">Assets</th>\n",
       "                    <th style=\"width:300px;\">Id</th>\n",
       "                  </tr>\n",
       "                \n",
       "\n",
       "          <tr>\n",
       "            <td>[0]</td>\n",
       "            <td>Family_Age_Dataset</td>\n",
       "            <td>Our dataset contains the Ages of our four Family members with unique ID's. There are 2 columns and 4 rows in our dataset.</td>\n",
       "            <td>[\"Age_Data\"] -> Tensor<br /><br /></td>\n",
       "            <td>3203340f-f271-4533-874e-c280352be12e</td>\n",
       "          </tr>\n",
       "        </table>\n",
       "\n",
       "        <script>\n",
       "        function myFunction() {\n",
       "          // Declare variables\n",
       "          var input, filter, table, tr, td, i, txtValue;\n",
       "          input = document.getElementById(\"myInput\");\n",
       "          filter = input.value.toUpperCase();\n",
       "          table = document.getElementById(\"myTable\");\n",
       "          tr = table.getElementsByTagName(\"tr\");\n",
       "\n",
       "          // Loop through all table rows, and hide those who don't match the search query\n",
       "          for (i = 0; i < tr.length; i++) {\n",
       "            name_td = tr[i].getElementsByTagName(\"td\")[1];\n",
       "            desc_td = tr[i].getElementsByTagName(\"td\")[2];\n",
       "            asset_td = tr[i].getElementsByTagName(\"td\")[3];\n",
       "            id_td = tr[i].getElementsByTagName(\"td\")[4];\n",
       "            if (name_td || desc_td || asset_td || id_td) {\n",
       "              name_txtValue = name_td.textContent || name_td.innerText;\n",
       "              desc_txtValue = desc_td.textContent || name_td.innerText;\n",
       "              asset_txtValue = asset_td.textContent || name_td.innerText;\n",
       "              id_txtValue = id_td.textContent || name_td.innerText;\n",
       "              name_bool = name_txtValue.toUpperCase().indexOf(filter) > -1;\n",
       "              desc_bool = desc_txtValue.toUpperCase().indexOf(filter) > -1;\n",
       "              asset_bool = asset_txtValue.toUpperCase().indexOf(filter) > -1;\n",
       "              id_bool = id_txtValue.toUpperCase().indexOf(filter) > -1;\n",
       "              if (name_bool || desc_bool || asset_bool || id_bool) {\n",
       "                tr[i].style.display = \"\";\n",
       "              } else {\n",
       "                tr[i].style.display = \"none\";\n",
       "              }\n",
       "            }\n",
       "          }\n",
       "        }\n",
       "        </script>"
      ],
      "text/plain": [
       "<syft.core.node.common.client_manager.dataset_api.DatasetRequestAPI at 0x149758040>"
      ]
     },
     "execution_count": 27,
     "metadata": {},
     "output_type": "execute_result"
    }
   ],
   "source": [
    "alice_domain.datasets"
   ]
  },
  {
   "cell_type": "code",
   "execution_count": 28,
   "metadata": {
    "id": "jHHUy3GJmfSV"
   },
   "outputs": [
    {
     "name": "stdout",
     "output_type": "stream",
     "text": [
      "User created successfully!\n"
     ]
    }
   ],
   "source": [
    "#@title Create a Data Scientist User\n",
    "\n",
    "#change budget before demo\n",
    "alice_domain.users.create(\n",
    "    **{\n",
    "        \"name\": \"Seven of Nine\",\n",
    "        \"email\": \"seven.ofnine@starfleet.com\",\n",
    "        \"password\": \"borgcube\",\n",
    "        \"budget\":9_999_999\n",
    "    }\n",
    ")"
   ]
  },
  {
   "cell_type": "code",
   "execution_count": 29,
   "metadata": {
    "id": "ELb2syg6mfP-",
    "scrolled": true
   },
   "outputs": [
    {
     "data": {
      "text/html": [
       "<div>\n",
       "<style scoped>\n",
       "    .dataframe tbody tr th:only-of-type {\n",
       "        vertical-align: middle;\n",
       "    }\n",
       "\n",
       "    .dataframe tbody tr th {\n",
       "        vertical-align: top;\n",
       "    }\n",
       "\n",
       "    .dataframe thead th {\n",
       "        text-align: right;\n",
       "    }\n",
       "</style>\n",
       "<table border=\"1\" class=\"dataframe\">\n",
       "  <thead>\n",
       "    <tr style=\"text-align: right;\">\n",
       "      <th></th>\n",
       "      <th>id</th>\n",
       "      <th>email</th>\n",
       "      <th>name</th>\n",
       "      <th>budget</th>\n",
       "      <th>verify_key</th>\n",
       "      <th>role</th>\n",
       "      <th>added_by</th>\n",
       "      <th>website</th>\n",
       "      <th>institution</th>\n",
       "      <th>daa_pdf</th>\n",
       "      <th>created_at</th>\n",
       "      <th>budget_spent</th>\n",
       "    </tr>\n",
       "  </thead>\n",
       "  <tbody>\n",
       "    <tr>\n",
       "      <th>0</th>\n",
       "      <td>1</td>\n",
       "      <td>info@openmined.org</td>\n",
       "      <td>Jane Doe</td>\n",
       "      <td>5.55</td>\n",
       "      <td>af29e51f2771bd7b911a29c9507bd4addcc16b7937aa64...</td>\n",
       "      <td>Owner</td>\n",
       "      <td>None</td>\n",
       "      <td>None</td>\n",
       "      <td>None</td>\n",
       "      <td>NaN</td>\n",
       "      <td>2022-12-05 09:27:52.832638</td>\n",
       "      <td>5.55</td>\n",
       "    </tr>\n",
       "    <tr>\n",
       "      <th>1</th>\n",
       "      <td>2</td>\n",
       "      <td>sheldon@caltech.edu</td>\n",
       "      <td>Sheldon Cooper</td>\n",
       "      <td>9999999.00</td>\n",
       "      <td>b9a85337dac82042a8ec7a7097fdd9b8f7d8b5753c330e...</td>\n",
       "      <td>Data Scientist</td>\n",
       "      <td>Jane Doe</td>\n",
       "      <td></td>\n",
       "      <td></td>\n",
       "      <td>1.0</td>\n",
       "      <td>2022-12-05 09:39:40.728098</td>\n",
       "      <td>9999999.00</td>\n",
       "    </tr>\n",
       "  </tbody>\n",
       "</table>\n",
       "</div>"
      ],
      "text/plain": [
       "<syft.core.node.common.client_manager.user_api.UserRequestAPI at 0x149853e20>"
      ]
     },
     "execution_count": 29,
     "metadata": {},
     "output_type": "execute_result"
    }
   ],
   "source": [
    "alice_domain.users\n"
   ]
  },
  {
   "cell_type": "code",
   "execution_count": 30,
   "metadata": {
    "id": "nbT9fL3EmfNV"
   },
   "outputs": [
    {
     "data": {
      "text/html": [
       "<div>\n",
       "<style scoped>\n",
       "    .dataframe tbody tr th:only-of-type {\n",
       "        vertical-align: middle;\n",
       "    }\n",
       "\n",
       "    .dataframe tbody tr th {\n",
       "        vertical-align: top;\n",
       "    }\n",
       "\n",
       "    .dataframe thead th {\n",
       "        text-align: right;\n",
       "    }\n",
       "</style>\n",
       "<table border=\"1\" class=\"dataframe\">\n",
       "  <thead>\n",
       "    <tr style=\"text-align: right;\">\n",
       "      <th></th>\n",
       "    </tr>\n",
       "  </thead>\n",
       "  <tbody>\n",
       "  </tbody>\n",
       "</table>\n",
       "</div>"
      ],
      "text/plain": [
       "Empty DataFrame\n",
       "Columns: []\n",
       "Index: []"
      ]
     },
     "execution_count": 30,
     "metadata": {},
     "output_type": "execute_result"
    }
   ],
   "source": [
    "#@title Accept/Deny Requests to the Domain\n",
    "alice_domain.requests.pandas"
   ]
  },
  {
   "cell_type": "code",
   "execution_count": 48,
   "metadata": {},
   "outputs": [],
   "source": [
    "#alice_domain.requests[-1].accept()"
   ]
  },
  {
   "cell_type": "markdown",
   "metadata": {},
   "source": [
    "## Party 2 - Bob's team in Menlo Park"
   ]
  },
  {
   "cell_type": "code",
   "execution_count": 32,
   "metadata": {
    "id": "nlghJrVPmfI7"
   },
   "outputs": [],
   "source": [
    "import syft as sy\n",
    "import numpy as np\n",
    "sy.logger.remove()"
   ]
  },
  {
   "cell_type": "code",
   "execution_count": 33,
   "metadata": {
    "id": "iv_uN3fQmfGj"
   },
   "outputs": [
    {
     "name": "stdout",
     "output_type": "stream",
     "text": [
      "    ID  Age\n",
      "0  022    9\n",
      "1  034    8\n"
     ]
    }
   ],
   "source": [
    "# Dataset Creation\n",
    "\n",
    "# run this cell\n",
    "try:\n",
    "   import pandas as pd\n",
    "   bob_data = {\n",
    "       'ID': ['022', '034'],\n",
    "       'Age': [9, 8]\n",
    "   }\n",
    "\n",
    "   bob_dataset = pd.DataFrame(bob_data)\n",
    "   print(bob_dataset.head())\n",
    "except Exception:\n",
    "   print(\"Install the latest version of Pandas using the command: !pip install pandas\")\n"
   ]
  },
  {
   "cell_type": "code",
   "execution_count": 35,
   "metadata": {
    "id": "4hmiyUbbmfB4"
   },
   "outputs": [
    {
     "name": "stdout",
     "output_type": "stream",
     "text": [
      "Tensor annotated with DP Metadata!\n",
      "You can upload this Tensor to a domain node by calling `<domain_client>.load_dataset` and passing in this tensor as an asset.\n"
     ]
    }
   ],
   "source": [
    "#@title Upload the dataset to Domain node\n",
    "\n",
    "# run this cell\n",
    "bob_data_subjects = sy.DataSubjectArray.from_objs(bob_dataset[\"ID\"])\n",
    "\n",
    "training_data_bob = sy.Tensor(\n",
    "    bob_dataset[\"Age\"]\n",
    ").annotate_with_dp_metadata(\n",
    "    lower_bound=0,\n",
    "    upper_bound=100,\n",
    "    data_subjects=bob_data_subjects\n",
    ")\n"
   ]
  },
  {
   "cell_type": "code",
   "execution_count": 36,
   "metadata": {
    "id": "s7ZaNFZzme_v"
   },
   "outputs": [
    {
     "name": "stdout",
     "output_type": "stream",
     "text": [
      "Loading dataset...\r\n",
      "Loading dataset... checking assets...\r\n",
      "Loading dataset... checking dataset name for uniqueness...\r\n",
      "Loading dataset... checking dataset name for uniqueness...                                                                                                                    \r\n",
      "Loading dataset... checking asset types...                              \r\n",
      "Loading dataset... uploading...🚀                        "
     ]
    },
    {
     "name": "stderr",
     "output_type": "stream",
     "text": [
      "Uploading `Age_Data`: 100%|\u001b[32m███████████████████████████████████████████\u001b[0m| 1/1 [00:00<00:00,  4.64it/s]\u001b[0m"
     ]
    },
    {
     "name": "stdout",
     "output_type": "stream",
     "text": [
      "\r\n",
      "Dataset is uploaded successfully !!! 🎉\n",
      "\n",
      "Run `<your client variable>.datasets` to see your new dataset loaded into your machine!\n"
     ]
    },
    {
     "name": "stderr",
     "output_type": "stream",
     "text": [
      "\n"
     ]
    }
   ],
   "source": [
    "#@title Upload a private dataset to the Domain object, as the root owner\n",
    "\n",
    "# run this cell\n",
    "bob_domain.load_dataset(\n",
    "   assets={\n",
    "      \"age_data_train\": training_data_bob,\n",
    "      \"age_data_test\": training_data_bob,\n",
    "   },\n",
    "    name=\"Family_Age_Dataset\",\n",
    "   description=\"Our dataset contains the Ages of our four Family members with unique ID's. There are 2 columns and 4 rows in our dataset.\"\n",
    ")\n"
   ]
  },
  {
   "cell_type": "code",
   "execution_count": 37,
   "metadata": {
    "id": "jQjbBk3_me9V"
   },
   "outputs": [
    {
     "data": {
      "text/html": [
       "<style>\n",
       "                #myInput {\n",
       "                  background-position: 10px 12px; /* Position the search icon */\n",
       "                  background-repeat: no-repeat; /* Do not repeat the icon image */\n",
       "                  background-color: #bbb;\n",
       "                  width: 98%; /* Full-width */\n",
       "                  font-size: 14px; /* Increase font-size */\n",
       "                  padding: 12px 20px 12px 40px; /* Add some padding */\n",
       "                  border: 1px solid #ddd; /* Add a grey border */\n",
       "                  margin-bottom: 12px; /* Add some space below the input */\n",
       "                }\n",
       "\n",
       "                #myTable {\n",
       "                  border-collapse: collapse; /* Collapse borders */\n",
       "                  width: 100%; /* Full-width */\n",
       "                  border: 1px solid #ddd; /* Add a grey border */\n",
       "                  font-size: 14px; /* Increase font-size */\n",
       "                }\n",
       "\n",
       "                #myTable th, #myTable td {\n",
       "                  text-align: left; /* Left-align text */\n",
       "                  padding: 10px; /* Add padding */\n",
       "                }\n",
       "\n",
       "                #myTable tr {\n",
       "                  /* Add a bottom border to all table rows */\n",
       "                  border-bottom: 1px solid #ddd;\n",
       "                }\n",
       "\n",
       "                #myTable tr.header, #myTable tr:hover {\n",
       "                  /* Add a grey background color to the table header and on hover */\n",
       "                  background-color: #777;\n",
       "                }\n",
       "                </style>\n",
       "\n",
       "                <table id=\"myTable\" style=\"width:1000px\">\n",
       "                  <tr class=\"header\">\n",
       "                    <th style=\"width:30px\">Idx</th>\n",
       "                    <th style=\"width:20%;\">Name</th>\n",
       "                    <th style=\"width:35%;\">Description</th>\n",
       "                    <th style=\"width:20%;\">Assets</th>\n",
       "                    <th style=\"width:300px;\">Id</th>\n",
       "                  </tr>\n",
       "                \n",
       "\n",
       "          <tr>\n",
       "            <td>[0]</td>\n",
       "            <td>Family_Age_Dataset</td>\n",
       "            <td>Our dataset contains the Ages of our four Family members with unique ID's. There are 2 columns and 4 rows in our dataset.</td>\n",
       "            <td>[\"Age_Data\"] -> Tensor<br /><br /></td>\n",
       "            <td>07fff0f5-9fe7-47e9-b884-635857b5d43f</td>\n",
       "          </tr>\n",
       "        </table>\n",
       "\n",
       "        <script>\n",
       "        function myFunction() {\n",
       "          // Declare variables\n",
       "          var input, filter, table, tr, td, i, txtValue;\n",
       "          input = document.getElementById(\"myInput\");\n",
       "          filter = input.value.toUpperCase();\n",
       "          table = document.getElementById(\"myTable\");\n",
       "          tr = table.getElementsByTagName(\"tr\");\n",
       "\n",
       "          // Loop through all table rows, and hide those who don't match the search query\n",
       "          for (i = 0; i < tr.length; i++) {\n",
       "            name_td = tr[i].getElementsByTagName(\"td\")[1];\n",
       "            desc_td = tr[i].getElementsByTagName(\"td\")[2];\n",
       "            asset_td = tr[i].getElementsByTagName(\"td\")[3];\n",
       "            id_td = tr[i].getElementsByTagName(\"td\")[4];\n",
       "            if (name_td || desc_td || asset_td || id_td) {\n",
       "              name_txtValue = name_td.textContent || name_td.innerText;\n",
       "              desc_txtValue = desc_td.textContent || name_td.innerText;\n",
       "              asset_txtValue = asset_td.textContent || name_td.innerText;\n",
       "              id_txtValue = id_td.textContent || name_td.innerText;\n",
       "              name_bool = name_txtValue.toUpperCase().indexOf(filter) > -1;\n",
       "              desc_bool = desc_txtValue.toUpperCase().indexOf(filter) > -1;\n",
       "              asset_bool = asset_txtValue.toUpperCase().indexOf(filter) > -1;\n",
       "              id_bool = id_txtValue.toUpperCase().indexOf(filter) > -1;\n",
       "              if (name_bool || desc_bool || asset_bool || id_bool) {\n",
       "                tr[i].style.display = \"\";\n",
       "              } else {\n",
       "                tr[i].style.display = \"none\";\n",
       "              }\n",
       "            }\n",
       "          }\n",
       "        }\n",
       "        </script>"
      ],
      "text/plain": [
       "<syft.core.node.common.client_manager.dataset_api.DatasetRequestAPI at 0x149d33a30>"
      ]
     },
     "execution_count": 37,
     "metadata": {},
     "output_type": "execute_result"
    }
   ],
   "source": [
    "bob_domain.datasets"
   ]
  },
  {
   "cell_type": "code",
   "execution_count": 38,
   "metadata": {
    "id": "CD5xLGD8me7M"
   },
   "outputs": [
    {
     "name": "stdout",
     "output_type": "stream",
     "text": [
      "User created successfully!\n"
     ]
    }
   ],
   "source": [
    "#@title Create a Data Scientist User\n",
    "\n",
    "#change budget before demo\n",
    "bob_domain.users.create(\n",
    "    **{\n",
    "        \"name\": \"Seven of Nine\",\n",
    "        \"email\": \"seven.ofnine@starfleet.com\",\n",
    "        \"password\": \"borgcube\",\n",
    "        \"budget\":9_999_999\n",
    "    }\n",
    ")\n"
   ]
  },
  {
   "cell_type": "code",
   "execution_count": 39,
   "metadata": {
    "id": "J0uqGXEwme4U",
    "scrolled": true
   },
   "outputs": [
    {
     "data": {
      "text/html": [
       "<div>\n",
       "<style scoped>\n",
       "    .dataframe tbody tr th:only-of-type {\n",
       "        vertical-align: middle;\n",
       "    }\n",
       "\n",
       "    .dataframe tbody tr th {\n",
       "        vertical-align: top;\n",
       "    }\n",
       "\n",
       "    .dataframe thead th {\n",
       "        text-align: right;\n",
       "    }\n",
       "</style>\n",
       "<table border=\"1\" class=\"dataframe\">\n",
       "  <thead>\n",
       "    <tr style=\"text-align: right;\">\n",
       "      <th></th>\n",
       "      <th>id</th>\n",
       "      <th>email</th>\n",
       "      <th>name</th>\n",
       "      <th>budget</th>\n",
       "      <th>verify_key</th>\n",
       "      <th>role</th>\n",
       "      <th>added_by</th>\n",
       "      <th>website</th>\n",
       "      <th>institution</th>\n",
       "      <th>daa_pdf</th>\n",
       "      <th>created_at</th>\n",
       "      <th>budget_spent</th>\n",
       "    </tr>\n",
       "  </thead>\n",
       "  <tbody>\n",
       "    <tr>\n",
       "      <th>0</th>\n",
       "      <td>1</td>\n",
       "      <td>info@openmined.org</td>\n",
       "      <td>Jane Doe</td>\n",
       "      <td>5.55</td>\n",
       "      <td>5c02b5692ee6ffe7bde572df3b7dc8cd14e3e44946f3c4...</td>\n",
       "      <td>Owner</td>\n",
       "      <td>None</td>\n",
       "      <td>None</td>\n",
       "      <td>None</td>\n",
       "      <td>NaN</td>\n",
       "      <td>2022-12-05 09:28:34.016374</td>\n",
       "      <td>5.55</td>\n",
       "    </tr>\n",
       "    <tr>\n",
       "      <th>1</th>\n",
       "      <td>2</td>\n",
       "      <td>sheldon@caltech.edu</td>\n",
       "      <td>Sheldon Cooper</td>\n",
       "      <td>9999999.00</td>\n",
       "      <td>110c611f62a527a44d70078fd8ddad472d8bcc5213d724...</td>\n",
       "      <td>Data Scientist</td>\n",
       "      <td>Jane Doe</td>\n",
       "      <td></td>\n",
       "      <td></td>\n",
       "      <td>1.0</td>\n",
       "      <td>2022-12-05 09:46:53.287861</td>\n",
       "      <td>9999999.00</td>\n",
       "    </tr>\n",
       "  </tbody>\n",
       "</table>\n",
       "</div>"
      ],
      "text/plain": [
       "<syft.core.node.common.client_manager.user_api.UserRequestAPI at 0x149d33970>"
      ]
     },
     "execution_count": 39,
     "metadata": {},
     "output_type": "execute_result"
    }
   ],
   "source": [
    "bob_domain.users"
   ]
  },
  {
   "cell_type": "code",
   "execution_count": 40,
   "metadata": {},
   "outputs": [
    {
     "data": {
      "text/html": [
       "<div>\n",
       "<style scoped>\n",
       "    .dataframe tbody tr th:only-of-type {\n",
       "        vertical-align: middle;\n",
       "    }\n",
       "\n",
       "    .dataframe tbody tr th {\n",
       "        vertical-align: top;\n",
       "    }\n",
       "\n",
       "    .dataframe thead th {\n",
       "        text-align: right;\n",
       "    }\n",
       "</style>\n",
       "<table border=\"1\" class=\"dataframe\">\n",
       "  <thead>\n",
       "    <tr style=\"text-align: right;\">\n",
       "      <th></th>\n",
       "    </tr>\n",
       "  </thead>\n",
       "  <tbody>\n",
       "  </tbody>\n",
       "</table>\n",
       "</div>"
      ],
      "text/plain": [
       "Empty DataFrame\n",
       "Columns: []\n",
       "Index: []"
      ]
     },
     "execution_count": 40,
     "metadata": {},
     "output_type": "execute_result"
    }
   ],
   "source": [
    "#@title Accept/Deny Requests to the Domain\n",
    "bob_domain.requests.pandas"
   ]
  },
  {
   "cell_type": "code",
   "execution_count": 49,
   "metadata": {
    "scrolled": false
   },
   "outputs": [
    {
     "name": "stdout",
     "output_type": "stream",
     "text": [
      "--2022-12-05 01:55:06--  https://raw.githubusercontent.com/facebookresearch/CrypTen/b1466440bde4db3e6e1fcb1740584d35a16eda9e/tutorials/mnist_utils.py\n",
      "Resolving raw.githubusercontent.com (raw.githubusercontent.com)... 185.199.108.133, 185.199.111.133, 185.199.109.133, ...\n",
      "Connecting to raw.githubusercontent.com (raw.githubusercontent.com)|185.199.108.133|:443... connected.\n",
      "HTTP request sent, awaiting response... 200 OK\n",
      "Length: 7401 (7.2K) [text/plain]\n",
      "Saving to: 'mnist_utils.py'\n",
      "\n",
      "mnist_utils.py      100%[===================>]   7.23K  --.-KB/s    in 0s      \n",
      "\n",
      "2022-12-05 01:55:07 (17.3 MB/s) - 'mnist_utils.py' saved [7401/7401]\n",
      "\n"
     ]
    }
   ],
   "source": [
    "!wget \"https://raw.githubusercontent.com/facebookresearch/CrypTen/b1466440bde4db3e6e1fcb1740584d35a16eda9e/tutorials/mnist_utils.py\" -O \"mnist_utils.py\"\n",
    "     "
   ]
  },
  {
   "cell_type": "code",
   "execution_count": 50,
   "metadata": {},
   "outputs": [
    {
     "name": "stdout",
     "output_type": "stream",
     "text": [
      "Downloading http://yann.lecun.com/exdb/mnist/train-images-idx3-ubyte.gz\n",
      "Downloading http://yann.lecun.com/exdb/mnist/train-images-idx3-ubyte.gz to /tmp/MNIST/raw/train-images-idx3-ubyte.gz\n",
      "9913344it [00:00, 38114476.95it/s]                                              \n",
      "Extracting /tmp/MNIST/raw/train-images-idx3-ubyte.gz to /tmp/MNIST/raw\n",
      "\n",
      "Downloading http://yann.lecun.com/exdb/mnist/train-labels-idx1-ubyte.gz\n",
      "Downloading http://yann.lecun.com/exdb/mnist/train-labels-idx1-ubyte.gz to /tmp/MNIST/raw/train-labels-idx1-ubyte.gz\n",
      "29696it [00:00, 13955636.03it/s]                                                \n",
      "Extracting /tmp/MNIST/raw/train-labels-idx1-ubyte.gz to /tmp/MNIST/raw\n",
      "\n",
      "Downloading http://yann.lecun.com/exdb/mnist/t10k-images-idx3-ubyte.gz\n",
      "Downloading http://yann.lecun.com/exdb/mnist/t10k-images-idx3-ubyte.gz to /tmp/MNIST/raw/t10k-images-idx3-ubyte.gz\n",
      "1649664it [00:00, 12395832.07it/s]                                              \n",
      "Extracting /tmp/MNIST/raw/t10k-images-idx3-ubyte.gz to /tmp/MNIST/raw\n",
      "\n",
      "Downloading http://yann.lecun.com/exdb/mnist/t10k-labels-idx1-ubyte.gz\n",
      "Downloading http://yann.lecun.com/exdb/mnist/t10k-labels-idx1-ubyte.gz to /tmp/MNIST/raw/t10k-labels-idx1-ubyte.gz\n",
      "5120it [00:00, 22070746.64it/s]                                                 \n",
      "Extracting /tmp/MNIST/raw/t10k-labels-idx1-ubyte.gz to /tmp/MNIST/raw\n",
      "\n",
      "Processing...\n",
      "/Users/matthewmcateer/.asdf/installs/python/3.9.6/lib/python3.9/site-packages/torchvision/datasets/mnist.py:502: UserWarning: The given NumPy array is not writeable, and PyTorch does not support non-writeable tensors. This means you can write to the underlying (supposedly non-writeable) NumPy array using the tensor. You may want to copy the array to protect its data or make it writeable before converting it to a tensor. This type of warning will be suppressed for the rest of this program. (Triggered internally at  ../torch/csrc/utils/tensor_numpy.cpp:143.)\n",
      "  return torch.from_numpy(parsed.astype(m[2], copy=False)).view(*s)\n",
      "Done!\n"
     ]
    }
   ],
   "source": [
    "\n",
    "!python \"mnist_utils.py\" --option features --reduced 100 --binary\n",
    "     "
   ]
  },
  {
   "cell_type": "markdown",
   "metadata": {},
   "source": [
    "# Data Scientist\n",
    "\n",
    "Training an XOR network using PySyft\n",
    "In this notebook we'll be training an XOR network using PySyft. What's special about this is that the training data will be divided between two domain nodes that are owned by different parties."
   ]
  },
  {
   "cell_type": "code",
   "execution_count": 42,
   "metadata": {},
   "outputs": [],
   "source": [
    "import syft as sy\n",
    "import numpy as np\n",
    "sy.logger.remove()"
   ]
  },
  {
   "cell_type": "code",
   "execution_count": 43,
   "metadata": {},
   "outputs": [
    {
     "name": "stdout",
     "output_type": "stream",
     "text": [
      "Connecting to localhost... done! \t Logging into alice_domain... done!\n",
      "\n",
      "**Warning**: The syft version on your system and the node are different.\n",
      "Version on your system: 0.7.0-beta.60\n",
      "Version on the node: 0.7.0-beta.61\n",
      "\n",
      "Connecting to localhost... done! \t Logging into bob_domain... done!\n",
      "\n",
      "**Warning**: The syft version on your system and the node are different.\n",
      "Version on your system: 0.7.0-beta.60\n",
      "Version on the node: 0.7.0-beta.61\n",
      "\n"
     ]
    }
   ],
   "source": [
    "#@title Logging into the domain Nodes\n",
    "\n",
    "# We will login into ALICE and BOB domain nodes\n",
    "ALICE_node = sy.login(email=\"seven.ofnine@starfleet.com\", password=\"borgcube\", port=8081)\n",
    "BOB_node = sy.login(email=\"seven.ofnine@starfleet.com\", password=\"borgcube\", port=8082)\n",
    "\n"
   ]
  },
  {
   "cell_type": "code",
   "execution_count": 44,
   "metadata": {},
   "outputs": [
    {
     "data": {
      "text/html": [
       "<style>\n",
       "                #myInput {\n",
       "                  background-position: 10px 12px; /* Position the search icon */\n",
       "                  background-repeat: no-repeat; /* Do not repeat the icon image */\n",
       "                  background-color: #bbb;\n",
       "                  width: 98%; /* Full-width */\n",
       "                  font-size: 14px; /* Increase font-size */\n",
       "                  padding: 12px 20px 12px 40px; /* Add some padding */\n",
       "                  border: 1px solid #ddd; /* Add a grey border */\n",
       "                  margin-bottom: 12px; /* Add some space below the input */\n",
       "                }\n",
       "\n",
       "                #myTable {\n",
       "                  border-collapse: collapse; /* Collapse borders */\n",
       "                  width: 100%; /* Full-width */\n",
       "                  border: 1px solid #ddd; /* Add a grey border */\n",
       "                  font-size: 14px; /* Increase font-size */\n",
       "                }\n",
       "\n",
       "                #myTable th, #myTable td {\n",
       "                  text-align: left; /* Left-align text */\n",
       "                  padding: 10px; /* Add padding */\n",
       "                }\n",
       "\n",
       "                #myTable tr {\n",
       "                  /* Add a bottom border to all table rows */\n",
       "                  border-bottom: 1px solid #ddd;\n",
       "                }\n",
       "\n",
       "                #myTable tr.header, #myTable tr:hover {\n",
       "                  /* Add a grey background color to the table header and on hover */\n",
       "                  background-color: #777;\n",
       "                }\n",
       "                </style>\n",
       "\n",
       "                <table id=\"myTable\" style=\"width:1000px\">\n",
       "                  <tr class=\"header\">\n",
       "                    <th style=\"width:30px\">Idx</th>\n",
       "                    <th style=\"width:20%;\">Name</th>\n",
       "                    <th style=\"width:35%;\">Description</th>\n",
       "                    <th style=\"width:20%;\">Assets</th>\n",
       "                    <th style=\"width:300px;\">Id</th>\n",
       "                  </tr>\n",
       "                \n",
       "\n",
       "          <tr>\n",
       "            <td>[0]</td>\n",
       "            <td>Family_Age_Dataset</td>\n",
       "            <td>Our dataset contains the Ages of our four Family members with unique ID's. There are 2 columns and 4 rows in our dataset.</td>\n",
       "            <td>[\"Age_Data\"] -> Tensor<br /><br /></td>\n",
       "            <td>3203340f-f271-4533-874e-c280352be12e</td>\n",
       "          </tr>\n",
       "        </table>\n",
       "\n",
       "        <script>\n",
       "        function myFunction() {\n",
       "          // Declare variables\n",
       "          var input, filter, table, tr, td, i, txtValue;\n",
       "          input = document.getElementById(\"myInput\");\n",
       "          filter = input.value.toUpperCase();\n",
       "          table = document.getElementById(\"myTable\");\n",
       "          tr = table.getElementsByTagName(\"tr\");\n",
       "\n",
       "          // Loop through all table rows, and hide those who don't match the search query\n",
       "          for (i = 0; i < tr.length; i++) {\n",
       "            name_td = tr[i].getElementsByTagName(\"td\")[1];\n",
       "            desc_td = tr[i].getElementsByTagName(\"td\")[2];\n",
       "            asset_td = tr[i].getElementsByTagName(\"td\")[3];\n",
       "            id_td = tr[i].getElementsByTagName(\"td\")[4];\n",
       "            if (name_td || desc_td || asset_td || id_td) {\n",
       "              name_txtValue = name_td.textContent || name_td.innerText;\n",
       "              desc_txtValue = desc_td.textContent || name_td.innerText;\n",
       "              asset_txtValue = asset_td.textContent || name_td.innerText;\n",
       "              id_txtValue = id_td.textContent || name_td.innerText;\n",
       "              name_bool = name_txtValue.toUpperCase().indexOf(filter) > -1;\n",
       "              desc_bool = desc_txtValue.toUpperCase().indexOf(filter) > -1;\n",
       "              asset_bool = asset_txtValue.toUpperCase().indexOf(filter) > -1;\n",
       "              id_bool = id_txtValue.toUpperCase().indexOf(filter) > -1;\n",
       "              if (name_bool || desc_bool || asset_bool || id_bool) {\n",
       "                tr[i].style.display = \"\";\n",
       "              } else {\n",
       "                tr[i].style.display = \"none\";\n",
       "              }\n",
       "            }\n",
       "          }\n",
       "        }\n",
       "        </script>"
      ],
      "text/plain": [
       "<syft.core.node.common.client_manager.dataset_api.DatasetRequestAPI at 0x14a35a550>"
      ]
     },
     "execution_count": 44,
     "metadata": {},
     "output_type": "execute_result"
    }
   ],
   "source": [
    "ALICE_node.datasets\n"
   ]
  },
  {
   "cell_type": "code",
   "execution_count": 45,
   "metadata": {
    "scrolled": true
   },
   "outputs": [
    {
     "data": {
      "text/html": [
       "<style>\n",
       "                #myInput {\n",
       "                  background-position: 10px 12px; /* Position the search icon */\n",
       "                  background-repeat: no-repeat; /* Do not repeat the icon image */\n",
       "                  background-color: #bbb;\n",
       "                  width: 98%; /* Full-width */\n",
       "                  font-size: 14px; /* Increase font-size */\n",
       "                  padding: 12px 20px 12px 40px; /* Add some padding */\n",
       "                  border: 1px solid #ddd; /* Add a grey border */\n",
       "                  margin-bottom: 12px; /* Add some space below the input */\n",
       "                }\n",
       "\n",
       "                #myTable {\n",
       "                  border-collapse: collapse; /* Collapse borders */\n",
       "                  width: 100%; /* Full-width */\n",
       "                  border: 1px solid #ddd; /* Add a grey border */\n",
       "                  font-size: 14px; /* Increase font-size */\n",
       "                }\n",
       "\n",
       "                #myTable th, #myTable td {\n",
       "                  text-align: left; /* Left-align text */\n",
       "                  padding: 10px; /* Add padding */\n",
       "                }\n",
       "\n",
       "                #myTable tr {\n",
       "                  /* Add a bottom border to all table rows */\n",
       "                  border-bottom: 1px solid #ddd;\n",
       "                }\n",
       "\n",
       "                #myTable tr.header, #myTable tr:hover {\n",
       "                  /* Add a grey background color to the table header and on hover */\n",
       "                  background-color: #777;\n",
       "                }\n",
       "                </style>\n",
       "\n",
       "                <table id=\"myTable\" style=\"width:1000px\">\n",
       "                  <tr class=\"header\">\n",
       "                    <th style=\"width:30px\">Idx</th>\n",
       "                    <th style=\"width:20%;\">Name</th>\n",
       "                    <th style=\"width:35%;\">Description</th>\n",
       "                    <th style=\"width:20%;\">Assets</th>\n",
       "                    <th style=\"width:300px;\">Id</th>\n",
       "                  </tr>\n",
       "                \n",
       "\n",
       "          <tr>\n",
       "            <td>[0]</td>\n",
       "            <td>Family_Age_Dataset</td>\n",
       "            <td>Our dataset contains the Ages of our four Family members with unique ID's. There are 2 columns and 4 rows in our dataset.</td>\n",
       "            <td>[\"Age_Data\"] -> Tensor<br /><br /></td>\n",
       "            <td>07fff0f5-9fe7-47e9-b884-635857b5d43f</td>\n",
       "          </tr>\n",
       "        </table>\n",
       "\n",
       "        <script>\n",
       "        function myFunction() {\n",
       "          // Declare variables\n",
       "          var input, filter, table, tr, td, i, txtValue;\n",
       "          input = document.getElementById(\"myInput\");\n",
       "          filter = input.value.toUpperCase();\n",
       "          table = document.getElementById(\"myTable\");\n",
       "          tr = table.getElementsByTagName(\"tr\");\n",
       "\n",
       "          // Loop through all table rows, and hide those who don't match the search query\n",
       "          for (i = 0; i < tr.length; i++) {\n",
       "            name_td = tr[i].getElementsByTagName(\"td\")[1];\n",
       "            desc_td = tr[i].getElementsByTagName(\"td\")[2];\n",
       "            asset_td = tr[i].getElementsByTagName(\"td\")[3];\n",
       "            id_td = tr[i].getElementsByTagName(\"td\")[4];\n",
       "            if (name_td || desc_td || asset_td || id_td) {\n",
       "              name_txtValue = name_td.textContent || name_td.innerText;\n",
       "              desc_txtValue = desc_td.textContent || name_td.innerText;\n",
       "              asset_txtValue = asset_td.textContent || name_td.innerText;\n",
       "              id_txtValue = id_td.textContent || name_td.innerText;\n",
       "              name_bool = name_txtValue.toUpperCase().indexOf(filter) > -1;\n",
       "              desc_bool = desc_txtValue.toUpperCase().indexOf(filter) > -1;\n",
       "              asset_bool = asset_txtValue.toUpperCase().indexOf(filter) > -1;\n",
       "              id_bool = id_txtValue.toUpperCase().indexOf(filter) > -1;\n",
       "              if (name_bool || desc_bool || asset_bool || id_bool) {\n",
       "                tr[i].style.display = \"\";\n",
       "              } else {\n",
       "                tr[i].style.display = \"none\";\n",
       "              }\n",
       "            }\n",
       "          }\n",
       "        }\n",
       "        </script>"
      ],
      "text/plain": [
       "<syft.core.node.common.client_manager.dataset_api.DatasetRequestAPI at 0x14a83de50>"
      ]
     },
     "execution_count": 45,
     "metadata": {},
     "output_type": "execute_result"
    }
   ],
   "source": [
    "BOB_node.datasets\n"
   ]
  },
  {
   "cell_type": "code",
   "execution_count": 46,
   "metadata": {},
   "outputs": [
    {
     "data": {
      "text/plain": [
       "9999999.0"
      ]
     },
     "execution_count": 46,
     "metadata": {},
     "output_type": "execute_result"
    }
   ],
   "source": [
    "ALICE_node.privacy_budget"
   ]
  },
  {
   "cell_type": "code",
   "execution_count": 47,
   "metadata": {},
   "outputs": [
    {
     "data": {
      "text/plain": [
       "9999999.0"
      ]
     },
     "execution_count": 47,
     "metadata": {},
     "output_type": "execute_result"
    }
   ],
   "source": [
    "BOB_node.privacy_budget"
   ]
  },
  {
   "cell_type": "code",
   "execution_count": null,
   "metadata": {},
   "outputs": [],
   "source": [
    "ALICE_node_train_data = ALICE_node.datasets[-1][\"training_data\"]\n",
    "ALICE_node_targets_data = ALICE_node.datasets[-1][\"training_targets\"]\n",
    "BOB_node_train_data = BOB_node.datasets[-1][\"training_data\"]\n",
    "BOB_node_targets_data = BOB_node.datasets[-1][\"training_targets\"]\n"
   ]
  },
  {
   "cell_type": "code",
   "execution_count": null,
   "metadata": {},
   "outputs": [],
   "source": [
    "train_data = ALICE_node_train_data.concatenate(BOB_node_train_data)\n",
    "targets_data = ALICE_node_targets_data.concatenate(BOB_node_targets_data)\n",
    "X = train_data\n",
    "y = targets_data"
   ]
  },
  {
   "cell_type": "code",
   "execution_count": null,
   "metadata": {},
   "outputs": [],
   "source": [
    "def relu(x,deriv=False):\n",
    "    if deriv==True:\n",
    "        return x>0\n",
    "    return x*(x>0)"
   ]
  },
  {
   "cell_type": "code",
   "execution_count": null,
   "metadata": {},
   "outputs": [],
   "source": [
    "layer0_weights = 2*np.random.random((3,4)) - 1\n",
    "layer1_weights = 2*np.random.random((4,1)) - 1"
   ]
  },
  {
   "cell_type": "code",
   "execution_count": null,
   "metadata": {},
   "outputs": [],
   "source": [
    "for j in range(1):\n",
    "    # Forward propagation\n",
    "    layer1_inputs = relu(X @ layer0_weights)  ; layer1_inputs.block\n",
    "    layer2_inputs = relu(layer1_inputs @ layer1_weights) ; layer2_inputs.block \n",
    "    \n",
    "    # Calculate errors\n",
    "    layer2_inputs_delta = (y - layer2_inputs)* relu(layer2_inputs,deriv=True) ; layer2_inputs_delta.block\n",
    "    layer1_inputs_delta = (layer2_inputs_delta@(layer1_weights.T)) * relu(layer1_inputs,deriv=True) ; layer1_inputs_delta.block\n",
    "    \n",
    "    # Update weights\n",
    "    layer1_weights  = layer1_weights + layer1_inputs.T @ layer2_inputs_delta ; layer1_weights.block\n",
    "    layer0_weights =  layer0_weights + X.T @ layer1_inputs_delta ; layer0_weights.block"
   ]
  },
  {
   "cell_type": "code",
   "execution_count": null,
   "metadata": {},
   "outputs": [],
   "source": [
    "layer0_weights_dp = layer0_weights.publish(sigma=1e4)\n",
    "layer1_weights_dp = layer1_weights.publish(sigma=1e4)"
   ]
  },
  {
   "cell_type": "code",
   "execution_count": null,
   "metadata": {},
   "outputs": [],
   "source": [
    "print(layer0_weights_dp.get_copy())\n",
    "print(layer1_weights_dp.get_copy())"
   ]
  },
  {
   "cell_type": "markdown",
   "metadata": {},
   "source": [
    "Let's see how our privacy budget changed as a result of training for a single epoch:"
   ]
  },
  {
   "cell_type": "code",
   "execution_count": null,
   "metadata": {},
   "outputs": [],
   "source": [
    "ALICE_node.privacy_budget"
   ]
  },
  {
   "cell_type": "code",
   "execution_count": null,
   "metadata": {},
   "outputs": [],
   "source": [
    "BOB_node.privacy_budget"
   ]
  },
  {
   "cell_type": "markdown",
   "metadata": {},
   "source": [
    "And voila! We've trained a neural network using PySyft's adversaril differential privacy system and its secure multiparty computation system working in tandem."
   ]
  }
 ],
 "metadata": {
  "accelerator": "GPU",
  "colab": {
   "machine_shape": "hm",
   "provenance": []
  },
  "kernelspec": {
   "display_name": "Python 3 (ipykernel)",
   "language": "python",
   "name": "python3"
  },
  "language_info": {
   "codemirror_mode": {
    "name": "ipython",
    "version": 3
   },
   "file_extension": ".py",
   "mimetype": "text/x-python",
   "name": "python",
   "nbconvert_exporter": "python",
   "pygments_lexer": "ipython3",
   "version": "3.9.0 (default, Dec 11 2020, 03:26:52) \n[Clang 12.0.0 (clang-1200.0.32.21)]"
  },
  "vscode": {
   "interpreter": {
    "hash": "b6b7e97e50c754c7aee36d85160e6764033ec8a20165f676e018446c78d531c2"
   }
  }
 },
 "nbformat": 4,
 "nbformat_minor": 1
}
